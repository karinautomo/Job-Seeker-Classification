{
 "cells": [
  {
   "cell_type": "markdown",
   "metadata": {},
   "source": [
    "# Milestone 2"
   ]
  },
  {
   "cell_type": "markdown",
   "metadata": {},
   "source": [
    "# Introduction"
   ]
  },
  {
   "cell_type": "markdown",
   "metadata": {},
   "source": [
    "Nama: Karina Maharani Utomo\n",
    "<br>\n",
    "Batch: 003\n",
    "<br>\n",
    "Hacktiv8 Full Time Data Science Program\n",
    "\n",
    "Pada Milestone Project ini, akan digunakan Dataset HR Analytics yang dapat diakses [disini](https://www.kaggle.com/arashnic/hr-analytics-job-change-of-data-scientists)\n",
    "\n",
    "**Deskripsi dari Dataset** yang digunakan adalah sebagai berikut:\n",
    "<br>\n",
    "A company which is active in Big Data and Data Science wants to hire data scientists among people who successfully pass some courses which conduct by the company. Many people signup for their training. Company wants to know which of these candidates really want to work for the company after training and which ones are looking for a new employment, because it helps to reduce the cost and time as well as the quality of training or planning the courses and categorization of candidates. Information related to demographics, education, experience are in hands from candidates signup and enrollment.\n",
    "\n",
    "This dataset designed to understand the factors that lead a person to leave current job for HR researches too. By model(s) that uses the current credentials,demographics,experience data you will predict the probability of a candidate to look for a new job or will work for the company, as well as interpreting affected factors on employee decision.\n",
    "\n",
    "The whole data divided to train and test. Target isn't included in test but the test target values data file is in hands for related tasks\n",
    "\n",
    "**Features**\n",
    "- enrollee_id : Unique ID for candidate\n",
    "- city: City code\n",
    "- city_ development _index : Developement index of the city (scaled)\n",
    "- gender: Gender of candidate\n",
    "- relevent_experience: Relevant experience of candidate\n",
    "- enrolled_university: Type of University course enrolled if any\n",
    "- education_level: Education level of candidate\n",
    "- major_discipline :Education major discipline of candidate\n",
    "- experience: Candidate total experience in years\n",
    "- company_size: No of employees in current employer's company\n",
    "- company_type : Type of current employer\n",
    "- lastnewjob: Difference in years between previous job and current job\n",
    "- training_hours: training hours completed\n",
    "- target: 0 – Not looking for job change, 1 – Looking for a job change\n",
    "\n",
    "**Objektif** dari Milestone Project ini adalah membuat model klasifikasi yang dapat memprediksi apakah seorang Data Scientist ingin tetap bekerja di perusahaan yang sekarang atau ingin mencari pekerjaan baru"
   ]
  },
  {
   "cell_type": "markdown",
   "metadata": {},
   "source": [
    "# Import Libraries"
   ]
  },
  {
   "cell_type": "code",
   "execution_count": 1,
   "metadata": {},
   "outputs": [],
   "source": [
    "import numpy as np\n",
    "import pandas as pd\n",
    "import matplotlib.pyplot as plt\n",
    "import seaborn as sns\n",
    "\n",
    "from sklearn.model_selection import train_test_split\n",
    "\n",
    "from sklearn.base import BaseEstimator, TransformerMixin\n",
    "from sklearn.pipeline import Pipeline\n",
    "from sklearn.preprocessing import StandardScaler\n",
    "from sklearn.preprocessing import LabelEncoder, OneHotEncoder\n",
    "from sklearn.pipeline import FeatureUnion\n",
    "\n",
    "from sklearn.model_selection import cross_val_score, GridSearchCV\n",
    "\n",
    "from sklearn.linear_model import LogisticRegression\n",
    "from sklearn.svm import SVC\n",
    "from sklearn.tree import DecisionTreeClassifier\n",
    "from sklearn.ensemble import RandomForestClassifier, AdaBoostClassifier, GradientBoostingClassifier\n",
    "from sklearn.neighbors import KNeighborsClassifier\n",
    "from sklearn.naive_bayes import GaussianNB\n",
    "\n",
    "from sklearn.metrics import roc_auc_score, recall_score, precision_score\n",
    "from sklearn.metrics import confusion_matrix, classification_report, roc_curve\n",
    "\n",
    "from imblearn.over_sampling import SMOTE\n",
    "\n",
    "%matplotlib inline"
   ]
  },
  {
   "cell_type": "markdown",
   "metadata": {},
   "source": [
    "# Data Loading"
   ]
  },
  {
   "cell_type": "code",
   "execution_count": 2,
   "metadata": {},
   "outputs": [],
   "source": [
    "# Loading Data\n",
    "\n",
    "df_train = pd.read_csv('aug_train.csv')\n",
    "df_test = pd.read_csv('aug_test.csv')"
   ]
  },
  {
   "cell_type": "code",
   "execution_count": 3,
   "metadata": {},
   "outputs": [
    {
     "data": {
      "text/html": [
       "<div>\n",
       "<style scoped>\n",
       "    .dataframe tbody tr th:only-of-type {\n",
       "        vertical-align: middle;\n",
       "    }\n",
       "\n",
       "    .dataframe tbody tr th {\n",
       "        vertical-align: top;\n",
       "    }\n",
       "\n",
       "    .dataframe thead th {\n",
       "        text-align: right;\n",
       "    }\n",
       "</style>\n",
       "<table border=\"1\" class=\"dataframe\">\n",
       "  <thead>\n",
       "    <tr style=\"text-align: right;\">\n",
       "      <th></th>\n",
       "      <th>enrollee_id</th>\n",
       "      <th>city</th>\n",
       "      <th>city_development_index</th>\n",
       "      <th>gender</th>\n",
       "      <th>relevent_experience</th>\n",
       "      <th>enrolled_university</th>\n",
       "      <th>education_level</th>\n",
       "      <th>major_discipline</th>\n",
       "      <th>experience</th>\n",
       "      <th>company_size</th>\n",
       "      <th>company_type</th>\n",
       "      <th>last_new_job</th>\n",
       "      <th>training_hours</th>\n",
       "      <th>target</th>\n",
       "    </tr>\n",
       "  </thead>\n",
       "  <tbody>\n",
       "    <tr>\n",
       "      <th>0</th>\n",
       "      <td>8949</td>\n",
       "      <td>city_103</td>\n",
       "      <td>0.920</td>\n",
       "      <td>Male</td>\n",
       "      <td>Has relevent experience</td>\n",
       "      <td>no_enrollment</td>\n",
       "      <td>Graduate</td>\n",
       "      <td>STEM</td>\n",
       "      <td>&gt;20</td>\n",
       "      <td>NaN</td>\n",
       "      <td>NaN</td>\n",
       "      <td>1</td>\n",
       "      <td>36</td>\n",
       "      <td>1.0</td>\n",
       "    </tr>\n",
       "    <tr>\n",
       "      <th>1</th>\n",
       "      <td>29725</td>\n",
       "      <td>city_40</td>\n",
       "      <td>0.776</td>\n",
       "      <td>Male</td>\n",
       "      <td>No relevent experience</td>\n",
       "      <td>no_enrollment</td>\n",
       "      <td>Graduate</td>\n",
       "      <td>STEM</td>\n",
       "      <td>15</td>\n",
       "      <td>50-99</td>\n",
       "      <td>Pvt Ltd</td>\n",
       "      <td>&gt;4</td>\n",
       "      <td>47</td>\n",
       "      <td>0.0</td>\n",
       "    </tr>\n",
       "    <tr>\n",
       "      <th>2</th>\n",
       "      <td>11561</td>\n",
       "      <td>city_21</td>\n",
       "      <td>0.624</td>\n",
       "      <td>NaN</td>\n",
       "      <td>No relevent experience</td>\n",
       "      <td>Full time course</td>\n",
       "      <td>Graduate</td>\n",
       "      <td>STEM</td>\n",
       "      <td>5</td>\n",
       "      <td>NaN</td>\n",
       "      <td>NaN</td>\n",
       "      <td>never</td>\n",
       "      <td>83</td>\n",
       "      <td>0.0</td>\n",
       "    </tr>\n",
       "    <tr>\n",
       "      <th>3</th>\n",
       "      <td>33241</td>\n",
       "      <td>city_115</td>\n",
       "      <td>0.789</td>\n",
       "      <td>NaN</td>\n",
       "      <td>No relevent experience</td>\n",
       "      <td>NaN</td>\n",
       "      <td>Graduate</td>\n",
       "      <td>Business Degree</td>\n",
       "      <td>&lt;1</td>\n",
       "      <td>NaN</td>\n",
       "      <td>Pvt Ltd</td>\n",
       "      <td>never</td>\n",
       "      <td>52</td>\n",
       "      <td>1.0</td>\n",
       "    </tr>\n",
       "    <tr>\n",
       "      <th>4</th>\n",
       "      <td>666</td>\n",
       "      <td>city_162</td>\n",
       "      <td>0.767</td>\n",
       "      <td>Male</td>\n",
       "      <td>Has relevent experience</td>\n",
       "      <td>no_enrollment</td>\n",
       "      <td>Masters</td>\n",
       "      <td>STEM</td>\n",
       "      <td>&gt;20</td>\n",
       "      <td>50-99</td>\n",
       "      <td>Funded Startup</td>\n",
       "      <td>4</td>\n",
       "      <td>8</td>\n",
       "      <td>0.0</td>\n",
       "    </tr>\n",
       "  </tbody>\n",
       "</table>\n",
       "</div>"
      ],
      "text/plain": [
       "   enrollee_id      city  city_development_index gender  \\\n",
       "0         8949  city_103                   0.920   Male   \n",
       "1        29725   city_40                   0.776   Male   \n",
       "2        11561   city_21                   0.624    NaN   \n",
       "3        33241  city_115                   0.789    NaN   \n",
       "4          666  city_162                   0.767   Male   \n",
       "\n",
       "       relevent_experience enrolled_university education_level  \\\n",
       "0  Has relevent experience       no_enrollment        Graduate   \n",
       "1   No relevent experience       no_enrollment        Graduate   \n",
       "2   No relevent experience    Full time course        Graduate   \n",
       "3   No relevent experience                 NaN        Graduate   \n",
       "4  Has relevent experience       no_enrollment         Masters   \n",
       "\n",
       "  major_discipline experience company_size    company_type last_new_job  \\\n",
       "0             STEM        >20          NaN             NaN            1   \n",
       "1             STEM         15        50-99         Pvt Ltd           >4   \n",
       "2             STEM          5          NaN             NaN        never   \n",
       "3  Business Degree         <1          NaN         Pvt Ltd        never   \n",
       "4             STEM        >20        50-99  Funded Startup            4   \n",
       "\n",
       "   training_hours  target  \n",
       "0              36     1.0  \n",
       "1              47     0.0  \n",
       "2              83     0.0  \n",
       "3              52     1.0  \n",
       "4               8     0.0  "
      ]
     },
     "execution_count": 3,
     "metadata": {},
     "output_type": "execute_result"
    }
   ],
   "source": [
    "df_train.head()"
   ]
  },
  {
   "cell_type": "code",
   "execution_count": 4,
   "metadata": {},
   "outputs": [
    {
     "data": {
      "text/html": [
       "<div>\n",
       "<style scoped>\n",
       "    .dataframe tbody tr th:only-of-type {\n",
       "        vertical-align: middle;\n",
       "    }\n",
       "\n",
       "    .dataframe tbody tr th {\n",
       "        vertical-align: top;\n",
       "    }\n",
       "\n",
       "    .dataframe thead th {\n",
       "        text-align: right;\n",
       "    }\n",
       "</style>\n",
       "<table border=\"1\" class=\"dataframe\">\n",
       "  <thead>\n",
       "    <tr style=\"text-align: right;\">\n",
       "      <th></th>\n",
       "      <th>enrollee_id</th>\n",
       "      <th>city</th>\n",
       "      <th>city_development_index</th>\n",
       "      <th>gender</th>\n",
       "      <th>relevent_experience</th>\n",
       "      <th>enrolled_university</th>\n",
       "      <th>education_level</th>\n",
       "      <th>major_discipline</th>\n",
       "      <th>experience</th>\n",
       "      <th>company_size</th>\n",
       "      <th>company_type</th>\n",
       "      <th>last_new_job</th>\n",
       "      <th>training_hours</th>\n",
       "    </tr>\n",
       "  </thead>\n",
       "  <tbody>\n",
       "    <tr>\n",
       "      <th>0</th>\n",
       "      <td>32403</td>\n",
       "      <td>city_41</td>\n",
       "      <td>0.827</td>\n",
       "      <td>Male</td>\n",
       "      <td>Has relevent experience</td>\n",
       "      <td>Full time course</td>\n",
       "      <td>Graduate</td>\n",
       "      <td>STEM</td>\n",
       "      <td>9</td>\n",
       "      <td>&lt;10</td>\n",
       "      <td>NaN</td>\n",
       "      <td>1</td>\n",
       "      <td>21</td>\n",
       "    </tr>\n",
       "    <tr>\n",
       "      <th>1</th>\n",
       "      <td>9858</td>\n",
       "      <td>city_103</td>\n",
       "      <td>0.920</td>\n",
       "      <td>Female</td>\n",
       "      <td>Has relevent experience</td>\n",
       "      <td>no_enrollment</td>\n",
       "      <td>Graduate</td>\n",
       "      <td>STEM</td>\n",
       "      <td>5</td>\n",
       "      <td>NaN</td>\n",
       "      <td>Pvt Ltd</td>\n",
       "      <td>1</td>\n",
       "      <td>98</td>\n",
       "    </tr>\n",
       "    <tr>\n",
       "      <th>2</th>\n",
       "      <td>31806</td>\n",
       "      <td>city_21</td>\n",
       "      <td>0.624</td>\n",
       "      <td>Male</td>\n",
       "      <td>No relevent experience</td>\n",
       "      <td>no_enrollment</td>\n",
       "      <td>High School</td>\n",
       "      <td>NaN</td>\n",
       "      <td>&lt;1</td>\n",
       "      <td>NaN</td>\n",
       "      <td>Pvt Ltd</td>\n",
       "      <td>never</td>\n",
       "      <td>15</td>\n",
       "    </tr>\n",
       "    <tr>\n",
       "      <th>3</th>\n",
       "      <td>27385</td>\n",
       "      <td>city_13</td>\n",
       "      <td>0.827</td>\n",
       "      <td>Male</td>\n",
       "      <td>Has relevent experience</td>\n",
       "      <td>no_enrollment</td>\n",
       "      <td>Masters</td>\n",
       "      <td>STEM</td>\n",
       "      <td>11</td>\n",
       "      <td>10/49</td>\n",
       "      <td>Pvt Ltd</td>\n",
       "      <td>1</td>\n",
       "      <td>39</td>\n",
       "    </tr>\n",
       "    <tr>\n",
       "      <th>4</th>\n",
       "      <td>27724</td>\n",
       "      <td>city_103</td>\n",
       "      <td>0.920</td>\n",
       "      <td>Male</td>\n",
       "      <td>Has relevent experience</td>\n",
       "      <td>no_enrollment</td>\n",
       "      <td>Graduate</td>\n",
       "      <td>STEM</td>\n",
       "      <td>&gt;20</td>\n",
       "      <td>10000+</td>\n",
       "      <td>Pvt Ltd</td>\n",
       "      <td>&gt;4</td>\n",
       "      <td>72</td>\n",
       "    </tr>\n",
       "  </tbody>\n",
       "</table>\n",
       "</div>"
      ],
      "text/plain": [
       "   enrollee_id      city  city_development_index  gender  \\\n",
       "0        32403   city_41                   0.827    Male   \n",
       "1         9858  city_103                   0.920  Female   \n",
       "2        31806   city_21                   0.624    Male   \n",
       "3        27385   city_13                   0.827    Male   \n",
       "4        27724  city_103                   0.920    Male   \n",
       "\n",
       "       relevent_experience enrolled_university education_level  \\\n",
       "0  Has relevent experience    Full time course        Graduate   \n",
       "1  Has relevent experience       no_enrollment        Graduate   \n",
       "2   No relevent experience       no_enrollment     High School   \n",
       "3  Has relevent experience       no_enrollment         Masters   \n",
       "4  Has relevent experience       no_enrollment        Graduate   \n",
       "\n",
       "  major_discipline experience company_size company_type last_new_job  \\\n",
       "0             STEM          9          <10          NaN            1   \n",
       "1             STEM          5          NaN      Pvt Ltd            1   \n",
       "2              NaN         <1          NaN      Pvt Ltd        never   \n",
       "3             STEM         11        10/49      Pvt Ltd            1   \n",
       "4             STEM        >20       10000+      Pvt Ltd           >4   \n",
       "\n",
       "   training_hours  \n",
       "0              21  \n",
       "1              98  \n",
       "2              15  \n",
       "3              39  \n",
       "4              72  "
      ]
     },
     "execution_count": 4,
     "metadata": {},
     "output_type": "execute_result"
    }
   ],
   "source": [
    "df_test.head()"
   ]
  },
  {
   "cell_type": "code",
   "execution_count": 5,
   "metadata": {},
   "outputs": [
    {
     "name": "stdout",
     "output_type": "stream",
     "text": [
      "Shape data train: (19158, 14)\n",
      "Shape data test : (2129, 13)\n"
     ]
    }
   ],
   "source": [
    "print('Shape data train:', df_train.shape)\n",
    "print('Shape data test :', df_test.shape)"
   ]
  },
  {
   "cell_type": "markdown",
   "metadata": {},
   "source": [
    "Dataset ini menyediakan dua file data. Satu untuk digunakan sebagai train data dan satunya lagi untuk test data. Terdapat 19158 baris pada train data dan 2129 baris pada test data. Dapat dilihat bahwa train data memiliki 14 kolom, sedangkan test data hanya memiliki 13. Hal ini karena pada test data tidak disertakan dengan kolom `target`. Tujuan akhir dari Milestone Project ini adalah untuk memprediksi kolom `target` pada test data tersebut"
   ]
  },
  {
   "cell_type": "code",
   "execution_count": 6,
   "metadata": {},
   "outputs": [
    {
     "name": "stdout",
     "output_type": "stream",
     "text": [
      "<class 'pandas.core.frame.DataFrame'>\n",
      "RangeIndex: 19158 entries, 0 to 19157\n",
      "Data columns (total 14 columns):\n",
      " #   Column                  Non-Null Count  Dtype  \n",
      "---  ------                  --------------  -----  \n",
      " 0   enrollee_id             19158 non-null  int64  \n",
      " 1   city                    19158 non-null  object \n",
      " 2   city_development_index  19158 non-null  float64\n",
      " 3   gender                  14650 non-null  object \n",
      " 4   relevent_experience     19158 non-null  object \n",
      " 5   enrolled_university     18772 non-null  object \n",
      " 6   education_level         18698 non-null  object \n",
      " 7   major_discipline        16345 non-null  object \n",
      " 8   experience              19093 non-null  object \n",
      " 9   company_size            13220 non-null  object \n",
      " 10  company_type            13018 non-null  object \n",
      " 11  last_new_job            18735 non-null  object \n",
      " 12  training_hours          19158 non-null  int64  \n",
      " 13  target                  19158 non-null  float64\n",
      "dtypes: float64(2), int64(2), object(10)\n",
      "memory usage: 2.0+ MB\n"
     ]
    }
   ],
   "source": [
    "df_train.info()"
   ]
  },
  {
   "cell_type": "code",
   "execution_count": 7,
   "metadata": {},
   "outputs": [
    {
     "name": "stdout",
     "output_type": "stream",
     "text": [
      "<class 'pandas.core.frame.DataFrame'>\n",
      "RangeIndex: 2129 entries, 0 to 2128\n",
      "Data columns (total 13 columns):\n",
      " #   Column                  Non-Null Count  Dtype  \n",
      "---  ------                  --------------  -----  \n",
      " 0   enrollee_id             2129 non-null   int64  \n",
      " 1   city                    2129 non-null   object \n",
      " 2   city_development_index  2129 non-null   float64\n",
      " 3   gender                  1621 non-null   object \n",
      " 4   relevent_experience     2129 non-null   object \n",
      " 5   enrolled_university     2098 non-null   object \n",
      " 6   education_level         2077 non-null   object \n",
      " 7   major_discipline        1817 non-null   object \n",
      " 8   experience              2124 non-null   object \n",
      " 9   company_size            1507 non-null   object \n",
      " 10  company_type            1495 non-null   object \n",
      " 11  last_new_job            2089 non-null   object \n",
      " 12  training_hours          2129 non-null   int64  \n",
      "dtypes: float64(1), int64(2), object(10)\n",
      "memory usage: 216.4+ KB\n"
     ]
    }
   ],
   "source": [
    "df_test.info()"
   ]
  },
  {
   "cell_type": "markdown",
   "metadata": {},
   "source": [
    "Features dari dataset ini terdiri dari 3 features numerik dan 10 features kategorikal"
   ]
  },
  {
   "cell_type": "code",
   "execution_count": 8,
   "metadata": {},
   "outputs": [
    {
     "data": {
      "text/plain": [
       "enrollee_id                0.000000\n",
       "city                       0.000000\n",
       "city_development_index     0.000000\n",
       "gender                    23.530640\n",
       "relevent_experience        0.000000\n",
       "enrolled_university        2.014824\n",
       "education_level            2.401086\n",
       "major_discipline          14.683161\n",
       "experience                 0.339284\n",
       "company_size              30.994885\n",
       "company_type              32.049274\n",
       "last_new_job               2.207955\n",
       "training_hours             0.000000\n",
       "target                     0.000000\n",
       "dtype: float64"
      ]
     },
     "execution_count": 8,
     "metadata": {},
     "output_type": "execute_result"
    }
   ],
   "source": [
    "df_train.isnull().sum()/len(df_train)*100"
   ]
  },
  {
   "cell_type": "code",
   "execution_count": 9,
   "metadata": {},
   "outputs": [
    {
     "data": {
      "text/plain": [
       "enrollee_id                0.000000\n",
       "city                       0.000000\n",
       "city_development_index     0.000000\n",
       "gender                    23.860968\n",
       "relevent_experience        0.000000\n",
       "enrolled_university        1.456083\n",
       "education_level            2.442461\n",
       "major_discipline          14.654767\n",
       "experience                 0.234852\n",
       "company_size              29.215594\n",
       "company_type              29.779239\n",
       "last_new_job               1.878816\n",
       "training_hours             0.000000\n",
       "dtype: float64"
      ]
     },
     "execution_count": 9,
     "metadata": {},
     "output_type": "execute_result"
    }
   ],
   "source": [
    "df_test.isnull().sum()/len(df_test)*100"
   ]
  },
  {
   "cell_type": "markdown",
   "metadata": {},
   "source": [
    "Tidak terdapat missing value pada features numerik dan terdapat 8 features kategorikal dengan missing values"
   ]
  },
  {
   "cell_type": "code",
   "execution_count": 10,
   "metadata": {},
   "outputs": [
    {
     "data": {
      "image/png": "[encoded data removed]",
      "text/plain": [
       "<Figure size 576x360 with 1 Axes>"
      ]
     },
     "metadata": {
      "needs_background": "light"
     },
     "output_type": "display_data"
    },
    {
     "name": "stdout",
     "output_type": "stream",
     "text": [
      "Data Scientist (DS) yang mencari pekerjaan baru      : 4777  (24.935 %)\n",
      "Data Scientist (DS) yang tidak mencari pekerjaan baru: 14381 (75.065 %)\n"
     ]
    }
   ],
   "source": [
    "plt.figure(figsize = (8,5))\n",
    "sns.countplot(data = df_train, x = df_train['target'], palette = ['#82BB92' ,'#384169'])\n",
    "plt.show()\n",
    "\n",
    "t1 = df_train[df_train['target'] == 1]['enrollee_id'].count()\n",
    "t0 = df_train[df_train['target'] == 0]['enrollee_id'].count()\n",
    "length = len(df_train)\n",
    "\n",
    "print(f'Data Scientist (DS) yang mencari pekerjaan baru      : {t1}  ({((t1/length)*100).round(3)} %)')\n",
    "print(f'Data Scientist (DS) yang tidak mencari pekerjaan baru: {t0} ({((t0/length)*100).round(3)} %)')"
   ]
  },
  {
   "cell_type": "markdown",
   "metadata": {},
   "source": [
    "Dapat dilihat bahwa ini merupakan dataset yang imbalanced. Hal ini dapat memengaruhi performa model nantinya"
   ]
  },
  {
   "cell_type": "markdown",
   "metadata": {},
   "source": [
    "# Data Cleaning"
   ]
  },
  {
   "cell_type": "code",
   "execution_count": 11,
   "metadata": {},
   "outputs": [],
   "source": [
    "df_train.drop('enrollee_id', axis = 1, inplace = True)\n",
    "df_test.drop('enrollee_id', axis = 1, inplace = True)"
   ]
  },
  {
   "cell_type": "markdown",
   "metadata": {},
   "source": [
    "Diputuskan untuk menghapus kolom `enrollee_id` karena memiliki value yang bersifat unik. Lalu, sebelum proses data cleaning, akan dilakukan splitting data terlebih dahulu. Train data akan di-split menjadi dua, satu untuk model training dan satunya untuk validation. Hal ini untuk melihat apakah terjadi overfitting pada suatu model atau tidak"
   ]
  },
  {
   "cell_type": "code",
   "execution_count": 12,
   "metadata": {},
   "outputs": [],
   "source": [
    "# Menseleksi features dan target\n",
    "\n",
    "X = df_train.drop('target', axis = 1)\n",
    "y = df_train['target']"
   ]
  },
  {
   "cell_type": "code",
   "execution_count": 13,
   "metadata": {},
   "outputs": [],
   "source": [
    "# Splitting data\n",
    "\n",
    "X_train, X_val, y_train, y_val = train_test_split(X, y, test_size = 0.2, random_state = 0, shuffle=True, stratify = y)"
   ]
  },
  {
   "cell_type": "code",
   "execution_count": 14,
   "metadata": {},
   "outputs": [
    {
     "name": "stdout",
     "output_type": "stream",
     "text": [
      "Jumlah baris train data     : 15326\n",
      "Jumlah baris validation data: 3832\n",
      "Jumlah baris test data      : 2129\n"
     ]
    }
   ],
   "source": [
    "print('Jumlah baris train data     :', X_train.shape[0])\n",
    "print('Jumlah baris validation data:', X_val.shape[0])\n",
    "print('Jumlah baris test data      :', df_test.shape[0])"
   ]
  },
  {
   "cell_type": "code",
   "execution_count": 15,
   "metadata": {},
   "outputs": [
    {
     "name": "stdout",
     "output_type": "stream",
     "text": [
      "Presentase data DS yang mencari pekerjaan baru\n",
      "\n",
      "Data awal      : 24.935 %\n",
      "Training data  : 24.938 %\n",
      "Validation data: 24.922 %\n"
     ]
    }
   ],
   "source": [
    "print('Presentase data DS yang mencari pekerjaan baru')\n",
    "print()\n",
    "print('Data awal      :', '%.3f' % ((sum(df_train['target'] == 1)/len(df_train['target']))*100), '%')\n",
    "print('Training data  :', '%.3f' % ((sum(y_train == 1)/len(y_train))*100), '%')\n",
    "print('Validation data:', '%.3f' % ((sum(y_val == 1)/len(y_val))*100), '%')"
   ]
  },
  {
   "cell_type": "markdown",
   "metadata": {},
   "source": [
    "Dapat dilihat bahwa presentase data DS (Data Scientist) yang mencari pekerjaan baru pada train dan validation data sama dengan presentase pada data awal. Ini untuk memastikan bahwa data tersebar secara merata pada saat splitting data\n",
    "\n",
    "Untuk proses data cleaning, akan dilakukan pada train terlebih dahulu. Apa yang dilakukan pada train data nantinya akan diimplementasikan pada validation data dan test data"
   ]
  },
  {
   "cell_type": "markdown",
   "metadata": {},
   "source": [
    "## Train Data"
   ]
  },
  {
   "cell_type": "markdown",
   "metadata": {},
   "source": [
    "Untuk proses cleaning, X_train dan y_train akan digabungkan terlebih dahulu"
   ]
  },
  {
   "cell_type": "code",
   "execution_count": 16,
   "metadata": {},
   "outputs": [
    {
     "data": {
      "text/html": [
       "<div>\n",
       "<style scoped>\n",
       "    .dataframe tbody tr th:only-of-type {\n",
       "        vertical-align: middle;\n",
       "    }\n",
       "\n",
       "    .dataframe tbody tr th {\n",
       "        vertical-align: top;\n",
       "    }\n",
       "\n",
       "    .dataframe thead th {\n",
       "        text-align: right;\n",
       "    }\n",
       "</style>\n",
       "<table border=\"1\" class=\"dataframe\">\n",
       "  <thead>\n",
       "    <tr style=\"text-align: right;\">\n",
       "      <th></th>\n",
       "      <th>city</th>\n",
       "      <th>city_development_index</th>\n",
       "      <th>gender</th>\n",
       "      <th>relevent_experience</th>\n",
       "      <th>enrolled_university</th>\n",
       "      <th>education_level</th>\n",
       "      <th>major_discipline</th>\n",
       "      <th>experience</th>\n",
       "      <th>company_size</th>\n",
       "      <th>company_type</th>\n",
       "      <th>last_new_job</th>\n",
       "      <th>training_hours</th>\n",
       "      <th>target</th>\n",
       "    </tr>\n",
       "  </thead>\n",
       "  <tbody>\n",
       "    <tr>\n",
       "      <th>1435</th>\n",
       "      <td>city_103</td>\n",
       "      <td>0.920</td>\n",
       "      <td>Female</td>\n",
       "      <td>No relevent experience</td>\n",
       "      <td>no_enrollment</td>\n",
       "      <td>Graduate</td>\n",
       "      <td>STEM</td>\n",
       "      <td>1</td>\n",
       "      <td>NaN</td>\n",
       "      <td>NaN</td>\n",
       "      <td>1</td>\n",
       "      <td>23</td>\n",
       "      <td>1.0</td>\n",
       "    </tr>\n",
       "    <tr>\n",
       "      <th>12211</th>\n",
       "      <td>city_16</td>\n",
       "      <td>0.910</td>\n",
       "      <td>Male</td>\n",
       "      <td>Has relevent experience</td>\n",
       "      <td>no_enrollment</td>\n",
       "      <td>High School</td>\n",
       "      <td>NaN</td>\n",
       "      <td>8</td>\n",
       "      <td>100-500</td>\n",
       "      <td>Pvt Ltd</td>\n",
       "      <td>&gt;4</td>\n",
       "      <td>111</td>\n",
       "      <td>0.0</td>\n",
       "    </tr>\n",
       "    <tr>\n",
       "      <th>201</th>\n",
       "      <td>city_21</td>\n",
       "      <td>0.624</td>\n",
       "      <td>Male</td>\n",
       "      <td>No relevent experience</td>\n",
       "      <td>no_enrollment</td>\n",
       "      <td>Graduate</td>\n",
       "      <td>STEM</td>\n",
       "      <td>2</td>\n",
       "      <td>500-999</td>\n",
       "      <td>Public Sector</td>\n",
       "      <td>1</td>\n",
       "      <td>39</td>\n",
       "      <td>0.0</td>\n",
       "    </tr>\n",
       "    <tr>\n",
       "      <th>18835</th>\n",
       "      <td>city_103</td>\n",
       "      <td>0.920</td>\n",
       "      <td>Male</td>\n",
       "      <td>Has relevent experience</td>\n",
       "      <td>no_enrollment</td>\n",
       "      <td>Graduate</td>\n",
       "      <td>Arts</td>\n",
       "      <td>5</td>\n",
       "      <td>NaN</td>\n",
       "      <td>NaN</td>\n",
       "      <td>never</td>\n",
       "      <td>101</td>\n",
       "      <td>0.0</td>\n",
       "    </tr>\n",
       "    <tr>\n",
       "      <th>10134</th>\n",
       "      <td>city_21</td>\n",
       "      <td>0.624</td>\n",
       "      <td>Male</td>\n",
       "      <td>Has relevent experience</td>\n",
       "      <td>no_enrollment</td>\n",
       "      <td>Graduate</td>\n",
       "      <td>STEM</td>\n",
       "      <td>12</td>\n",
       "      <td>50-99</td>\n",
       "      <td>Pvt Ltd</td>\n",
       "      <td>1</td>\n",
       "      <td>6</td>\n",
       "      <td>0.0</td>\n",
       "    </tr>\n",
       "    <tr>\n",
       "      <th>...</th>\n",
       "      <td>...</td>\n",
       "      <td>...</td>\n",
       "      <td>...</td>\n",
       "      <td>...</td>\n",
       "      <td>...</td>\n",
       "      <td>...</td>\n",
       "      <td>...</td>\n",
       "      <td>...</td>\n",
       "      <td>...</td>\n",
       "      <td>...</td>\n",
       "      <td>...</td>\n",
       "      <td>...</td>\n",
       "      <td>...</td>\n",
       "    </tr>\n",
       "    <tr>\n",
       "      <th>3344</th>\n",
       "      <td>city_61</td>\n",
       "      <td>0.913</td>\n",
       "      <td>Male</td>\n",
       "      <td>Has relevent experience</td>\n",
       "      <td>no_enrollment</td>\n",
       "      <td>Graduate</td>\n",
       "      <td>Other</td>\n",
       "      <td>4</td>\n",
       "      <td>1000-4999</td>\n",
       "      <td>Pvt Ltd</td>\n",
       "      <td>2</td>\n",
       "      <td>6</td>\n",
       "      <td>0.0</td>\n",
       "    </tr>\n",
       "    <tr>\n",
       "      <th>15989</th>\n",
       "      <td>city_70</td>\n",
       "      <td>0.698</td>\n",
       "      <td>Female</td>\n",
       "      <td>No relevent experience</td>\n",
       "      <td>no_enrollment</td>\n",
       "      <td>Graduate</td>\n",
       "      <td>Humanities</td>\n",
       "      <td>&lt;1</td>\n",
       "      <td>NaN</td>\n",
       "      <td>NaN</td>\n",
       "      <td>1</td>\n",
       "      <td>52</td>\n",
       "      <td>1.0</td>\n",
       "    </tr>\n",
       "    <tr>\n",
       "      <th>14578</th>\n",
       "      <td>city_123</td>\n",
       "      <td>0.738</td>\n",
       "      <td>Male</td>\n",
       "      <td>Has relevent experience</td>\n",
       "      <td>Full time course</td>\n",
       "      <td>Graduate</td>\n",
       "      <td>STEM</td>\n",
       "      <td>10</td>\n",
       "      <td>10000+</td>\n",
       "      <td>Pvt Ltd</td>\n",
       "      <td>1</td>\n",
       "      <td>144</td>\n",
       "      <td>0.0</td>\n",
       "    </tr>\n",
       "    <tr>\n",
       "      <th>10659</th>\n",
       "      <td>city_103</td>\n",
       "      <td>0.920</td>\n",
       "      <td>Male</td>\n",
       "      <td>No relevent experience</td>\n",
       "      <td>Full time course</td>\n",
       "      <td>Graduate</td>\n",
       "      <td>STEM</td>\n",
       "      <td>6</td>\n",
       "      <td>NaN</td>\n",
       "      <td>NaN</td>\n",
       "      <td>2</td>\n",
       "      <td>42</td>\n",
       "      <td>0.0</td>\n",
       "    </tr>\n",
       "    <tr>\n",
       "      <th>11556</th>\n",
       "      <td>city_103</td>\n",
       "      <td>0.920</td>\n",
       "      <td>Male</td>\n",
       "      <td>Has relevent experience</td>\n",
       "      <td>no_enrollment</td>\n",
       "      <td>Masters</td>\n",
       "      <td>STEM</td>\n",
       "      <td>5</td>\n",
       "      <td>50-99</td>\n",
       "      <td>Pvt Ltd</td>\n",
       "      <td>1</td>\n",
       "      <td>76</td>\n",
       "      <td>1.0</td>\n",
       "    </tr>\n",
       "  </tbody>\n",
       "</table>\n",
       "<p>15326 rows × 13 columns</p>\n",
       "</div>"
      ],
      "text/plain": [
       "           city  city_development_index  gender      relevent_experience  \\\n",
       "1435   city_103                   0.920  Female   No relevent experience   \n",
       "12211   city_16                   0.910    Male  Has relevent experience   \n",
       "201     city_21                   0.624    Male   No relevent experience   \n",
       "18835  city_103                   0.920    Male  Has relevent experience   \n",
       "10134   city_21                   0.624    Male  Has relevent experience   \n",
       "...         ...                     ...     ...                      ...   \n",
       "3344    city_61                   0.913    Male  Has relevent experience   \n",
       "15989   city_70                   0.698  Female   No relevent experience   \n",
       "14578  city_123                   0.738    Male  Has relevent experience   \n",
       "10659  city_103                   0.920    Male   No relevent experience   \n",
       "11556  city_103                   0.920    Male  Has relevent experience   \n",
       "\n",
       "      enrolled_university education_level major_discipline experience  \\\n",
       "1435        no_enrollment        Graduate             STEM          1   \n",
       "12211       no_enrollment     High School              NaN          8   \n",
       "201         no_enrollment        Graduate             STEM          2   \n",
       "18835       no_enrollment        Graduate             Arts          5   \n",
       "10134       no_enrollment        Graduate             STEM         12   \n",
       "...                   ...             ...              ...        ...   \n",
       "3344        no_enrollment        Graduate            Other          4   \n",
       "15989       no_enrollment        Graduate       Humanities         <1   \n",
       "14578    Full time course        Graduate             STEM         10   \n",
       "10659    Full time course        Graduate             STEM          6   \n",
       "11556       no_enrollment         Masters             STEM          5   \n",
       "\n",
       "      company_size   company_type last_new_job  training_hours  target  \n",
       "1435           NaN            NaN            1              23     1.0  \n",
       "12211      100-500        Pvt Ltd           >4             111     0.0  \n",
       "201        500-999  Public Sector            1              39     0.0  \n",
       "18835          NaN            NaN        never             101     0.0  \n",
       "10134        50-99        Pvt Ltd            1               6     0.0  \n",
       "...            ...            ...          ...             ...     ...  \n",
       "3344     1000-4999        Pvt Ltd            2               6     0.0  \n",
       "15989          NaN            NaN            1              52     1.0  \n",
       "14578       10000+        Pvt Ltd            1             144     0.0  \n",
       "10659          NaN            NaN            2              42     0.0  \n",
       "11556        50-99        Pvt Ltd            1              76     1.0  \n",
       "\n",
       "[15326 rows x 13 columns]"
      ]
     },
     "execution_count": 16,
     "metadata": {},
     "output_type": "execute_result"
    }
   ],
   "source": [
    "data_train = pd.concat([X_train, y_train], axis = 1)\n",
    "data_train"
   ]
  },
  {
   "cell_type": "code",
   "execution_count": 17,
   "metadata": {},
   "outputs": [
    {
     "data": {
      "text/plain": [
       "city                         0\n",
       "city_development_index       0\n",
       "gender                    3579\n",
       "relevent_experience          0\n",
       "enrolled_university        305\n",
       "education_level            369\n",
       "major_discipline          2238\n",
       "experience                  50\n",
       "company_size              4711\n",
       "company_type              4903\n",
       "last_new_job               334\n",
       "training_hours               0\n",
       "target                       0\n",
       "dtype: int64"
      ]
     },
     "execution_count": 17,
     "metadata": {},
     "output_type": "execute_result"
    }
   ],
   "source": [
    "# Melihat jumlah missing value pada masing-masing kolom\n",
    "\n",
    "data_train.isnull().sum()"
   ]
  },
  {
   "cell_type": "code",
   "execution_count": 18,
   "metadata": {},
   "outputs": [
    {
     "data": {
      "text/plain": [
       "city                       0.000000\n",
       "city_development_index     0.000000\n",
       "gender                    23.352473\n",
       "relevent_experience        0.000000\n",
       "enrolled_university        1.990082\n",
       "education_level            2.407673\n",
       "major_discipline          14.602636\n",
       "experience                 0.326243\n",
       "company_size              30.738614\n",
       "company_type              31.991387\n",
       "last_new_job               2.179303\n",
       "training_hours             0.000000\n",
       "target                     0.000000\n",
       "dtype: float64"
      ]
     },
     "execution_count": 18,
     "metadata": {},
     "output_type": "execute_result"
    }
   ],
   "source": [
    "# Melihat presentase dari missing value\n",
    "\n",
    "data_train.isnull().sum()/len(X_train)*100"
   ]
  },
  {
   "cell_type": "code",
   "execution_count": 19,
   "metadata": {},
   "outputs": [
    {
     "name": "stdout",
     "output_type": "stream",
     "text": [
      "gender\n",
      "['Female' 'Male' 'Other' nan]\n",
      "\n",
      "enrolled_university\n",
      "['no_enrollment' 'Full time course' 'Part time course' nan]\n",
      "\n",
      "education_level\n",
      "['Graduate' 'High School' nan 'Primary School' 'Masters' 'Phd']\n",
      "\n",
      "major_discipline\n",
      "['STEM' nan 'Arts' 'Business Degree' 'Humanities' 'Other' 'No Major']\n",
      "\n",
      "experience\n",
      "['1' '8' '2' '5' '12' '>20' '9' '13' '4' '3' '20' '7' '6' '15' '11' '18'\n",
      " '16' '10' '14' '<1' nan '17' '19']\n",
      "\n",
      "company_size\n",
      "[nan '100-500' '500-999' '50-99' '10/49' '10000+' '<10' '5000-9999'\n",
      " '1000-4999']\n",
      "\n",
      "company_type\n",
      "[nan 'Pvt Ltd' 'Public Sector' 'NGO' 'Funded Startup'\n",
      " 'Early Stage Startup' 'Other']\n",
      "\n",
      "last_new_job\n",
      "['1' '>4' 'never' nan '2' '3' '4']\n",
      "\n"
     ]
    }
   ],
   "source": [
    "# Menampilkan unique values dari masing-masing kolom yang memiliki missing value\n",
    "\n",
    "missing_col = data_train[['gender', 'enrolled_university', 'education_level', 'major_discipline', 'experience', \n",
    "                    'company_size', 'company_type', 'last_new_job']]\n",
    "\n",
    "for col in missing_col:\n",
    "    print(col)\n",
    "    print(missing_col[col].unique())\n",
    "    print()"
   ]
  },
  {
   "cell_type": "markdown",
   "metadata": {},
   "source": [
    "Berikut adalah metode yang akan dipakai untuk proses handling missing value pada masing-masing kolom:\n",
    "1. Missing value pada kolom `gender`, akan diisi dengan value 'Unknown' karena dalam kasus ini, sulit untuk memperkirakan gender seseorang dengan akurat. Selain itu, karena missing value dari kolom ini cukup besar (23.35%), kesalahan dalam proses imputing missing value dapat memengaruhi insight yang didapat dari data\n",
    "2. Missing value pada kolom `enrolled_university` dan `experience`, diputuskan untuk dihapus karena missing value pada kedua kolom tersebut memiliki presentase yang kecil\n",
    "3. Missing value pada kolom `education_level` dan `last_new_job` akan diisi dengan modus dari masing-masing kolom\n",
    "4. Missing value pada kolom `major_discipline` akan diisi berdasarkan value pada kolom `education_level`\n",
    "    - Apabila pendidikan terakhir berupa 'High School' atau 'Primary School', maka kolom jurusan akan diisi dengan 'No Major' karena orang tersebut tidak kuliah\n",
    "    - Apabila pendidikan terakhir berupa 'Graduate', 'Masters', atau 'Phd', maka kolom jurusan akan diisi dengan 'Other' dengan asumsi jurusan mereka tidak termasuk dalam kategori STEM, Arts, Business Degree, atau Humanities\n",
    "5. Missing value pada kolom `company_size` dan `company_type` akan diisi dengan 'Unknown', dengan alasan yang sama dengan kolom `Gender`. Selain itu, value '10/49' pada kolom `company_size` akan diganti dengan '10-49'"
   ]
  },
  {
   "cell_type": "code",
   "execution_count": 20,
   "metadata": {},
   "outputs": [],
   "source": [
    "train_imp = data_train.copy()"
   ]
  },
  {
   "cell_type": "markdown",
   "metadata": {},
   "source": [
    "1. Imputing missing value kolom `gender`"
   ]
  },
  {
   "cell_type": "code",
   "execution_count": 21,
   "metadata": {},
   "outputs": [],
   "source": [
    "train_imp['gender'].fillna('Unknown',inplace=True)"
   ]
  },
  {
   "cell_type": "markdown",
   "metadata": {},
   "source": [
    "2. Dropping missing value kolom `enrolled_university` dan `experience`"
   ]
  },
  {
   "cell_type": "code",
   "execution_count": 22,
   "metadata": {},
   "outputs": [],
   "source": [
    "train_imp.dropna(subset = ['enrolled_university', 'experience'], inplace = True)"
   ]
  },
  {
   "cell_type": "code",
   "execution_count": 23,
   "metadata": {},
   "outputs": [
    {
     "name": "stdout",
     "output_type": "stream",
     "text": [
      "Data train di awal                   : 15326\n",
      "Data train setelah drop missing value: 14975\n",
      "\n",
      "Data berkurang sebanyak 2.29%\n"
     ]
    }
   ],
   "source": [
    "print('Data train di awal                   :', len(data_train))\n",
    "print('Data train setelah drop missing value:', len(train_imp))\n",
    "print()\n",
    "print(f'Data berkurang sebanyak {round((((len(data_train)-len(train_imp))/len(data_train))*100), 3)}%')"
   ]
  },
  {
   "cell_type": "markdown",
   "metadata": {},
   "source": [
    "3. Imputing missing value kolom `education_level` dan `last_new_job`"
   ]
  },
  {
   "cell_type": "code",
   "execution_count": 24,
   "metadata": {},
   "outputs": [
    {
     "name": "stdout",
     "output_type": "stream",
     "text": [
      "Modus kolom education level:\n",
      " 0    Graduate\n",
      "dtype: object\n",
      "\n",
      "Modus kolom last new job:\n",
      " 0    1\n",
      "dtype: object\n"
     ]
    }
   ],
   "source": [
    "print('Modus kolom education level:\\n', train_imp['education_level'].mode())\n",
    "print()\n",
    "print('Modus kolom last new job:\\n', train_imp['last_new_job'].mode())"
   ]
  },
  {
   "cell_type": "code",
   "execution_count": 25,
   "metadata": {},
   "outputs": [],
   "source": [
    "train_imp['education_level'].fillna('Graduate',inplace=True)\n",
    "train_imp['last_new_job'].fillna('1',inplace=True)"
   ]
  },
  {
   "cell_type": "markdown",
   "metadata": {},
   "source": [
    "4. Imputing missing value kolom `major_discipline`"
   ]
  },
  {
   "cell_type": "code",
   "execution_count": 26,
   "metadata": {},
   "outputs": [],
   "source": [
    "major_null = train_imp['major_discipline'].isnull()\n",
    "\n",
    "# Membuat dictionary untuk mengisi missing value dengan No Major apabila education_level berupa High School atau Primary School\n",
    "mapping_dict = dict({'High School': 'No Major', \n",
    "                     'Primary School': 'No Major'})\n",
    "\n",
    "# Mengisi missing value sesuai dictionary\n",
    "train_imp.loc[major_null, 'major_discipline'] = train_imp.loc[major_null, 'education_level'].map(mapping_dict)\n",
    "\n",
    "# Mengisi missing value lainnya dengan Other\n",
    "train_imp['major_discipline'] = train_imp['major_discipline'].fillna('Other')"
   ]
  },
  {
   "cell_type": "markdown",
   "metadata": {},
   "source": [
    "5. Imputing missing value kolom `company_size` dan `company_type`"
   ]
  },
  {
   "cell_type": "code",
   "execution_count": 27,
   "metadata": {},
   "outputs": [],
   "source": [
    "train_imp['company_size'] = train_imp['company_size'].replace(['10/49'], '10-49')"
   ]
  },
  {
   "cell_type": "code",
   "execution_count": 28,
   "metadata": {},
   "outputs": [],
   "source": [
    "train_imp['company_size'].fillna('Unknown',inplace=True)\n",
    "train_imp['company_type'].fillna('Unknown',inplace=True)"
   ]
  },
  {
   "cell_type": "code",
   "execution_count": 29,
   "metadata": {},
   "outputs": [
    {
     "data": {
      "text/html": [
       "<div>\n",
       "<style scoped>\n",
       "    .dataframe tbody tr th:only-of-type {\n",
       "        vertical-align: middle;\n",
       "    }\n",
       "\n",
       "    .dataframe tbody tr th {\n",
       "        vertical-align: top;\n",
       "    }\n",
       "\n",
       "    .dataframe thead th {\n",
       "        text-align: right;\n",
       "    }\n",
       "</style>\n",
       "<table border=\"1\" class=\"dataframe\">\n",
       "  <thead>\n",
       "    <tr style=\"text-align: right;\">\n",
       "      <th></th>\n",
       "      <th>city</th>\n",
       "      <th>city_development_index</th>\n",
       "      <th>gender</th>\n",
       "      <th>relevent_experience</th>\n",
       "      <th>enrolled_university</th>\n",
       "      <th>education_level</th>\n",
       "      <th>major_discipline</th>\n",
       "      <th>experience</th>\n",
       "      <th>company_size</th>\n",
       "      <th>company_type</th>\n",
       "      <th>last_new_job</th>\n",
       "      <th>training_hours</th>\n",
       "      <th>target</th>\n",
       "    </tr>\n",
       "  </thead>\n",
       "  <tbody>\n",
       "    <tr>\n",
       "      <th>1435</th>\n",
       "      <td>city_103</td>\n",
       "      <td>0.920</td>\n",
       "      <td>Female</td>\n",
       "      <td>No relevent experience</td>\n",
       "      <td>no_enrollment</td>\n",
       "      <td>Graduate</td>\n",
       "      <td>STEM</td>\n",
       "      <td>1</td>\n",
       "      <td>Unknown</td>\n",
       "      <td>Unknown</td>\n",
       "      <td>1</td>\n",
       "      <td>23</td>\n",
       "      <td>1.0</td>\n",
       "    </tr>\n",
       "    <tr>\n",
       "      <th>12211</th>\n",
       "      <td>city_16</td>\n",
       "      <td>0.910</td>\n",
       "      <td>Male</td>\n",
       "      <td>Has relevent experience</td>\n",
       "      <td>no_enrollment</td>\n",
       "      <td>High School</td>\n",
       "      <td>No Major</td>\n",
       "      <td>8</td>\n",
       "      <td>100-500</td>\n",
       "      <td>Pvt Ltd</td>\n",
       "      <td>&gt;4</td>\n",
       "      <td>111</td>\n",
       "      <td>0.0</td>\n",
       "    </tr>\n",
       "    <tr>\n",
       "      <th>201</th>\n",
       "      <td>city_21</td>\n",
       "      <td>0.624</td>\n",
       "      <td>Male</td>\n",
       "      <td>No relevent experience</td>\n",
       "      <td>no_enrollment</td>\n",
       "      <td>Graduate</td>\n",
       "      <td>STEM</td>\n",
       "      <td>2</td>\n",
       "      <td>500-999</td>\n",
       "      <td>Public Sector</td>\n",
       "      <td>1</td>\n",
       "      <td>39</td>\n",
       "      <td>0.0</td>\n",
       "    </tr>\n",
       "    <tr>\n",
       "      <th>18835</th>\n",
       "      <td>city_103</td>\n",
       "      <td>0.920</td>\n",
       "      <td>Male</td>\n",
       "      <td>Has relevent experience</td>\n",
       "      <td>no_enrollment</td>\n",
       "      <td>Graduate</td>\n",
       "      <td>Arts</td>\n",
       "      <td>5</td>\n",
       "      <td>Unknown</td>\n",
       "      <td>Unknown</td>\n",
       "      <td>never</td>\n",
       "      <td>101</td>\n",
       "      <td>0.0</td>\n",
       "    </tr>\n",
       "    <tr>\n",
       "      <th>10134</th>\n",
       "      <td>city_21</td>\n",
       "      <td>0.624</td>\n",
       "      <td>Male</td>\n",
       "      <td>Has relevent experience</td>\n",
       "      <td>no_enrollment</td>\n",
       "      <td>Graduate</td>\n",
       "      <td>STEM</td>\n",
       "      <td>12</td>\n",
       "      <td>50-99</td>\n",
       "      <td>Pvt Ltd</td>\n",
       "      <td>1</td>\n",
       "      <td>6</td>\n",
       "      <td>0.0</td>\n",
       "    </tr>\n",
       "  </tbody>\n",
       "</table>\n",
       "</div>"
      ],
      "text/plain": [
       "           city  city_development_index  gender      relevent_experience  \\\n",
       "1435   city_103                   0.920  Female   No relevent experience   \n",
       "12211   city_16                   0.910    Male  Has relevent experience   \n",
       "201     city_21                   0.624    Male   No relevent experience   \n",
       "18835  city_103                   0.920    Male  Has relevent experience   \n",
       "10134   city_21                   0.624    Male  Has relevent experience   \n",
       "\n",
       "      enrolled_university education_level major_discipline experience  \\\n",
       "1435        no_enrollment        Graduate             STEM          1   \n",
       "12211       no_enrollment     High School         No Major          8   \n",
       "201         no_enrollment        Graduate             STEM          2   \n",
       "18835       no_enrollment        Graduate             Arts          5   \n",
       "10134       no_enrollment        Graduate             STEM         12   \n",
       "\n",
       "      company_size   company_type last_new_job  training_hours  target  \n",
       "1435       Unknown        Unknown            1              23     1.0  \n",
       "12211      100-500        Pvt Ltd           >4             111     0.0  \n",
       "201        500-999  Public Sector            1              39     0.0  \n",
       "18835      Unknown        Unknown        never             101     0.0  \n",
       "10134        50-99        Pvt Ltd            1               6     0.0  "
      ]
     },
     "execution_count": 29,
     "metadata": {},
     "output_type": "execute_result"
    }
   ],
   "source": [
    "# Menampilkan kembali train data setelah proses missing value handling\n",
    "\n",
    "train_imp.head()"
   ]
  },
  {
   "cell_type": "code",
   "execution_count": 30,
   "metadata": {},
   "outputs": [
    {
     "name": "stdout",
     "output_type": "stream",
     "text": [
      "gender\n",
      "['Female' 'Male' 'Other' 'Unknown']\n",
      "\n",
      "relevent_experience\n",
      "['No relevent experience' 'Has relevent experience']\n",
      "\n",
      "enrolled_university\n",
      "['no_enrollment' 'Full time course' 'Part time course']\n",
      "\n",
      "education_level\n",
      "['Graduate' 'High School' 'Primary School' 'Masters' 'Phd']\n",
      "\n",
      "major_discipline\n",
      "['STEM' 'No Major' 'Arts' 'Other' 'Business Degree' 'Humanities']\n",
      "\n",
      "experience\n",
      "['1' '8' '2' '5' '12' '>20' '9' '13' '4' '3' '20' '7' '6' '15' '11' '18'\n",
      " '16' '10' '14' '<1' '17' '19']\n",
      "\n",
      "company_size\n",
      "['Unknown' '100-500' '500-999' '50-99' '10-49' '10000+' '<10' '5000-9999'\n",
      " '1000-4999']\n",
      "\n",
      "company_type\n",
      "['Unknown' 'Pvt Ltd' 'Public Sector' 'NGO' 'Funded Startup'\n",
      " 'Early Stage Startup' 'Other']\n",
      "\n",
      "last_new_job\n",
      "['1' '>4' 'never' '2' '3' '4']\n",
      "\n"
     ]
    }
   ],
   "source": [
    "objects = train_imp[['gender', 'relevent_experience', 'enrolled_university', 'education_level', 'major_discipline', \n",
    "                       'experience', 'company_size', 'company_type', 'last_new_job']]\n",
    "\n",
    "for col in objects:\n",
    "    print(col)\n",
    "    print(objects[col].unique())\n",
    "    print()"
   ]
  },
  {
   "cell_type": "code",
   "execution_count": 31,
   "metadata": {},
   "outputs": [
    {
     "data": {
      "text/plain": [
       "city                      0\n",
       "city_development_index    0\n",
       "gender                    0\n",
       "relevent_experience       0\n",
       "enrolled_university       0\n",
       "education_level           0\n",
       "major_discipline          0\n",
       "experience                0\n",
       "company_size              0\n",
       "company_type              0\n",
       "last_new_job              0\n",
       "training_hours            0\n",
       "target                    0\n",
       "dtype: int64"
      ]
     },
     "execution_count": 31,
     "metadata": {},
     "output_type": "execute_result"
    }
   ],
   "source": [
    "train_imp.isnull().sum()"
   ]
  },
  {
   "cell_type": "markdown",
   "metadata": {},
   "source": [
    "Dapat dilihat bahwa sekarang sudah tidak ada missing values pada kolom-kolom kategorikal. Untuk mempermudah proses cleaning validation dan test data, apa yang sudah dilakukan pada train data akan dimasukkan ke dalam function"
   ]
  },
  {
   "cell_type": "code",
   "execution_count": 32,
   "metadata": {},
   "outputs": [],
   "source": [
    "def cleaning(data):\n",
    "    data['gender'].fillna('Unknown',inplace=True)\n",
    "    data.dropna(subset = ['enrolled_university', 'experience'], inplace = True)\n",
    "    \n",
    "    data['education_level'].fillna('Graduate',inplace=True)\n",
    "    data['last_new_job'].fillna('1',inplace=True)\n",
    "\n",
    "    major_null = data['major_discipline'].isnull()\n",
    "    mapping_dict = dict({'High School': 'No Major',\n",
    "                         'Primary School': 'No Major'})\n",
    "    data.loc[major_null, 'major_discipline'] = data.loc[major_null, 'education_level'].map(mapping_dict)\n",
    "    data['major_discipline'] = data['major_discipline'].fillna('Other')\n",
    "\n",
    "    data['company_size'] = data['company_size'].replace(['10/49'], '10-49')\n",
    "    data['company_size'].fillna('Unknown',inplace=True)\n",
    "    data['company_type'].fillna('Unknown',inplace=True)\n",
    "    \n",
    "    return(data)"
   ]
  },
  {
   "cell_type": "markdown",
   "metadata": {},
   "source": [
    "## Validation Data"
   ]
  },
  {
   "cell_type": "markdown",
   "metadata": {},
   "source": [
    "Sama halnya yang sudah dilakukan pada train data, X_val dan y_val akan digabung terlebih dahulu untuk proses cleaning"
   ]
  },
  {
   "cell_type": "code",
   "execution_count": 33,
   "metadata": {},
   "outputs": [
    {
     "data": {
      "text/html": [
       "<div>\n",
       "<style scoped>\n",
       "    .dataframe tbody tr th:only-of-type {\n",
       "        vertical-align: middle;\n",
       "    }\n",
       "\n",
       "    .dataframe tbody tr th {\n",
       "        vertical-align: top;\n",
       "    }\n",
       "\n",
       "    .dataframe thead th {\n",
       "        text-align: right;\n",
       "    }\n",
       "</style>\n",
       "<table border=\"1\" class=\"dataframe\">\n",
       "  <thead>\n",
       "    <tr style=\"text-align: right;\">\n",
       "      <th></th>\n",
       "      <th>city</th>\n",
       "      <th>city_development_index</th>\n",
       "      <th>gender</th>\n",
       "      <th>relevent_experience</th>\n",
       "      <th>enrolled_university</th>\n",
       "      <th>education_level</th>\n",
       "      <th>major_discipline</th>\n",
       "      <th>experience</th>\n",
       "      <th>company_size</th>\n",
       "      <th>company_type</th>\n",
       "      <th>last_new_job</th>\n",
       "      <th>training_hours</th>\n",
       "      <th>target</th>\n",
       "    </tr>\n",
       "  </thead>\n",
       "  <tbody>\n",
       "    <tr>\n",
       "      <th>3723</th>\n",
       "      <td>city_67</td>\n",
       "      <td>0.855</td>\n",
       "      <td>Male</td>\n",
       "      <td>Has relevent experience</td>\n",
       "      <td>no_enrollment</td>\n",
       "      <td>Graduate</td>\n",
       "      <td>STEM</td>\n",
       "      <td>16</td>\n",
       "      <td>&lt;10</td>\n",
       "      <td>Pvt Ltd</td>\n",
       "      <td>1</td>\n",
       "      <td>90</td>\n",
       "      <td>0.0</td>\n",
       "    </tr>\n",
       "    <tr>\n",
       "      <th>2425</th>\n",
       "      <td>city_67</td>\n",
       "      <td>0.855</td>\n",
       "      <td>Female</td>\n",
       "      <td>No relevent experience</td>\n",
       "      <td>Full time course</td>\n",
       "      <td>Masters</td>\n",
       "      <td>STEM</td>\n",
       "      <td>11</td>\n",
       "      <td>NaN</td>\n",
       "      <td>NaN</td>\n",
       "      <td>&gt;4</td>\n",
       "      <td>78</td>\n",
       "      <td>0.0</td>\n",
       "    </tr>\n",
       "    <tr>\n",
       "      <th>2929</th>\n",
       "      <td>city_98</td>\n",
       "      <td>0.949</td>\n",
       "      <td>Male</td>\n",
       "      <td>Has relevent experience</td>\n",
       "      <td>no_enrollment</td>\n",
       "      <td>Masters</td>\n",
       "      <td>Other</td>\n",
       "      <td>&gt;20</td>\n",
       "      <td>500-999</td>\n",
       "      <td>Pvt Ltd</td>\n",
       "      <td>2</td>\n",
       "      <td>14</td>\n",
       "      <td>0.0</td>\n",
       "    </tr>\n",
       "    <tr>\n",
       "      <th>15665</th>\n",
       "      <td>city_114</td>\n",
       "      <td>0.926</td>\n",
       "      <td>Female</td>\n",
       "      <td>Has relevent experience</td>\n",
       "      <td>no_enrollment</td>\n",
       "      <td>Masters</td>\n",
       "      <td>Humanities</td>\n",
       "      <td>2</td>\n",
       "      <td>&lt;10</td>\n",
       "      <td>NGO</td>\n",
       "      <td>1</td>\n",
       "      <td>33</td>\n",
       "      <td>1.0</td>\n",
       "    </tr>\n",
       "    <tr>\n",
       "      <th>1271</th>\n",
       "      <td>city_21</td>\n",
       "      <td>0.624</td>\n",
       "      <td>NaN</td>\n",
       "      <td>Has relevent experience</td>\n",
       "      <td>no_enrollment</td>\n",
       "      <td>Graduate</td>\n",
       "      <td>STEM</td>\n",
       "      <td>3</td>\n",
       "      <td>&lt;10</td>\n",
       "      <td>Pvt Ltd</td>\n",
       "      <td>1</td>\n",
       "      <td>332</td>\n",
       "      <td>0.0</td>\n",
       "    </tr>\n",
       "    <tr>\n",
       "      <th>...</th>\n",
       "      <td>...</td>\n",
       "      <td>...</td>\n",
       "      <td>...</td>\n",
       "      <td>...</td>\n",
       "      <td>...</td>\n",
       "      <td>...</td>\n",
       "      <td>...</td>\n",
       "      <td>...</td>\n",
       "      <td>...</td>\n",
       "      <td>...</td>\n",
       "      <td>...</td>\n",
       "      <td>...</td>\n",
       "      <td>...</td>\n",
       "    </tr>\n",
       "    <tr>\n",
       "      <th>16864</th>\n",
       "      <td>city_103</td>\n",
       "      <td>0.920</td>\n",
       "      <td>Male</td>\n",
       "      <td>Has relevent experience</td>\n",
       "      <td>no_enrollment</td>\n",
       "      <td>Graduate</td>\n",
       "      <td>STEM</td>\n",
       "      <td>20</td>\n",
       "      <td>50-99</td>\n",
       "      <td>Funded Startup</td>\n",
       "      <td>4</td>\n",
       "      <td>43</td>\n",
       "      <td>0.0</td>\n",
       "    </tr>\n",
       "    <tr>\n",
       "      <th>5459</th>\n",
       "      <td>city_74</td>\n",
       "      <td>0.579</td>\n",
       "      <td>Male</td>\n",
       "      <td>No relevent experience</td>\n",
       "      <td>Part time course</td>\n",
       "      <td>Graduate</td>\n",
       "      <td>STEM</td>\n",
       "      <td>3</td>\n",
       "      <td>NaN</td>\n",
       "      <td>NaN</td>\n",
       "      <td>never</td>\n",
       "      <td>47</td>\n",
       "      <td>1.0</td>\n",
       "    </tr>\n",
       "    <tr>\n",
       "      <th>18582</th>\n",
       "      <td>city_103</td>\n",
       "      <td>0.920</td>\n",
       "      <td>Male</td>\n",
       "      <td>No relevent experience</td>\n",
       "      <td>no_enrollment</td>\n",
       "      <td>Phd</td>\n",
       "      <td>STEM</td>\n",
       "      <td>10</td>\n",
       "      <td>50-99</td>\n",
       "      <td>Public Sector</td>\n",
       "      <td>1</td>\n",
       "      <td>10</td>\n",
       "      <td>1.0</td>\n",
       "    </tr>\n",
       "    <tr>\n",
       "      <th>8437</th>\n",
       "      <td>city_46</td>\n",
       "      <td>0.762</td>\n",
       "      <td>NaN</td>\n",
       "      <td>Has relevent experience</td>\n",
       "      <td>no_enrollment</td>\n",
       "      <td>Graduate</td>\n",
       "      <td>STEM</td>\n",
       "      <td>6</td>\n",
       "      <td>50-99</td>\n",
       "      <td>NGO</td>\n",
       "      <td>1</td>\n",
       "      <td>22</td>\n",
       "      <td>0.0</td>\n",
       "    </tr>\n",
       "    <tr>\n",
       "      <th>8283</th>\n",
       "      <td>city_103</td>\n",
       "      <td>0.920</td>\n",
       "      <td>NaN</td>\n",
       "      <td>Has relevent experience</td>\n",
       "      <td>Part time course</td>\n",
       "      <td>Masters</td>\n",
       "      <td>STEM</td>\n",
       "      <td>11</td>\n",
       "      <td>100-500</td>\n",
       "      <td>Funded Startup</td>\n",
       "      <td>2</td>\n",
       "      <td>100</td>\n",
       "      <td>0.0</td>\n",
       "    </tr>\n",
       "  </tbody>\n",
       "</table>\n",
       "<p>3832 rows × 13 columns</p>\n",
       "</div>"
      ],
      "text/plain": [
       "           city  city_development_index  gender      relevent_experience  \\\n",
       "3723    city_67                   0.855    Male  Has relevent experience   \n",
       "2425    city_67                   0.855  Female   No relevent experience   \n",
       "2929    city_98                   0.949    Male  Has relevent experience   \n",
       "15665  city_114                   0.926  Female  Has relevent experience   \n",
       "1271    city_21                   0.624     NaN  Has relevent experience   \n",
       "...         ...                     ...     ...                      ...   \n",
       "16864  city_103                   0.920    Male  Has relevent experience   \n",
       "5459    city_74                   0.579    Male   No relevent experience   \n",
       "18582  city_103                   0.920    Male   No relevent experience   \n",
       "8437    city_46                   0.762     NaN  Has relevent experience   \n",
       "8283   city_103                   0.920     NaN  Has relevent experience   \n",
       "\n",
       "      enrolled_university education_level major_discipline experience  \\\n",
       "3723        no_enrollment        Graduate             STEM         16   \n",
       "2425     Full time course         Masters             STEM         11   \n",
       "2929        no_enrollment         Masters            Other        >20   \n",
       "15665       no_enrollment         Masters       Humanities          2   \n",
       "1271        no_enrollment        Graduate             STEM          3   \n",
       "...                   ...             ...              ...        ...   \n",
       "16864       no_enrollment        Graduate             STEM         20   \n",
       "5459     Part time course        Graduate             STEM          3   \n",
       "18582       no_enrollment             Phd             STEM         10   \n",
       "8437        no_enrollment        Graduate             STEM          6   \n",
       "8283     Part time course         Masters             STEM         11   \n",
       "\n",
       "      company_size    company_type last_new_job  training_hours  target  \n",
       "3723           <10         Pvt Ltd            1              90     0.0  \n",
       "2425           NaN             NaN           >4              78     0.0  \n",
       "2929       500-999         Pvt Ltd            2              14     0.0  \n",
       "15665          <10             NGO            1              33     1.0  \n",
       "1271           <10         Pvt Ltd            1             332     0.0  \n",
       "...            ...             ...          ...             ...     ...  \n",
       "16864        50-99  Funded Startup            4              43     0.0  \n",
       "5459           NaN             NaN        never              47     1.0  \n",
       "18582        50-99   Public Sector            1              10     1.0  \n",
       "8437         50-99             NGO            1              22     0.0  \n",
       "8283       100-500  Funded Startup            2             100     0.0  \n",
       "\n",
       "[3832 rows x 13 columns]"
      ]
     },
     "execution_count": 33,
     "metadata": {},
     "output_type": "execute_result"
    }
   ],
   "source": [
    "data_val = pd.concat([X_val, y_val], axis = 1)\n",
    "data_val"
   ]
  },
  {
   "cell_type": "code",
   "execution_count": 34,
   "metadata": {},
   "outputs": [
    {
     "data": {
      "text/plain": [
       "city                         0\n",
       "city_development_index       0\n",
       "gender                     929\n",
       "relevent_experience          0\n",
       "enrolled_university         81\n",
       "education_level             91\n",
       "major_discipline           575\n",
       "experience                  15\n",
       "company_size              1227\n",
       "company_type              1237\n",
       "last_new_job                89\n",
       "training_hours               0\n",
       "target                       0\n",
       "dtype: int64"
      ]
     },
     "execution_count": 34,
     "metadata": {},
     "output_type": "execute_result"
    }
   ],
   "source": [
    "# Melihat jumlah missing value pada masing-masing kolom\n",
    "\n",
    "data_val.isnull().sum()"
   ]
  },
  {
   "cell_type": "code",
   "execution_count": 35,
   "metadata": {},
   "outputs": [
    {
     "data": {
      "text/plain": [
       "city                      0.000000\n",
       "city_development_index    0.000000\n",
       "gender                    6.061595\n",
       "relevent_experience       0.000000\n",
       "enrolled_university       0.528514\n",
       "education_level           0.593762\n",
       "major_discipline          3.751794\n",
       "experience                0.097873\n",
       "company_size              8.006003\n",
       "company_type              8.071251\n",
       "last_new_job              0.580713\n",
       "training_hours            0.000000\n",
       "target                    0.000000\n",
       "dtype: float64"
      ]
     },
     "execution_count": 35,
     "metadata": {},
     "output_type": "execute_result"
    }
   ],
   "source": [
    "# Melihat presentase missing value\n",
    "\n",
    "data_val.isnull().sum()/len(X_train)*100"
   ]
  },
  {
   "cell_type": "code",
   "execution_count": 36,
   "metadata": {},
   "outputs": [],
   "source": [
    "val_imp = data_val.copy()"
   ]
  },
  {
   "cell_type": "code",
   "execution_count": 37,
   "metadata": {},
   "outputs": [
    {
     "data": {
      "text/html": [
       "<div>\n",
       "<style scoped>\n",
       "    .dataframe tbody tr th:only-of-type {\n",
       "        vertical-align: middle;\n",
       "    }\n",
       "\n",
       "    .dataframe tbody tr th {\n",
       "        vertical-align: top;\n",
       "    }\n",
       "\n",
       "    .dataframe thead th {\n",
       "        text-align: right;\n",
       "    }\n",
       "</style>\n",
       "<table border=\"1\" class=\"dataframe\">\n",
       "  <thead>\n",
       "    <tr style=\"text-align: right;\">\n",
       "      <th></th>\n",
       "      <th>city</th>\n",
       "      <th>city_development_index</th>\n",
       "      <th>gender</th>\n",
       "      <th>relevent_experience</th>\n",
       "      <th>enrolled_university</th>\n",
       "      <th>education_level</th>\n",
       "      <th>major_discipline</th>\n",
       "      <th>experience</th>\n",
       "      <th>company_size</th>\n",
       "      <th>company_type</th>\n",
       "      <th>last_new_job</th>\n",
       "      <th>training_hours</th>\n",
       "      <th>target</th>\n",
       "    </tr>\n",
       "  </thead>\n",
       "  <tbody>\n",
       "    <tr>\n",
       "      <th>3723</th>\n",
       "      <td>city_67</td>\n",
       "      <td>0.855</td>\n",
       "      <td>Male</td>\n",
       "      <td>Has relevent experience</td>\n",
       "      <td>no_enrollment</td>\n",
       "      <td>Graduate</td>\n",
       "      <td>STEM</td>\n",
       "      <td>16</td>\n",
       "      <td>&lt;10</td>\n",
       "      <td>Pvt Ltd</td>\n",
       "      <td>1</td>\n",
       "      <td>90</td>\n",
       "      <td>0.0</td>\n",
       "    </tr>\n",
       "    <tr>\n",
       "      <th>2425</th>\n",
       "      <td>city_67</td>\n",
       "      <td>0.855</td>\n",
       "      <td>Female</td>\n",
       "      <td>No relevent experience</td>\n",
       "      <td>Full time course</td>\n",
       "      <td>Masters</td>\n",
       "      <td>STEM</td>\n",
       "      <td>11</td>\n",
       "      <td>Unknown</td>\n",
       "      <td>Unknown</td>\n",
       "      <td>&gt;4</td>\n",
       "      <td>78</td>\n",
       "      <td>0.0</td>\n",
       "    </tr>\n",
       "    <tr>\n",
       "      <th>2929</th>\n",
       "      <td>city_98</td>\n",
       "      <td>0.949</td>\n",
       "      <td>Male</td>\n",
       "      <td>Has relevent experience</td>\n",
       "      <td>no_enrollment</td>\n",
       "      <td>Masters</td>\n",
       "      <td>Other</td>\n",
       "      <td>&gt;20</td>\n",
       "      <td>500-999</td>\n",
       "      <td>Pvt Ltd</td>\n",
       "      <td>2</td>\n",
       "      <td>14</td>\n",
       "      <td>0.0</td>\n",
       "    </tr>\n",
       "    <tr>\n",
       "      <th>15665</th>\n",
       "      <td>city_114</td>\n",
       "      <td>0.926</td>\n",
       "      <td>Female</td>\n",
       "      <td>Has relevent experience</td>\n",
       "      <td>no_enrollment</td>\n",
       "      <td>Masters</td>\n",
       "      <td>Humanities</td>\n",
       "      <td>2</td>\n",
       "      <td>&lt;10</td>\n",
       "      <td>NGO</td>\n",
       "      <td>1</td>\n",
       "      <td>33</td>\n",
       "      <td>1.0</td>\n",
       "    </tr>\n",
       "    <tr>\n",
       "      <th>1271</th>\n",
       "      <td>city_21</td>\n",
       "      <td>0.624</td>\n",
       "      <td>Unknown</td>\n",
       "      <td>Has relevent experience</td>\n",
       "      <td>no_enrollment</td>\n",
       "      <td>Graduate</td>\n",
       "      <td>STEM</td>\n",
       "      <td>3</td>\n",
       "      <td>&lt;10</td>\n",
       "      <td>Pvt Ltd</td>\n",
       "      <td>1</td>\n",
       "      <td>332</td>\n",
       "      <td>0.0</td>\n",
       "    </tr>\n",
       "    <tr>\n",
       "      <th>...</th>\n",
       "      <td>...</td>\n",
       "      <td>...</td>\n",
       "      <td>...</td>\n",
       "      <td>...</td>\n",
       "      <td>...</td>\n",
       "      <td>...</td>\n",
       "      <td>...</td>\n",
       "      <td>...</td>\n",
       "      <td>...</td>\n",
       "      <td>...</td>\n",
       "      <td>...</td>\n",
       "      <td>...</td>\n",
       "      <td>...</td>\n",
       "    </tr>\n",
       "    <tr>\n",
       "      <th>16864</th>\n",
       "      <td>city_103</td>\n",
       "      <td>0.920</td>\n",
       "      <td>Male</td>\n",
       "      <td>Has relevent experience</td>\n",
       "      <td>no_enrollment</td>\n",
       "      <td>Graduate</td>\n",
       "      <td>STEM</td>\n",
       "      <td>20</td>\n",
       "      <td>50-99</td>\n",
       "      <td>Funded Startup</td>\n",
       "      <td>4</td>\n",
       "      <td>43</td>\n",
       "      <td>0.0</td>\n",
       "    </tr>\n",
       "    <tr>\n",
       "      <th>5459</th>\n",
       "      <td>city_74</td>\n",
       "      <td>0.579</td>\n",
       "      <td>Male</td>\n",
       "      <td>No relevent experience</td>\n",
       "      <td>Part time course</td>\n",
       "      <td>Graduate</td>\n",
       "      <td>STEM</td>\n",
       "      <td>3</td>\n",
       "      <td>Unknown</td>\n",
       "      <td>Unknown</td>\n",
       "      <td>never</td>\n",
       "      <td>47</td>\n",
       "      <td>1.0</td>\n",
       "    </tr>\n",
       "    <tr>\n",
       "      <th>18582</th>\n",
       "      <td>city_103</td>\n",
       "      <td>0.920</td>\n",
       "      <td>Male</td>\n",
       "      <td>No relevent experience</td>\n",
       "      <td>no_enrollment</td>\n",
       "      <td>Phd</td>\n",
       "      <td>STEM</td>\n",
       "      <td>10</td>\n",
       "      <td>50-99</td>\n",
       "      <td>Public Sector</td>\n",
       "      <td>1</td>\n",
       "      <td>10</td>\n",
       "      <td>1.0</td>\n",
       "    </tr>\n",
       "    <tr>\n",
       "      <th>8437</th>\n",
       "      <td>city_46</td>\n",
       "      <td>0.762</td>\n",
       "      <td>Unknown</td>\n",
       "      <td>Has relevent experience</td>\n",
       "      <td>no_enrollment</td>\n",
       "      <td>Graduate</td>\n",
       "      <td>STEM</td>\n",
       "      <td>6</td>\n",
       "      <td>50-99</td>\n",
       "      <td>NGO</td>\n",
       "      <td>1</td>\n",
       "      <td>22</td>\n",
       "      <td>0.0</td>\n",
       "    </tr>\n",
       "    <tr>\n",
       "      <th>8283</th>\n",
       "      <td>city_103</td>\n",
       "      <td>0.920</td>\n",
       "      <td>Unknown</td>\n",
       "      <td>Has relevent experience</td>\n",
       "      <td>Part time course</td>\n",
       "      <td>Masters</td>\n",
       "      <td>STEM</td>\n",
       "      <td>11</td>\n",
       "      <td>100-500</td>\n",
       "      <td>Funded Startup</td>\n",
       "      <td>2</td>\n",
       "      <td>100</td>\n",
       "      <td>0.0</td>\n",
       "    </tr>\n",
       "  </tbody>\n",
       "</table>\n",
       "<p>3737 rows × 13 columns</p>\n",
       "</div>"
      ],
      "text/plain": [
       "           city  city_development_index   gender      relevent_experience  \\\n",
       "3723    city_67                   0.855     Male  Has relevent experience   \n",
       "2425    city_67                   0.855   Female   No relevent experience   \n",
       "2929    city_98                   0.949     Male  Has relevent experience   \n",
       "15665  city_114                   0.926   Female  Has relevent experience   \n",
       "1271    city_21                   0.624  Unknown  Has relevent experience   \n",
       "...         ...                     ...      ...                      ...   \n",
       "16864  city_103                   0.920     Male  Has relevent experience   \n",
       "5459    city_74                   0.579     Male   No relevent experience   \n",
       "18582  city_103                   0.920     Male   No relevent experience   \n",
       "8437    city_46                   0.762  Unknown  Has relevent experience   \n",
       "8283   city_103                   0.920  Unknown  Has relevent experience   \n",
       "\n",
       "      enrolled_university education_level major_discipline experience  \\\n",
       "3723        no_enrollment        Graduate             STEM         16   \n",
       "2425     Full time course         Masters             STEM         11   \n",
       "2929        no_enrollment         Masters            Other        >20   \n",
       "15665       no_enrollment         Masters       Humanities          2   \n",
       "1271        no_enrollment        Graduate             STEM          3   \n",
       "...                   ...             ...              ...        ...   \n",
       "16864       no_enrollment        Graduate             STEM         20   \n",
       "5459     Part time course        Graduate             STEM          3   \n",
       "18582       no_enrollment             Phd             STEM         10   \n",
       "8437        no_enrollment        Graduate             STEM          6   \n",
       "8283     Part time course         Masters             STEM         11   \n",
       "\n",
       "      company_size    company_type last_new_job  training_hours  target  \n",
       "3723           <10         Pvt Ltd            1              90     0.0  \n",
       "2425       Unknown         Unknown           >4              78     0.0  \n",
       "2929       500-999         Pvt Ltd            2              14     0.0  \n",
       "15665          <10             NGO            1              33     1.0  \n",
       "1271           <10         Pvt Ltd            1             332     0.0  \n",
       "...            ...             ...          ...             ...     ...  \n",
       "16864        50-99  Funded Startup            4              43     0.0  \n",
       "5459       Unknown         Unknown        never              47     1.0  \n",
       "18582        50-99   Public Sector            1              10     1.0  \n",
       "8437         50-99             NGO            1              22     0.0  \n",
       "8283       100-500  Funded Startup            2             100     0.0  \n",
       "\n",
       "[3737 rows x 13 columns]"
      ]
     },
     "execution_count": 37,
     "metadata": {},
     "output_type": "execute_result"
    }
   ],
   "source": [
    "# Handling missing value pada validation data\n",
    "\n",
    "cleaning(val_imp)"
   ]
  },
  {
   "cell_type": "code",
   "execution_count": 38,
   "metadata": {},
   "outputs": [
    {
     "data": {
      "text/plain": [
       "city                      0\n",
       "city_development_index    0\n",
       "gender                    0\n",
       "relevent_experience       0\n",
       "enrolled_university       0\n",
       "education_level           0\n",
       "major_discipline          0\n",
       "experience                0\n",
       "company_size              0\n",
       "company_type              0\n",
       "last_new_job              0\n",
       "training_hours            0\n",
       "target                    0\n",
       "dtype: int64"
      ]
     },
     "execution_count": 38,
     "metadata": {},
     "output_type": "execute_result"
    }
   ],
   "source": [
    "val_imp.isnull().sum()"
   ]
  },
  {
   "cell_type": "markdown",
   "metadata": {},
   "source": [
    "Dapat dilihat bahwa validation data sudah tidak memiliki missing value"
   ]
  },
  {
   "cell_type": "markdown",
   "metadata": {},
   "source": [
    "# Data Exploration"
   ]
  },
  {
   "cell_type": "markdown",
   "metadata": {},
   "source": [
    "Untuk Data Exploration, akan digunakan train data"
   ]
  },
  {
   "cell_type": "code",
   "execution_count": 39,
   "metadata": {},
   "outputs": [
    {
     "data": {
      "text/html": [
       "<div>\n",
       "<style scoped>\n",
       "    .dataframe tbody tr th:only-of-type {\n",
       "        vertical-align: middle;\n",
       "    }\n",
       "\n",
       "    .dataframe tbody tr th {\n",
       "        vertical-align: top;\n",
       "    }\n",
       "\n",
       "    .dataframe thead th {\n",
       "        text-align: right;\n",
       "    }\n",
       "</style>\n",
       "<table border=\"1\" class=\"dataframe\">\n",
       "  <thead>\n",
       "    <tr style=\"text-align: right;\">\n",
       "      <th></th>\n",
       "      <th>city</th>\n",
       "      <th>city_development_index</th>\n",
       "      <th>gender</th>\n",
       "      <th>relevent_experience</th>\n",
       "      <th>enrolled_university</th>\n",
       "      <th>education_level</th>\n",
       "      <th>major_discipline</th>\n",
       "      <th>experience</th>\n",
       "      <th>company_size</th>\n",
       "      <th>company_type</th>\n",
       "      <th>last_new_job</th>\n",
       "      <th>training_hours</th>\n",
       "      <th>target</th>\n",
       "    </tr>\n",
       "  </thead>\n",
       "  <tbody>\n",
       "    <tr>\n",
       "      <th>1435</th>\n",
       "      <td>city_103</td>\n",
       "      <td>0.920</td>\n",
       "      <td>Female</td>\n",
       "      <td>No relevent experience</td>\n",
       "      <td>no_enrollment</td>\n",
       "      <td>Graduate</td>\n",
       "      <td>STEM</td>\n",
       "      <td>1</td>\n",
       "      <td>Unknown</td>\n",
       "      <td>Unknown</td>\n",
       "      <td>1</td>\n",
       "      <td>23</td>\n",
       "      <td>1.0</td>\n",
       "    </tr>\n",
       "    <tr>\n",
       "      <th>12211</th>\n",
       "      <td>city_16</td>\n",
       "      <td>0.910</td>\n",
       "      <td>Male</td>\n",
       "      <td>Has relevent experience</td>\n",
       "      <td>no_enrollment</td>\n",
       "      <td>High School</td>\n",
       "      <td>No Major</td>\n",
       "      <td>8</td>\n",
       "      <td>100-500</td>\n",
       "      <td>Pvt Ltd</td>\n",
       "      <td>&gt;4</td>\n",
       "      <td>111</td>\n",
       "      <td>0.0</td>\n",
       "    </tr>\n",
       "    <tr>\n",
       "      <th>201</th>\n",
       "      <td>city_21</td>\n",
       "      <td>0.624</td>\n",
       "      <td>Male</td>\n",
       "      <td>No relevent experience</td>\n",
       "      <td>no_enrollment</td>\n",
       "      <td>Graduate</td>\n",
       "      <td>STEM</td>\n",
       "      <td>2</td>\n",
       "      <td>500-999</td>\n",
       "      <td>Public Sector</td>\n",
       "      <td>1</td>\n",
       "      <td>39</td>\n",
       "      <td>0.0</td>\n",
       "    </tr>\n",
       "    <tr>\n",
       "      <th>18835</th>\n",
       "      <td>city_103</td>\n",
       "      <td>0.920</td>\n",
       "      <td>Male</td>\n",
       "      <td>Has relevent experience</td>\n",
       "      <td>no_enrollment</td>\n",
       "      <td>Graduate</td>\n",
       "      <td>Arts</td>\n",
       "      <td>5</td>\n",
       "      <td>Unknown</td>\n",
       "      <td>Unknown</td>\n",
       "      <td>never</td>\n",
       "      <td>101</td>\n",
       "      <td>0.0</td>\n",
       "    </tr>\n",
       "    <tr>\n",
       "      <th>10134</th>\n",
       "      <td>city_21</td>\n",
       "      <td>0.624</td>\n",
       "      <td>Male</td>\n",
       "      <td>Has relevent experience</td>\n",
       "      <td>no_enrollment</td>\n",
       "      <td>Graduate</td>\n",
       "      <td>STEM</td>\n",
       "      <td>12</td>\n",
       "      <td>50-99</td>\n",
       "      <td>Pvt Ltd</td>\n",
       "      <td>1</td>\n",
       "      <td>6</td>\n",
       "      <td>0.0</td>\n",
       "    </tr>\n",
       "  </tbody>\n",
       "</table>\n",
       "</div>"
      ],
      "text/plain": [
       "           city  city_development_index  gender      relevent_experience  \\\n",
       "1435   city_103                   0.920  Female   No relevent experience   \n",
       "12211   city_16                   0.910    Male  Has relevent experience   \n",
       "201     city_21                   0.624    Male   No relevent experience   \n",
       "18835  city_103                   0.920    Male  Has relevent experience   \n",
       "10134   city_21                   0.624    Male  Has relevent experience   \n",
       "\n",
       "      enrolled_university education_level major_discipline experience  \\\n",
       "1435        no_enrollment        Graduate             STEM          1   \n",
       "12211       no_enrollment     High School         No Major          8   \n",
       "201         no_enrollment        Graduate             STEM          2   \n",
       "18835       no_enrollment        Graduate             Arts          5   \n",
       "10134       no_enrollment        Graduate             STEM         12   \n",
       "\n",
       "      company_size   company_type last_new_job  training_hours  target  \n",
       "1435       Unknown        Unknown            1              23     1.0  \n",
       "12211      100-500        Pvt Ltd           >4             111     0.0  \n",
       "201        500-999  Public Sector            1              39     0.0  \n",
       "18835      Unknown        Unknown        never             101     0.0  \n",
       "10134        50-99        Pvt Ltd            1               6     0.0  "
      ]
     },
     "execution_count": 39,
     "metadata": {},
     "output_type": "execute_result"
    }
   ],
   "source": [
    "train_imp.head()"
   ]
  },
  {
   "cell_type": "code",
   "execution_count": 40,
   "metadata": {},
   "outputs": [
    {
     "data": {
      "image/png": "[encoded data removed]",
      "text/plain": [
       "<Figure size 1080x576 with 1 Axes>"
      ]
     },
     "metadata": {
      "needs_background": "light"
     },
     "output_type": "display_data"
    },
    {
     "data": {
      "image/png": "[encoded data removed]",
      "text/plain": [
       "<Figure size 1080x576 with 1 Axes>"
      ]
     },
     "metadata": {
      "needs_background": "light"
     },
     "output_type": "display_data"
    }
   ],
   "source": [
    "plt.figure(figsize = (15,8))\n",
    "sns.kdeplot(train_imp.loc[(train_imp['target'] == 0), 'city_development_index'], color = '#82BB92', label = 'Non Job Seeker')\n",
    "sns.kdeplot(train_imp.loc[(train_imp['target'] == 1), 'city_development_index'], color = '#384169', label = 'Job Seeker')\n",
    "plt.title('City Development Index')\n",
    "plt.legend()\n",
    "\n",
    "plt.figure(figsize = (15,8))\n",
    "sns.kdeplot(train_imp.loc[(train_imp['target'] == 0), 'training_hours'], color = '#82BB92', label = 'Non Job Seeker')\n",
    "sns.kdeplot(train_imp.loc[(train_imp['target'] == 1), 'training_hours'], color = '#384169', label = 'Job Seeker')\n",
    "plt.title('Training Hours')\n",
    "plt.legend()\n",
    "\n",
    "plt.show()"
   ]
  },
  {
   "cell_type": "markdown",
   "metadata": {},
   "source": [
    "Dari plot City Development Index (CDI), dapat dilihat bahwa terdapat dua puncak untuk Data Scientist yang mencari pekerjaan baru, yaitu yang berasal dari kota dengan CDI rendah dan kota dengan CDI tinggi\n",
    "- Untuk Data Scientist di kota dengan CDI rendah, mungkin mereka ingin mencari pekerjaan baru dengan penghasilan yang lebih baik\n",
    "- Untuk Data Scientist di kota dengan CDI tinggi, mungkin terdapat banyak pilihan tempat kerja yang dapat mereka explore\n",
    "\n",
    "Dari plot Training Hours, tidak terlihat ada perbedaan yang signifikan antara Data Scientist yang mencari pekerjaan baru dan yang tidak"
   ]
  },
  {
   "cell_type": "code",
   "execution_count": 41,
   "metadata": {},
   "outputs": [
    {
     "data": {
      "image/png": "[encoded data removed]",
      "text/plain": [
       "<Figure size 1440x1080 with 4 Axes>"
      ]
     },
     "metadata": {
      "needs_background": "light"
     },
     "output_type": "display_data"
    }
   ],
   "source": [
    "fig = plt.figure(figsize=(20,15))\n",
    "row = 2\n",
    "col = 2\n",
    "\n",
    "fig.add_subplot(row, col, 1)\n",
    "sns.countplot(x = train_imp['gender'], hue = train_imp['target'], order = ['Male', 'Female', 'Other', 'Unknown'], palette = ['#82BB92' ,'#384169'])\n",
    "plt.legend(['Non Job Seeker', 'Job Seeker'])\n",
    "plt.title('Gender')\n",
    "\n",
    "fig.add_subplot(row, col, 2)\n",
    "sns.countplot(x = train_imp['major_discipline'], hue = train_imp['target'], order = ['STEM', 'Business Degree', 'Humanities', 'Arts', 'Other', 'No Major'], palette = ['#82BB92' ,'#384169'])\n",
    "plt.legend(['Non Job Seeker', 'Job Seeker'])\n",
    "plt.title('Major Discipline')\n",
    "\n",
    "fig.add_subplot(row, col, 3)\n",
    "sns.countplot(x = train_imp['enrolled_university'], hue = train_imp['target'], palette = ['#82BB92' ,'#384169'])\n",
    "plt.legend(['Non Job Seeker', 'Job Seeker'])\n",
    "plt.title('Enrolled University')\n",
    "\n",
    "fig.add_subplot(row, col, 4)\n",
    "sns.countplot(x = train_imp['education_level'], hue = train_imp['target'], order = ['Primary School', 'High School', 'Graduate', 'Masters', 'Phd'], palette = ['#82BB92' ,'#384169'])\n",
    "plt.legend(['Non Job Seeker', 'Job Seeker'])\n",
    "plt.title('Education Level')\n",
    "\n",
    "plt.show()"
   ]
  },
  {
   "cell_type": "markdown",
   "metadata": {},
   "source": [
    "Dari plot Major Discipline, terlihat bahwa dataset ini didominasi oleh orang-orang dari jurusan STEM (Science, Technology, Engineering and Mathematics). Hal ini bersesuaian dengan bidang pekerjaannya karena Data Science memiliki basis ilmu Matematika yang kuat\n",
    "\n",
    "Didapat juga bahwa Data Scientist yang mencari pekerjaan baru paling banyak yang:\n",
    "- Berjenis kelamin pria\n",
    "- Berasal dari jurusan STEM\n",
    "- Tidak daftar course university\n",
    "- Lulusan S1"
   ]
  },
  {
   "cell_type": "code",
   "execution_count": 42,
   "metadata": {},
   "outputs": [
    {
     "data": {
      "image/png": "[encoded data removed]",
      "text/plain": [
       "<Figure size 1440x720 with 1 Axes>"
      ]
     },
     "metadata": {
      "needs_background": "light"
     },
     "output_type": "display_data"
    }
   ],
   "source": [
    "plt.figure(figsize=(20,10))\n",
    "sns.countplot(x = train_imp['experience'], hue = train_imp['target'], order = ['<1', '1', '2', '3', '4', '5', '6', '7', '8', '9', '10', '11', '12', '13', '14', '15', '16', '17', '18', '19', '20', '>20'], palette = ['#82BB92' ,'#384169'])\n",
    "plt.legend(['Non Job Seeker', 'Job Seeker'])\n",
    "plt.title('Experience')\n",
    "\n",
    "plt.show()"
   ]
  },
  {
   "cell_type": "markdown",
   "metadata": {},
   "source": [
    "Dari plot experience, terlihat bahwa Data Scientist yang mencari pekerjaan baru mayoritas memiliki pengalaman selama 7 tahun ke bawah. Hal ini mungkin karena orang-orang tersebut ingin mencari banyak pengalaman baru untuk meningkatkan skill mereka"
   ]
  },
  {
   "cell_type": "code",
   "execution_count": 43,
   "metadata": {},
   "outputs": [
    {
     "data": {
      "text/plain": [
       "Text(0.5, 1.0, 'Relevent Experience')"
      ]
     },
     "execution_count": 43,
     "metadata": {},
     "output_type": "execute_result"
    },
    {
     "data": {
      "image/png": "[encoded data removed]",
      "text/plain": [
       "<Figure size 1800x1080 with 4 Axes>"
      ]
     },
     "metadata": {
      "needs_background": "light"
     },
     "output_type": "display_data"
    }
   ],
   "source": [
    "fig = plt.figure(figsize=(25,15))\n",
    "row = 2\n",
    "col = 2\n",
    "\n",
    "fig.add_subplot(row, col, 1)\n",
    "sns.countplot(x = train_imp['company_size'], hue = train_imp['target'], order = ['Unknown', '<10', '10-49', '50-99', '100-500', '500-999', '1000-4999', '5000-9999', '10000+'], palette = ['#82BB92' ,'#384169'])\n",
    "plt.legend(['Non Job Seeker', 'Job Seeker'])\n",
    "plt.title('Company Size')\n",
    "\n",
    "fig.add_subplot(row, col, 2)\n",
    "sns.countplot(x = train_imp['company_type'], hue = train_imp['target'], order = ['Unknown', 'NGO', 'Early Stage Startup', 'Funded Startup', 'Pvt Ltd', 'Public Sector', 'Other'], palette = ['#82BB92' ,'#384169'])\n",
    "plt.legend(['Non Job Seeker', 'Job Seeker'])\n",
    "plt.title('Company Type')\n",
    "\n",
    "fig.add_subplot(row, col, 3)\n",
    "sns.countplot(x = train_imp['last_new_job'], hue = train_imp['target'], order = ['never', '1', '2', '3', '4', '>4'], palette = ['#82BB92' ,'#384169'])\n",
    "plt.legend(['Non Job Seeker', 'Job Seeker'])\n",
    "plt.title('Last New Job')\n",
    "\n",
    "fig.add_subplot(row, col, 4)\n",
    "sns.countplot(x = train_imp['relevent_experience'], hue = train_imp['target'], palette = ['#82BB92' ,'#384169'])\n",
    "plt.legend(['Non Job Seeker', 'Job Seeker'])\n",
    "plt.title('Relevent Experience')"
   ]
  },
  {
   "cell_type": "markdown",
   "metadata": {},
   "source": [
    "Untuk Company Size, karena data Data Scientist yang mencari pekerjaan baru didominasi oleh data Unknown, perlu data yang lebih banyak untuk meninjau kolom tersebut. Sama halnya dengan Company Type\n",
    "\n",
    "Dari plot Last New Job, dapat dilihat bahwa Data Scientist yang mencari pekerjaan baru paling banyak merupakan DS yang baru ganti pekerjaan setahun sebelumnya. Hal ini mungkin dikarenakan belum menemukan tempat yang cocok untuk mereka. Data kedua terbanyak adalah dari DS yang belum pernah ganti pekerjaan sebelumnya. Hal ini mungkin karena mereka ingin mencari tantangan baru\n",
    "\n",
    "Didapat juga bahwa Data Scientist yang mencari pekerjaan baru paling bahwa memiliki pengalaman yang relevan"
   ]
  },
  {
   "cell_type": "markdown",
   "metadata": {},
   "source": [
    "Selanjutnya, akan dibuat heatmap untuk melihat korelasi antar kolom. Data kategorikal perlu diubah dalam bentuk numerik terlebih dahulu agar heatmap lebih enak dilihat"
   ]
  },
  {
   "cell_type": "code",
   "execution_count": 44,
   "metadata": {},
   "outputs": [],
   "source": [
    "# Membuat dictionary untuk encode kolom kategorikal\n",
    "\n",
    "gen_map = {\n",
    "    'Unknown': 0, \n",
    "    'Male': 1, \n",
    "    'Female': 2, \n",
    "    'Other':3\n",
    "}\n",
    "\n",
    "rexp_map = {\n",
    "    'No relevent experience': 0,\n",
    "    'Has relevent experience': 1\n",
    "}\n",
    "\n",
    "euni_map = {\n",
    "    'no_enrollment': 0,\n",
    "    'Part time course': 1, \n",
    "    'Full time course': 2 \n",
    "}\n",
    "    \n",
    "edu_map = {\n",
    "    'Primary School': 0,\n",
    "    'High School': 1,\n",
    "    'Graduate': 2,\n",
    "    'Masters': 3,  \n",
    "    'Phd': 4\n",
    "    } \n",
    "    \n",
    "major_map ={ \n",
    "    'No Major': 0,\n",
    "    'Other': 1, \n",
    "    'Arts': 2, \n",
    "    'Humanities': 3, \n",
    "    'Business Degree': 4, \n",
    "    'STEM': 5 \n",
    "}\n",
    "    \n",
    "exp_map = {\n",
    "    '<1': 0,\n",
    "    '1': 1, \n",
    "    '2': 2, \n",
    "    '3': 3, \n",
    "    '4': 4, \n",
    "    '5': 5,\n",
    "    '6': 6,\n",
    "    '7': 7,\n",
    "    '8': 8, \n",
    "    '9': 9, \n",
    "    '10': 10, \n",
    "    '11': 11,\n",
    "    '12': 12,\n",
    "    '13': 13, \n",
    "    '14': 14, \n",
    "    '15': 15, \n",
    "    '16': 16,\n",
    "    '17': 17,\n",
    "    '18': 18,\n",
    "    '19': 19, \n",
    "    '20': 20, \n",
    "    '>20':21\n",
    "} \n",
    "\n",
    "csize_map = {\n",
    "    'Unknown': 0,\n",
    "    '<10': 1,\n",
    "    '10-49': 2, \n",
    "    '50-99': 3,\n",
    "    '100-500': 4, \n",
    "    '500-999': 5,\n",
    "    '1000-4999': 6,  \n",
    "    '5000-9999': 7,\n",
    "    '10000+': 8\n",
    "}\n",
    "    \n",
    "ctype_map = {\n",
    "    'Unknown': 0,\n",
    "    'NGO': 1,\n",
    "    'Early Stage Startup': 2, \n",
    "    'Funded Startup': 3, \n",
    "    'Pvt Ltd': 4, \n",
    "    'Public Sector': 5, \n",
    "    'Other': 6\n",
    "}\n",
    "    \n",
    "lastjob_map = {\n",
    "    'never': 0,\n",
    "    '1': 1, \n",
    "    '2': 2, \n",
    "    '3': 3, \n",
    "    '4': 4, \n",
    "    '>4': 5\n",
    "}"
   ]
  },
  {
   "cell_type": "code",
   "execution_count": 45,
   "metadata": {},
   "outputs": [],
   "source": [
    "train_trf = train_imp.copy()"
   ]
  },
  {
   "cell_type": "code",
   "execution_count": 46,
   "metadata": {},
   "outputs": [],
   "source": [
    "# Encoding kolom kategorikal\n",
    "\n",
    "train_trf.loc[:,'gender'] = train_trf['gender'].map(gen_map)\n",
    "train_trf.loc[:,'relevent_experience'] = train_trf['relevent_experience'].map(rexp_map)\n",
    "train_trf.loc[:,'enrolled_university'] = train_trf['enrolled_university'].map(euni_map)\n",
    "train_trf.loc[:,'education_level'] = train_trf['education_level'].map(edu_map)\n",
    "train_trf.loc[:,'major_discipline'] = train_trf['major_discipline'].map(major_map)\n",
    "train_trf.loc[:,'experience'] = train_trf['experience'].map(exp_map)\n",
    "train_trf.loc[:,'company_size'] = train_trf['company_size'].map(csize_map)\n",
    "train_trf.loc[:,'company_type'] = train_trf['company_type'].map(ctype_map)\n",
    "train_trf.loc[:,'last_new_job'] = train_trf['last_new_job'].map(lastjob_map)\n",
    "\n",
    "# Kolom City akan di-encode menggunakan LabelEncoder\n",
    "lb_en = LabelEncoder()\n",
    "train_trf.loc[:,'city'] = lb_en.fit_transform(train_trf.loc[:,'city']) "
   ]
  },
  {
   "cell_type": "code",
   "execution_count": 47,
   "metadata": {},
   "outputs": [
    {
     "data": {
      "text/html": [
       "<div>\n",
       "<style scoped>\n",
       "    .dataframe tbody tr th:only-of-type {\n",
       "        vertical-align: middle;\n",
       "    }\n",
       "\n",
       "    .dataframe tbody tr th {\n",
       "        vertical-align: top;\n",
       "    }\n",
       "\n",
       "    .dataframe thead th {\n",
       "        text-align: right;\n",
       "    }\n",
       "</style>\n",
       "<table border=\"1\" class=\"dataframe\">\n",
       "  <thead>\n",
       "    <tr style=\"text-align: right;\">\n",
       "      <th></th>\n",
       "      <th>city</th>\n",
       "      <th>city_development_index</th>\n",
       "      <th>gender</th>\n",
       "      <th>relevent_experience</th>\n",
       "      <th>enrolled_university</th>\n",
       "      <th>education_level</th>\n",
       "      <th>major_discipline</th>\n",
       "      <th>experience</th>\n",
       "      <th>company_size</th>\n",
       "      <th>company_type</th>\n",
       "      <th>last_new_job</th>\n",
       "      <th>training_hours</th>\n",
       "      <th>target</th>\n",
       "    </tr>\n",
       "  </thead>\n",
       "  <tbody>\n",
       "    <tr>\n",
       "      <th>1435</th>\n",
       "      <td>5</td>\n",
       "      <td>0.920</td>\n",
       "      <td>2</td>\n",
       "      <td>0</td>\n",
       "      <td>0</td>\n",
       "      <td>2</td>\n",
       "      <td>5</td>\n",
       "      <td>1</td>\n",
       "      <td>0</td>\n",
       "      <td>0</td>\n",
       "      <td>1</td>\n",
       "      <td>23</td>\n",
       "      <td>1.0</td>\n",
       "    </tr>\n",
       "    <tr>\n",
       "      <th>12211</th>\n",
       "      <td>48</td>\n",
       "      <td>0.910</td>\n",
       "      <td>1</td>\n",
       "      <td>1</td>\n",
       "      <td>0</td>\n",
       "      <td>1</td>\n",
       "      <td>0</td>\n",
       "      <td>8</td>\n",
       "      <td>4</td>\n",
       "      <td>4</td>\n",
       "      <td>5</td>\n",
       "      <td>111</td>\n",
       "      <td>0.0</td>\n",
       "    </tr>\n",
       "    <tr>\n",
       "      <th>201</th>\n",
       "      <td>64</td>\n",
       "      <td>0.624</td>\n",
       "      <td>1</td>\n",
       "      <td>0</td>\n",
       "      <td>0</td>\n",
       "      <td>2</td>\n",
       "      <td>5</td>\n",
       "      <td>2</td>\n",
       "      <td>5</td>\n",
       "      <td>5</td>\n",
       "      <td>1</td>\n",
       "      <td>39</td>\n",
       "      <td>0.0</td>\n",
       "    </tr>\n",
       "    <tr>\n",
       "      <th>18835</th>\n",
       "      <td>5</td>\n",
       "      <td>0.920</td>\n",
       "      <td>1</td>\n",
       "      <td>1</td>\n",
       "      <td>0</td>\n",
       "      <td>2</td>\n",
       "      <td>2</td>\n",
       "      <td>5</td>\n",
       "      <td>0</td>\n",
       "      <td>0</td>\n",
       "      <td>0</td>\n",
       "      <td>101</td>\n",
       "      <td>0.0</td>\n",
       "    </tr>\n",
       "    <tr>\n",
       "      <th>10134</th>\n",
       "      <td>64</td>\n",
       "      <td>0.624</td>\n",
       "      <td>1</td>\n",
       "      <td>1</td>\n",
       "      <td>0</td>\n",
       "      <td>2</td>\n",
       "      <td>5</td>\n",
       "      <td>12</td>\n",
       "      <td>3</td>\n",
       "      <td>4</td>\n",
       "      <td>1</td>\n",
       "      <td>6</td>\n",
       "      <td>0.0</td>\n",
       "    </tr>\n",
       "    <tr>\n",
       "      <th>...</th>\n",
       "      <td>...</td>\n",
       "      <td>...</td>\n",
       "      <td>...</td>\n",
       "      <td>...</td>\n",
       "      <td>...</td>\n",
       "      <td>...</td>\n",
       "      <td>...</td>\n",
       "      <td>...</td>\n",
       "      <td>...</td>\n",
       "      <td>...</td>\n",
       "      <td>...</td>\n",
       "      <td>...</td>\n",
       "      <td>...</td>\n",
       "    </tr>\n",
       "    <tr>\n",
       "      <th>3344</th>\n",
       "      <td>91</td>\n",
       "      <td>0.913</td>\n",
       "      <td>1</td>\n",
       "      <td>1</td>\n",
       "      <td>0</td>\n",
       "      <td>2</td>\n",
       "      <td>1</td>\n",
       "      <td>4</td>\n",
       "      <td>6</td>\n",
       "      <td>4</td>\n",
       "      <td>2</td>\n",
       "      <td>6</td>\n",
       "      <td>0.0</td>\n",
       "    </tr>\n",
       "    <tr>\n",
       "      <th>15989</th>\n",
       "      <td>98</td>\n",
       "      <td>0.698</td>\n",
       "      <td>2</td>\n",
       "      <td>0</td>\n",
       "      <td>0</td>\n",
       "      <td>2</td>\n",
       "      <td>3</td>\n",
       "      <td>0</td>\n",
       "      <td>0</td>\n",
       "      <td>0</td>\n",
       "      <td>1</td>\n",
       "      <td>52</td>\n",
       "      <td>1.0</td>\n",
       "    </tr>\n",
       "    <tr>\n",
       "      <th>14578</th>\n",
       "      <td>21</td>\n",
       "      <td>0.738</td>\n",
       "      <td>1</td>\n",
       "      <td>1</td>\n",
       "      <td>2</td>\n",
       "      <td>2</td>\n",
       "      <td>5</td>\n",
       "      <td>10</td>\n",
       "      <td>8</td>\n",
       "      <td>4</td>\n",
       "      <td>1</td>\n",
       "      <td>144</td>\n",
       "      <td>0.0</td>\n",
       "    </tr>\n",
       "    <tr>\n",
       "      <th>10659</th>\n",
       "      <td>5</td>\n",
       "      <td>0.920</td>\n",
       "      <td>1</td>\n",
       "      <td>0</td>\n",
       "      <td>2</td>\n",
       "      <td>2</td>\n",
       "      <td>5</td>\n",
       "      <td>6</td>\n",
       "      <td>0</td>\n",
       "      <td>0</td>\n",
       "      <td>2</td>\n",
       "      <td>42</td>\n",
       "      <td>0.0</td>\n",
       "    </tr>\n",
       "    <tr>\n",
       "      <th>11556</th>\n",
       "      <td>5</td>\n",
       "      <td>0.920</td>\n",
       "      <td>1</td>\n",
       "      <td>1</td>\n",
       "      <td>0</td>\n",
       "      <td>3</td>\n",
       "      <td>5</td>\n",
       "      <td>5</td>\n",
       "      <td>3</td>\n",
       "      <td>4</td>\n",
       "      <td>1</td>\n",
       "      <td>76</td>\n",
       "      <td>1.0</td>\n",
       "    </tr>\n",
       "  </tbody>\n",
       "</table>\n",
       "<p>14975 rows × 13 columns</p>\n",
       "</div>"
      ],
      "text/plain": [
       "       city  city_development_index  gender  relevent_experience  \\\n",
       "1435      5                   0.920       2                    0   \n",
       "12211    48                   0.910       1                    1   \n",
       "201      64                   0.624       1                    0   \n",
       "18835     5                   0.920       1                    1   \n",
       "10134    64                   0.624       1                    1   \n",
       "...     ...                     ...     ...                  ...   \n",
       "3344     91                   0.913       1                    1   \n",
       "15989    98                   0.698       2                    0   \n",
       "14578    21                   0.738       1                    1   \n",
       "10659     5                   0.920       1                    0   \n",
       "11556     5                   0.920       1                    1   \n",
       "\n",
       "       enrolled_university  education_level  major_discipline  experience  \\\n",
       "1435                     0                2                 5           1   \n",
       "12211                    0                1                 0           8   \n",
       "201                      0                2                 5           2   \n",
       "18835                    0                2                 2           5   \n",
       "10134                    0                2                 5          12   \n",
       "...                    ...              ...               ...         ...   \n",
       "3344                     0                2                 1           4   \n",
       "15989                    0                2                 3           0   \n",
       "14578                    2                2                 5          10   \n",
       "10659                    2                2                 5           6   \n",
       "11556                    0                3                 5           5   \n",
       "\n",
       "       company_size  company_type  last_new_job  training_hours  target  \n",
       "1435              0             0             1              23     1.0  \n",
       "12211             4             4             5             111     0.0  \n",
       "201               5             5             1              39     0.0  \n",
       "18835             0             0             0             101     0.0  \n",
       "10134             3             4             1               6     0.0  \n",
       "...             ...           ...           ...             ...     ...  \n",
       "3344              6             4             2               6     0.0  \n",
       "15989             0             0             1              52     1.0  \n",
       "14578             8             4             1             144     0.0  \n",
       "10659             0             0             2              42     0.0  \n",
       "11556             3             4             1              76     1.0  \n",
       "\n",
       "[14975 rows x 13 columns]"
      ]
     },
     "execution_count": 47,
     "metadata": {},
     "output_type": "execute_result"
    }
   ],
   "source": [
    "train_trf"
   ]
  },
  {
   "cell_type": "code",
   "execution_count": 48,
   "metadata": {},
   "outputs": [
    {
     "data": {
      "image/png": "[encoded data removed]",
      "text/plain": [
       "<Figure size 2520x1440 with 2 Axes>"
      ]
     },
     "metadata": {
      "needs_background": "light"
     },
     "output_type": "display_data"
    }
   ],
   "source": [
    "plt.figure(figsize = (35,20))\n",
    "sns.heatmap(train_trf.corr(), annot = True, cmap = 'GnBu', mask = np.triu(train_trf.corr()))\n",
    "\n",
    "plt.show()"
   ]
  },
  {
   "cell_type": "markdown",
   "metadata": {},
   "source": [
    "Dari heatmap, dapat dilihat bahwa kolom `enrolled_university` memiliki korelasi positif paling besar dengan kolom `target`. Sedangkan kolom `city_development_index` memiliki korelasi negatif paling besar dengan kolom `target`"
   ]
  },
  {
   "cell_type": "markdown",
   "metadata": {},
   "source": [
    "# Data Preprocessing"
   ]
  },
  {
   "cell_type": "markdown",
   "metadata": {},
   "source": [
    "Untuk Data Preprocessing:\n",
    "- Untuk kolom-kolom kategorikal dengan banyak unique values, seperti `experience`, `company_size`, dan `city`, akan dilakukan encoding ke dalam bentuk numerik\n",
    "- Untuk kolom kategorikal lainnya, akan di-encode menggunakan OneHotEncoder\n",
    "- Untuk kolom numerik, akan dilakukan features scaling dengan StandardScaler"
   ]
  },
  {
   "cell_type": "markdown",
   "metadata": {},
   "source": [
    "## Train Data"
   ]
  },
  {
   "cell_type": "code",
   "execution_count": 49,
   "metadata": {},
   "outputs": [
    {
     "data": {
      "text/html": [
       "<div>\n",
       "<style scoped>\n",
       "    .dataframe tbody tr th:only-of-type {\n",
       "        vertical-align: middle;\n",
       "    }\n",
       "\n",
       "    .dataframe tbody tr th {\n",
       "        vertical-align: top;\n",
       "    }\n",
       "\n",
       "    .dataframe thead th {\n",
       "        text-align: right;\n",
       "    }\n",
       "</style>\n",
       "<table border=\"1\" class=\"dataframe\">\n",
       "  <thead>\n",
       "    <tr style=\"text-align: right;\">\n",
       "      <th></th>\n",
       "      <th>city</th>\n",
       "      <th>city_development_index</th>\n",
       "      <th>gender</th>\n",
       "      <th>relevent_experience</th>\n",
       "      <th>enrolled_university</th>\n",
       "      <th>education_level</th>\n",
       "      <th>major_discipline</th>\n",
       "      <th>experience</th>\n",
       "      <th>company_size</th>\n",
       "      <th>company_type</th>\n",
       "      <th>last_new_job</th>\n",
       "      <th>training_hours</th>\n",
       "      <th>target</th>\n",
       "    </tr>\n",
       "  </thead>\n",
       "  <tbody>\n",
       "    <tr>\n",
       "      <th>1435</th>\n",
       "      <td>city_103</td>\n",
       "      <td>0.920</td>\n",
       "      <td>Female</td>\n",
       "      <td>No relevent experience</td>\n",
       "      <td>no_enrollment</td>\n",
       "      <td>Graduate</td>\n",
       "      <td>STEM</td>\n",
       "      <td>1</td>\n",
       "      <td>Unknown</td>\n",
       "      <td>Unknown</td>\n",
       "      <td>1</td>\n",
       "      <td>23</td>\n",
       "      <td>1.0</td>\n",
       "    </tr>\n",
       "    <tr>\n",
       "      <th>12211</th>\n",
       "      <td>city_16</td>\n",
       "      <td>0.910</td>\n",
       "      <td>Male</td>\n",
       "      <td>Has relevent experience</td>\n",
       "      <td>no_enrollment</td>\n",
       "      <td>High School</td>\n",
       "      <td>No Major</td>\n",
       "      <td>8</td>\n",
       "      <td>100-500</td>\n",
       "      <td>Pvt Ltd</td>\n",
       "      <td>&gt;4</td>\n",
       "      <td>111</td>\n",
       "      <td>0.0</td>\n",
       "    </tr>\n",
       "    <tr>\n",
       "      <th>201</th>\n",
       "      <td>city_21</td>\n",
       "      <td>0.624</td>\n",
       "      <td>Male</td>\n",
       "      <td>No relevent experience</td>\n",
       "      <td>no_enrollment</td>\n",
       "      <td>Graduate</td>\n",
       "      <td>STEM</td>\n",
       "      <td>2</td>\n",
       "      <td>500-999</td>\n",
       "      <td>Public Sector</td>\n",
       "      <td>1</td>\n",
       "      <td>39</td>\n",
       "      <td>0.0</td>\n",
       "    </tr>\n",
       "    <tr>\n",
       "      <th>18835</th>\n",
       "      <td>city_103</td>\n",
       "      <td>0.920</td>\n",
       "      <td>Male</td>\n",
       "      <td>Has relevent experience</td>\n",
       "      <td>no_enrollment</td>\n",
       "      <td>Graduate</td>\n",
       "      <td>Arts</td>\n",
       "      <td>5</td>\n",
       "      <td>Unknown</td>\n",
       "      <td>Unknown</td>\n",
       "      <td>never</td>\n",
       "      <td>101</td>\n",
       "      <td>0.0</td>\n",
       "    </tr>\n",
       "    <tr>\n",
       "      <th>10134</th>\n",
       "      <td>city_21</td>\n",
       "      <td>0.624</td>\n",
       "      <td>Male</td>\n",
       "      <td>Has relevent experience</td>\n",
       "      <td>no_enrollment</td>\n",
       "      <td>Graduate</td>\n",
       "      <td>STEM</td>\n",
       "      <td>12</td>\n",
       "      <td>50-99</td>\n",
       "      <td>Pvt Ltd</td>\n",
       "      <td>1</td>\n",
       "      <td>6</td>\n",
       "      <td>0.0</td>\n",
       "    </tr>\n",
       "  </tbody>\n",
       "</table>\n",
       "</div>"
      ],
      "text/plain": [
       "           city  city_development_index  gender      relevent_experience  \\\n",
       "1435   city_103                   0.920  Female   No relevent experience   \n",
       "12211   city_16                   0.910    Male  Has relevent experience   \n",
       "201     city_21                   0.624    Male   No relevent experience   \n",
       "18835  city_103                   0.920    Male  Has relevent experience   \n",
       "10134   city_21                   0.624    Male  Has relevent experience   \n",
       "\n",
       "      enrolled_university education_level major_discipline experience  \\\n",
       "1435        no_enrollment        Graduate             STEM          1   \n",
       "12211       no_enrollment     High School         No Major          8   \n",
       "201         no_enrollment        Graduate             STEM          2   \n",
       "18835       no_enrollment        Graduate             Arts          5   \n",
       "10134       no_enrollment        Graduate             STEM         12   \n",
       "\n",
       "      company_size   company_type last_new_job  training_hours  target  \n",
       "1435       Unknown        Unknown            1              23     1.0  \n",
       "12211      100-500        Pvt Ltd           >4             111     0.0  \n",
       "201        500-999  Public Sector            1              39     0.0  \n",
       "18835      Unknown        Unknown        never             101     0.0  \n",
       "10134        50-99        Pvt Ltd            1               6     0.0  "
      ]
     },
     "execution_count": 49,
     "metadata": {},
     "output_type": "execute_result"
    }
   ],
   "source": [
    "train_model = train_imp.copy()\n",
    "train_model.head()"
   ]
  },
  {
   "cell_type": "code",
   "execution_count": 50,
   "metadata": {},
   "outputs": [],
   "source": [
    "# Encoding value kolom experience, company_size, dan city menjadi numerik\n",
    "\n",
    "train_model.loc[:,'experience'] = train_model['experience'].map(exp_map)\n",
    "train_model.loc[:,'company_size'] = train_model['company_size'].map(csize_map)\n",
    "train_model.loc[:,'city'] = lb_en.fit_transform(train_model.loc[:,'city']) "
   ]
  },
  {
   "cell_type": "code",
   "execution_count": 51,
   "metadata": {},
   "outputs": [
    {
     "data": {
      "text/html": [
       "<div>\n",
       "<style scoped>\n",
       "    .dataframe tbody tr th:only-of-type {\n",
       "        vertical-align: middle;\n",
       "    }\n",
       "\n",
       "    .dataframe tbody tr th {\n",
       "        vertical-align: top;\n",
       "    }\n",
       "\n",
       "    .dataframe thead th {\n",
       "        text-align: right;\n",
       "    }\n",
       "</style>\n",
       "<table border=\"1\" class=\"dataframe\">\n",
       "  <thead>\n",
       "    <tr style=\"text-align: right;\">\n",
       "      <th></th>\n",
       "      <th>city</th>\n",
       "      <th>city_development_index</th>\n",
       "      <th>gender</th>\n",
       "      <th>relevent_experience</th>\n",
       "      <th>enrolled_university</th>\n",
       "      <th>education_level</th>\n",
       "      <th>major_discipline</th>\n",
       "      <th>experience</th>\n",
       "      <th>company_size</th>\n",
       "      <th>company_type</th>\n",
       "      <th>last_new_job</th>\n",
       "      <th>training_hours</th>\n",
       "      <th>target</th>\n",
       "    </tr>\n",
       "  </thead>\n",
       "  <tbody>\n",
       "    <tr>\n",
       "      <th>1435</th>\n",
       "      <td>5</td>\n",
       "      <td>0.920</td>\n",
       "      <td>Female</td>\n",
       "      <td>No relevent experience</td>\n",
       "      <td>no_enrollment</td>\n",
       "      <td>Graduate</td>\n",
       "      <td>STEM</td>\n",
       "      <td>1</td>\n",
       "      <td>0</td>\n",
       "      <td>Unknown</td>\n",
       "      <td>1</td>\n",
       "      <td>23</td>\n",
       "      <td>1.0</td>\n",
       "    </tr>\n",
       "    <tr>\n",
       "      <th>12211</th>\n",
       "      <td>48</td>\n",
       "      <td>0.910</td>\n",
       "      <td>Male</td>\n",
       "      <td>Has relevent experience</td>\n",
       "      <td>no_enrollment</td>\n",
       "      <td>High School</td>\n",
       "      <td>No Major</td>\n",
       "      <td>8</td>\n",
       "      <td>4</td>\n",
       "      <td>Pvt Ltd</td>\n",
       "      <td>&gt;4</td>\n",
       "      <td>111</td>\n",
       "      <td>0.0</td>\n",
       "    </tr>\n",
       "    <tr>\n",
       "      <th>201</th>\n",
       "      <td>64</td>\n",
       "      <td>0.624</td>\n",
       "      <td>Male</td>\n",
       "      <td>No relevent experience</td>\n",
       "      <td>no_enrollment</td>\n",
       "      <td>Graduate</td>\n",
       "      <td>STEM</td>\n",
       "      <td>2</td>\n",
       "      <td>5</td>\n",
       "      <td>Public Sector</td>\n",
       "      <td>1</td>\n",
       "      <td>39</td>\n",
       "      <td>0.0</td>\n",
       "    </tr>\n",
       "    <tr>\n",
       "      <th>18835</th>\n",
       "      <td>5</td>\n",
       "      <td>0.920</td>\n",
       "      <td>Male</td>\n",
       "      <td>Has relevent experience</td>\n",
       "      <td>no_enrollment</td>\n",
       "      <td>Graduate</td>\n",
       "      <td>Arts</td>\n",
       "      <td>5</td>\n",
       "      <td>0</td>\n",
       "      <td>Unknown</td>\n",
       "      <td>never</td>\n",
       "      <td>101</td>\n",
       "      <td>0.0</td>\n",
       "    </tr>\n",
       "    <tr>\n",
       "      <th>10134</th>\n",
       "      <td>64</td>\n",
       "      <td>0.624</td>\n",
       "      <td>Male</td>\n",
       "      <td>Has relevent experience</td>\n",
       "      <td>no_enrollment</td>\n",
       "      <td>Graduate</td>\n",
       "      <td>STEM</td>\n",
       "      <td>12</td>\n",
       "      <td>3</td>\n",
       "      <td>Pvt Ltd</td>\n",
       "      <td>1</td>\n",
       "      <td>6</td>\n",
       "      <td>0.0</td>\n",
       "    </tr>\n",
       "  </tbody>\n",
       "</table>\n",
       "</div>"
      ],
      "text/plain": [
       "       city  city_development_index  gender      relevent_experience  \\\n",
       "1435      5                   0.920  Female   No relevent experience   \n",
       "12211    48                   0.910    Male  Has relevent experience   \n",
       "201      64                   0.624    Male   No relevent experience   \n",
       "18835     5                   0.920    Male  Has relevent experience   \n",
       "10134    64                   0.624    Male  Has relevent experience   \n",
       "\n",
       "      enrolled_university education_level major_discipline  experience  \\\n",
       "1435        no_enrollment        Graduate             STEM           1   \n",
       "12211       no_enrollment     High School         No Major           8   \n",
       "201         no_enrollment        Graduate             STEM           2   \n",
       "18835       no_enrollment        Graduate             Arts           5   \n",
       "10134       no_enrollment        Graduate             STEM          12   \n",
       "\n",
       "       company_size   company_type last_new_job  training_hours  target  \n",
       "1435              0        Unknown            1              23     1.0  \n",
       "12211             4        Pvt Ltd           >4             111     0.0  \n",
       "201               5  Public Sector            1              39     0.0  \n",
       "18835             0        Unknown        never             101     0.0  \n",
       "10134             3        Pvt Ltd            1               6     0.0  "
      ]
     },
     "execution_count": 51,
     "metadata": {},
     "output_type": "execute_result"
    }
   ],
   "source": [
    "train_model.head()"
   ]
  },
  {
   "cell_type": "code",
   "execution_count": 52,
   "metadata": {},
   "outputs": [],
   "source": [
    "# Mendefinisikan features dan target\n",
    "\n",
    "X_train = train_model.drop('target', axis = 1)\n",
    "y_train = train_model['target']"
   ]
  },
  {
   "cell_type": "code",
   "execution_count": 53,
   "metadata": {},
   "outputs": [
    {
     "data": {
      "text/plain": [
       "Index(['city', 'city_development_index', 'experience', 'company_size',\n",
       "       'training_hours'],\n",
       "      dtype='object')"
      ]
     },
     "execution_count": 53,
     "metadata": {},
     "output_type": "execute_result"
    }
   ],
   "source": [
    "# Melihat kolom numerik\n",
    "\n",
    "numbers = X_train.select_dtypes(include=['int64', 'float64']).copy()\n",
    "numbers.columns"
   ]
  },
  {
   "cell_type": "code",
   "execution_count": 54,
   "metadata": {},
   "outputs": [
    {
     "data": {
      "text/plain": [
       "Index(['gender', 'relevent_experience', 'enrolled_university',\n",
       "       'education_level', 'major_discipline', 'company_type', 'last_new_job'],\n",
       "      dtype='object')"
      ]
     },
     "execution_count": 54,
     "metadata": {},
     "output_type": "execute_result"
    }
   ],
   "source": [
    "# Melihat kolom kategorikal\n",
    "\n",
    "objects = X_train.select_dtypes(include=['object']).copy()\n",
    "objects.columns"
   ]
  },
  {
   "cell_type": "markdown",
   "metadata": {},
   "source": [
    "Untuk mempermudah proses encoding dan scaling, akan dibuat pipeline yang dapat melakukan preprocessing kepada kolom numerik dan juga kategorikal"
   ]
  },
  {
   "cell_type": "code",
   "execution_count": 55,
   "metadata": {},
   "outputs": [],
   "source": [
    "class OldDataFrameSelector(BaseEstimator, TransformerMixin):\n",
    "    def __init__(self, attribute_names):\n",
    "        self.attribute_names = attribute_names\n",
    "    def fit(self, X, y=None):\n",
    "        return self\n",
    "    def transform(self, X):\n",
    "        return X[self.attribute_names]"
   ]
  },
  {
   "cell_type": "code",
   "execution_count": 56,
   "metadata": {},
   "outputs": [],
   "source": [
    "# Membuat pipeline untuk kolom numerik\n",
    "numerical_pipeline = Pipeline([\n",
    "    (\"select_numeric\", OldDataFrameSelector(['city', 'city_development_index', 'experience', 'company_size',\n",
    "       'training_hours'])),\n",
    "    (\"std_scaler\", StandardScaler()),\n",
    "])\n",
    "\n",
    "# Membuat pipeline untuk kolom kategorikal\n",
    "categorical_pipeline = Pipeline([\n",
    "    (\"select_cat\", OldDataFrameSelector(['gender', 'relevent_experience', 'enrolled_university',\n",
    "       'education_level', 'major_discipline', 'company_type', 'last_new_job'])),\n",
    "    ('cat_encoder', OneHotEncoder(sparse=False))\n",
    "])\n",
    "\n",
    "# Menggabungkan kedua pipelines\n",
    "preprocess_pipeline = FeatureUnion(transformer_list=[\n",
    "        (\"numerical_pipeline\", numerical_pipeline),\n",
    "        (\"categorical_pipeline\", categorical_pipeline),\n",
    "    ])"
   ]
  },
  {
   "cell_type": "code",
   "execution_count": 57,
   "metadata": {},
   "outputs": [
    {
     "data": {
      "text/plain": [
       "array([[-1.10015856,  0.73732633, -1.35217551, ...,  0.        ,\n",
       "         0.        ,  0.        ],\n",
       "       [ 0.1119796 ,  0.65601032, -0.31920755, ...,  0.        ,\n",
       "         1.        ,  0.        ],\n",
       "       [ 0.56300775, -1.66962754, -1.20460866, ...,  0.        ,\n",
       "         0.        ,  0.        ],\n",
       "       ...,\n",
       "       [-0.64913041, -0.74262504, -0.02407384, ...,  0.        ,\n",
       "         0.        ,  0.        ],\n",
       "       [-1.10015856,  0.73732633, -0.61434125, ...,  0.        ,\n",
       "         0.        ,  0.        ],\n",
       "       [-1.10015856,  0.73732633, -0.7619081 , ...,  0.        ,\n",
       "         0.        ,  0.        ]])"
      ]
     },
     "execution_count": 57,
     "metadata": {},
     "output_type": "execute_result"
    }
   ],
   "source": [
    "X_train_trf = preprocess_pipeline.fit_transform(X_train)\n",
    "X_train_trf"
   ]
  },
  {
   "cell_type": "markdown",
   "metadata": {},
   "source": [
    "Langkah preprocessing di luar pipeline akan dimasukkan ke dalam function"
   ]
  },
  {
   "cell_type": "code",
   "execution_count": 58,
   "metadata": {},
   "outputs": [],
   "source": [
    "def preprocessing(data):\n",
    "    data.loc[:,'experience'] = data['experience'].map(exp_map)\n",
    "    data.loc[:,'company_size'] = data['company_size'].map(csize_map)\n",
    "    data.loc[:,'city'] = lb_en.transform(data.loc[:,'city']) \n",
    "    return (data)"
   ]
  },
  {
   "cell_type": "markdown",
   "metadata": {},
   "source": [
    "## Validation Data"
   ]
  },
  {
   "cell_type": "code",
   "execution_count": 59,
   "metadata": {},
   "outputs": [
    {
     "data": {
      "text/html": [
       "<div>\n",
       "<style scoped>\n",
       "    .dataframe tbody tr th:only-of-type {\n",
       "        vertical-align: middle;\n",
       "    }\n",
       "\n",
       "    .dataframe tbody tr th {\n",
       "        vertical-align: top;\n",
       "    }\n",
       "\n",
       "    .dataframe thead th {\n",
       "        text-align: right;\n",
       "    }\n",
       "</style>\n",
       "<table border=\"1\" class=\"dataframe\">\n",
       "  <thead>\n",
       "    <tr style=\"text-align: right;\">\n",
       "      <th></th>\n",
       "      <th>city</th>\n",
       "      <th>city_development_index</th>\n",
       "      <th>gender</th>\n",
       "      <th>relevent_experience</th>\n",
       "      <th>enrolled_university</th>\n",
       "      <th>education_level</th>\n",
       "      <th>major_discipline</th>\n",
       "      <th>experience</th>\n",
       "      <th>company_size</th>\n",
       "      <th>company_type</th>\n",
       "      <th>last_new_job</th>\n",
       "      <th>training_hours</th>\n",
       "      <th>target</th>\n",
       "    </tr>\n",
       "  </thead>\n",
       "  <tbody>\n",
       "    <tr>\n",
       "      <th>3723</th>\n",
       "      <td>city_67</td>\n",
       "      <td>0.855</td>\n",
       "      <td>Male</td>\n",
       "      <td>Has relevent experience</td>\n",
       "      <td>no_enrollment</td>\n",
       "      <td>Graduate</td>\n",
       "      <td>STEM</td>\n",
       "      <td>16</td>\n",
       "      <td>&lt;10</td>\n",
       "      <td>Pvt Ltd</td>\n",
       "      <td>1</td>\n",
       "      <td>90</td>\n",
       "      <td>0.0</td>\n",
       "    </tr>\n",
       "    <tr>\n",
       "      <th>2425</th>\n",
       "      <td>city_67</td>\n",
       "      <td>0.855</td>\n",
       "      <td>Female</td>\n",
       "      <td>No relevent experience</td>\n",
       "      <td>Full time course</td>\n",
       "      <td>Masters</td>\n",
       "      <td>STEM</td>\n",
       "      <td>11</td>\n",
       "      <td>Unknown</td>\n",
       "      <td>Unknown</td>\n",
       "      <td>&gt;4</td>\n",
       "      <td>78</td>\n",
       "      <td>0.0</td>\n",
       "    </tr>\n",
       "    <tr>\n",
       "      <th>2929</th>\n",
       "      <td>city_98</td>\n",
       "      <td>0.949</td>\n",
       "      <td>Male</td>\n",
       "      <td>Has relevent experience</td>\n",
       "      <td>no_enrollment</td>\n",
       "      <td>Masters</td>\n",
       "      <td>Other</td>\n",
       "      <td>&gt;20</td>\n",
       "      <td>500-999</td>\n",
       "      <td>Pvt Ltd</td>\n",
       "      <td>2</td>\n",
       "      <td>14</td>\n",
       "      <td>0.0</td>\n",
       "    </tr>\n",
       "    <tr>\n",
       "      <th>15665</th>\n",
       "      <td>city_114</td>\n",
       "      <td>0.926</td>\n",
       "      <td>Female</td>\n",
       "      <td>Has relevent experience</td>\n",
       "      <td>no_enrollment</td>\n",
       "      <td>Masters</td>\n",
       "      <td>Humanities</td>\n",
       "      <td>2</td>\n",
       "      <td>&lt;10</td>\n",
       "      <td>NGO</td>\n",
       "      <td>1</td>\n",
       "      <td>33</td>\n",
       "      <td>1.0</td>\n",
       "    </tr>\n",
       "    <tr>\n",
       "      <th>1271</th>\n",
       "      <td>city_21</td>\n",
       "      <td>0.624</td>\n",
       "      <td>Unknown</td>\n",
       "      <td>Has relevent experience</td>\n",
       "      <td>no_enrollment</td>\n",
       "      <td>Graduate</td>\n",
       "      <td>STEM</td>\n",
       "      <td>3</td>\n",
       "      <td>&lt;10</td>\n",
       "      <td>Pvt Ltd</td>\n",
       "      <td>1</td>\n",
       "      <td>332</td>\n",
       "      <td>0.0</td>\n",
       "    </tr>\n",
       "  </tbody>\n",
       "</table>\n",
       "</div>"
      ],
      "text/plain": [
       "           city  city_development_index   gender      relevent_experience  \\\n",
       "3723    city_67                   0.855     Male  Has relevent experience   \n",
       "2425    city_67                   0.855   Female   No relevent experience   \n",
       "2929    city_98                   0.949     Male  Has relevent experience   \n",
       "15665  city_114                   0.926   Female  Has relevent experience   \n",
       "1271    city_21                   0.624  Unknown  Has relevent experience   \n",
       "\n",
       "      enrolled_university education_level major_discipline experience  \\\n",
       "3723        no_enrollment        Graduate             STEM         16   \n",
       "2425     Full time course         Masters             STEM         11   \n",
       "2929        no_enrollment         Masters            Other        >20   \n",
       "15665       no_enrollment         Masters       Humanities          2   \n",
       "1271        no_enrollment        Graduate             STEM          3   \n",
       "\n",
       "      company_size company_type last_new_job  training_hours  target  \n",
       "3723           <10      Pvt Ltd            1              90     0.0  \n",
       "2425       Unknown      Unknown           >4              78     0.0  \n",
       "2929       500-999      Pvt Ltd            2              14     0.0  \n",
       "15665          <10          NGO            1              33     1.0  \n",
       "1271           <10      Pvt Ltd            1             332     0.0  "
      ]
     },
     "execution_count": 59,
     "metadata": {},
     "output_type": "execute_result"
    }
   ],
   "source": [
    "val_model = val_imp.copy()\n",
    "val_model.head()"
   ]
  },
  {
   "cell_type": "code",
   "execution_count": 60,
   "metadata": {},
   "outputs": [
    {
     "data": {
      "text/html": [
       "<div>\n",
       "<style scoped>\n",
       "    .dataframe tbody tr th:only-of-type {\n",
       "        vertical-align: middle;\n",
       "    }\n",
       "\n",
       "    .dataframe tbody tr th {\n",
       "        vertical-align: top;\n",
       "    }\n",
       "\n",
       "    .dataframe thead th {\n",
       "        text-align: right;\n",
       "    }\n",
       "</style>\n",
       "<table border=\"1\" class=\"dataframe\">\n",
       "  <thead>\n",
       "    <tr style=\"text-align: right;\">\n",
       "      <th></th>\n",
       "      <th>city</th>\n",
       "      <th>city_development_index</th>\n",
       "      <th>gender</th>\n",
       "      <th>relevent_experience</th>\n",
       "      <th>enrolled_university</th>\n",
       "      <th>education_level</th>\n",
       "      <th>major_discipline</th>\n",
       "      <th>experience</th>\n",
       "      <th>company_size</th>\n",
       "      <th>company_type</th>\n",
       "      <th>last_new_job</th>\n",
       "      <th>training_hours</th>\n",
       "      <th>target</th>\n",
       "    </tr>\n",
       "  </thead>\n",
       "  <tbody>\n",
       "    <tr>\n",
       "      <th>3723</th>\n",
       "      <td>95</td>\n",
       "      <td>0.855</td>\n",
       "      <td>Male</td>\n",
       "      <td>Has relevent experience</td>\n",
       "      <td>no_enrollment</td>\n",
       "      <td>Graduate</td>\n",
       "      <td>STEM</td>\n",
       "      <td>16</td>\n",
       "      <td>1</td>\n",
       "      <td>Pvt Ltd</td>\n",
       "      <td>1</td>\n",
       "      <td>90</td>\n",
       "      <td>0.0</td>\n",
       "    </tr>\n",
       "    <tr>\n",
       "      <th>2425</th>\n",
       "      <td>95</td>\n",
       "      <td>0.855</td>\n",
       "      <td>Female</td>\n",
       "      <td>No relevent experience</td>\n",
       "      <td>Full time course</td>\n",
       "      <td>Masters</td>\n",
       "      <td>STEM</td>\n",
       "      <td>11</td>\n",
       "      <td>0</td>\n",
       "      <td>Unknown</td>\n",
       "      <td>&gt;4</td>\n",
       "      <td>78</td>\n",
       "      <td>0.0</td>\n",
       "    </tr>\n",
       "    <tr>\n",
       "      <th>2929</th>\n",
       "      <td>121</td>\n",
       "      <td>0.949</td>\n",
       "      <td>Male</td>\n",
       "      <td>Has relevent experience</td>\n",
       "      <td>no_enrollment</td>\n",
       "      <td>Masters</td>\n",
       "      <td>Other</td>\n",
       "      <td>21</td>\n",
       "      <td>5</td>\n",
       "      <td>Pvt Ltd</td>\n",
       "      <td>2</td>\n",
       "      <td>14</td>\n",
       "      <td>0.0</td>\n",
       "    </tr>\n",
       "    <tr>\n",
       "      <th>15665</th>\n",
       "      <td>13</td>\n",
       "      <td>0.926</td>\n",
       "      <td>Female</td>\n",
       "      <td>Has relevent experience</td>\n",
       "      <td>no_enrollment</td>\n",
       "      <td>Masters</td>\n",
       "      <td>Humanities</td>\n",
       "      <td>2</td>\n",
       "      <td>1</td>\n",
       "      <td>NGO</td>\n",
       "      <td>1</td>\n",
       "      <td>33</td>\n",
       "      <td>1.0</td>\n",
       "    </tr>\n",
       "    <tr>\n",
       "      <th>1271</th>\n",
       "      <td>64</td>\n",
       "      <td>0.624</td>\n",
       "      <td>Unknown</td>\n",
       "      <td>Has relevent experience</td>\n",
       "      <td>no_enrollment</td>\n",
       "      <td>Graduate</td>\n",
       "      <td>STEM</td>\n",
       "      <td>3</td>\n",
       "      <td>1</td>\n",
       "      <td>Pvt Ltd</td>\n",
       "      <td>1</td>\n",
       "      <td>332</td>\n",
       "      <td>0.0</td>\n",
       "    </tr>\n",
       "    <tr>\n",
       "      <th>...</th>\n",
       "      <td>...</td>\n",
       "      <td>...</td>\n",
       "      <td>...</td>\n",
       "      <td>...</td>\n",
       "      <td>...</td>\n",
       "      <td>...</td>\n",
       "      <td>...</td>\n",
       "      <td>...</td>\n",
       "      <td>...</td>\n",
       "      <td>...</td>\n",
       "      <td>...</td>\n",
       "      <td>...</td>\n",
       "      <td>...</td>\n",
       "    </tr>\n",
       "    <tr>\n",
       "      <th>16864</th>\n",
       "      <td>5</td>\n",
       "      <td>0.920</td>\n",
       "      <td>Male</td>\n",
       "      <td>Has relevent experience</td>\n",
       "      <td>no_enrollment</td>\n",
       "      <td>Graduate</td>\n",
       "      <td>STEM</td>\n",
       "      <td>20</td>\n",
       "      <td>3</td>\n",
       "      <td>Funded Startup</td>\n",
       "      <td>4</td>\n",
       "      <td>43</td>\n",
       "      <td>0.0</td>\n",
       "    </tr>\n",
       "    <tr>\n",
       "      <th>5459</th>\n",
       "      <td>102</td>\n",
       "      <td>0.579</td>\n",
       "      <td>Male</td>\n",
       "      <td>No relevent experience</td>\n",
       "      <td>Part time course</td>\n",
       "      <td>Graduate</td>\n",
       "      <td>STEM</td>\n",
       "      <td>3</td>\n",
       "      <td>0</td>\n",
       "      <td>Unknown</td>\n",
       "      <td>never</td>\n",
       "      <td>47</td>\n",
       "      <td>1.0</td>\n",
       "    </tr>\n",
       "    <tr>\n",
       "      <th>18582</th>\n",
       "      <td>5</td>\n",
       "      <td>0.920</td>\n",
       "      <td>Male</td>\n",
       "      <td>No relevent experience</td>\n",
       "      <td>no_enrollment</td>\n",
       "      <td>Phd</td>\n",
       "      <td>STEM</td>\n",
       "      <td>10</td>\n",
       "      <td>3</td>\n",
       "      <td>Public Sector</td>\n",
       "      <td>1</td>\n",
       "      <td>10</td>\n",
       "      <td>1.0</td>\n",
       "    </tr>\n",
       "    <tr>\n",
       "      <th>8437</th>\n",
       "      <td>83</td>\n",
       "      <td>0.762</td>\n",
       "      <td>Unknown</td>\n",
       "      <td>Has relevent experience</td>\n",
       "      <td>no_enrollment</td>\n",
       "      <td>Graduate</td>\n",
       "      <td>STEM</td>\n",
       "      <td>6</td>\n",
       "      <td>3</td>\n",
       "      <td>NGO</td>\n",
       "      <td>1</td>\n",
       "      <td>22</td>\n",
       "      <td>0.0</td>\n",
       "    </tr>\n",
       "    <tr>\n",
       "      <th>8283</th>\n",
       "      <td>5</td>\n",
       "      <td>0.920</td>\n",
       "      <td>Unknown</td>\n",
       "      <td>Has relevent experience</td>\n",
       "      <td>Part time course</td>\n",
       "      <td>Masters</td>\n",
       "      <td>STEM</td>\n",
       "      <td>11</td>\n",
       "      <td>4</td>\n",
       "      <td>Funded Startup</td>\n",
       "      <td>2</td>\n",
       "      <td>100</td>\n",
       "      <td>0.0</td>\n",
       "    </tr>\n",
       "  </tbody>\n",
       "</table>\n",
       "<p>3737 rows × 13 columns</p>\n",
       "</div>"
      ],
      "text/plain": [
       "       city  city_development_index   gender      relevent_experience  \\\n",
       "3723     95                   0.855     Male  Has relevent experience   \n",
       "2425     95                   0.855   Female   No relevent experience   \n",
       "2929    121                   0.949     Male  Has relevent experience   \n",
       "15665    13                   0.926   Female  Has relevent experience   \n",
       "1271     64                   0.624  Unknown  Has relevent experience   \n",
       "...     ...                     ...      ...                      ...   \n",
       "16864     5                   0.920     Male  Has relevent experience   \n",
       "5459    102                   0.579     Male   No relevent experience   \n",
       "18582     5                   0.920     Male   No relevent experience   \n",
       "8437     83                   0.762  Unknown  Has relevent experience   \n",
       "8283      5                   0.920  Unknown  Has relevent experience   \n",
       "\n",
       "      enrolled_university education_level major_discipline  experience  \\\n",
       "3723        no_enrollment        Graduate             STEM          16   \n",
       "2425     Full time course         Masters             STEM          11   \n",
       "2929        no_enrollment         Masters            Other          21   \n",
       "15665       no_enrollment         Masters       Humanities           2   \n",
       "1271        no_enrollment        Graduate             STEM           3   \n",
       "...                   ...             ...              ...         ...   \n",
       "16864       no_enrollment        Graduate             STEM          20   \n",
       "5459     Part time course        Graduate             STEM           3   \n",
       "18582       no_enrollment             Phd             STEM          10   \n",
       "8437        no_enrollment        Graduate             STEM           6   \n",
       "8283     Part time course         Masters             STEM          11   \n",
       "\n",
       "       company_size    company_type last_new_job  training_hours  target  \n",
       "3723              1         Pvt Ltd            1              90     0.0  \n",
       "2425              0         Unknown           >4              78     0.0  \n",
       "2929              5         Pvt Ltd            2              14     0.0  \n",
       "15665             1             NGO            1              33     1.0  \n",
       "1271              1         Pvt Ltd            1             332     0.0  \n",
       "...             ...             ...          ...             ...     ...  \n",
       "16864             3  Funded Startup            4              43     0.0  \n",
       "5459              0         Unknown        never              47     1.0  \n",
       "18582             3   Public Sector            1              10     1.0  \n",
       "8437              3             NGO            1              22     0.0  \n",
       "8283              4  Funded Startup            2             100     0.0  \n",
       "\n",
       "[3737 rows x 13 columns]"
      ]
     },
     "execution_count": 60,
     "metadata": {},
     "output_type": "execute_result"
    }
   ],
   "source": [
    "# Encoding value kolom experience, company_size, dan city menjadi numerik\n",
    "\n",
    "preprocessing(val_model)"
   ]
  },
  {
   "cell_type": "code",
   "execution_count": 61,
   "metadata": {},
   "outputs": [],
   "source": [
    "X_val = val_model.drop('target', axis = 1)\n",
    "y_val = val_model['target']"
   ]
  },
  {
   "cell_type": "code",
   "execution_count": 62,
   "metadata": {},
   "outputs": [
    {
     "data": {
      "text/plain": [
       "array([[ 1.43687479,  0.20877227,  0.86132727, ...,  0.        ,\n",
       "         0.        ,  0.        ],\n",
       "       [ 1.43687479,  0.20877227,  0.12349301, ...,  0.        ,\n",
       "         1.        ,  0.        ],\n",
       "       [ 2.16979554,  0.97314276,  1.59916153, ...,  0.        ,\n",
       "         0.        ,  0.        ],\n",
       "       ...,\n",
       "       [-1.10015856,  0.73732633, -0.02407384, ...,  0.        ,\n",
       "         0.        ,  0.        ],\n",
       "       [ 1.09860368, -0.54746662, -0.61434125, ...,  0.        ,\n",
       "         0.        ,  0.        ],\n",
       "       [-1.10015856,  0.73732633,  0.12349301, ...,  0.        ,\n",
       "         0.        ,  0.        ]])"
      ]
     },
     "execution_count": 62,
     "metadata": {},
     "output_type": "execute_result"
    }
   ],
   "source": [
    "# Encoding dan scaling dengan pipeline\n",
    "\n",
    "X_val_trf = preprocess_pipeline.transform(X_val)\n",
    "X_val_trf"
   ]
  },
  {
   "cell_type": "markdown",
   "metadata": {},
   "source": [
    "## Hyperparameter Tuning dengan GridSearchCV"
   ]
  },
  {
   "cell_type": "markdown",
   "metadata": {},
   "source": [
    "Untuk Milestone project ini, akan dilakukan perbandingan model Logistic Regression, SVC, Decision Tree, Random Forest, AdaBoost, GradientBoost, K-Nearest Neighbors, dan Naive Bayes. Sebelum melakukan pendifinisian model, akan dilakukan hyperparameter tuning terlebih dahulu untuk mendapatkan kombinasi hyperparameter terbaik dari setiap model. Kombinasi hyperparameter terbaik akan ditentukan dari Recall score tertinggi. Hal ini karena ingin mendapatkan model yang dapat paling banyak memprediksi Data Scientist yang mencari kerja secara akurat"
   ]
  },
  {
   "cell_type": "markdown",
   "metadata": {},
   "source": [
    "**1. Logistic Regression**"
   ]
  },
  {
   "cell_type": "code",
   "execution_count": 63,
   "metadata": {},
   "outputs": [
    {
     "name": "stdout",
     "output_type": "stream",
     "text": [
      "CPU times: user 6.2 s, sys: 127 ms, total: 6.32 s\n",
      "Wall time: 4.11 s\n"
     ]
    },
    {
     "data": {
      "text/plain": [
       "GridSearchCV(cv=5,\n",
       "             estimator=LogisticRegression(random_state=0, solver='liblinear'),\n",
       "             param_grid={'C': [0.01, 0.1, 0.5], 'penalty': ['l1', 'l2']},\n",
       "             return_train_score=True, scoring='recall')"
      ]
     },
     "execution_count": 63,
     "metadata": {},
     "output_type": "execute_result"
    }
   ],
   "source": [
    "params = {\n",
    "    'C': [0.01, 0.1, 0.5],\n",
    "    'penalty': ['l1', 'l2']\n",
    "}\n",
    "\n",
    "model_lr = LogisticRegression(random_state = 0, solver = 'liblinear')\n",
    "lr_search = GridSearchCV(model_lr, params, cv = 5, scoring = 'recall', return_train_score=True)\n",
    "%time lr_search.fit(X_train_trf, y_train)"
   ]
  },
  {
   "cell_type": "code",
   "execution_count": 64,
   "metadata": {},
   "outputs": [
    {
     "name": "stdout",
     "output_type": "stream",
     "text": [
      "Best parameters: {'C': 0.1, 'penalty': 'l2'}\n",
      "Best score     : 0.2679023990306654\n"
     ]
    }
   ],
   "source": [
    "print('Best parameters:', lr_search.best_params_)\n",
    "print('Best score     :', lr_search.best_score_)"
   ]
  },
  {
   "cell_type": "code",
   "execution_count": 65,
   "metadata": {},
   "outputs": [
    {
     "data": {
      "text/plain": [
       "LogisticRegression(C=0.1, random_state=0, solver='liblinear')"
      ]
     },
     "execution_count": 65,
     "metadata": {},
     "output_type": "execute_result"
    }
   ],
   "source": [
    "lr_search.best_estimator_"
   ]
  },
  {
   "cell_type": "markdown",
   "metadata": {},
   "source": [
    "Untuk model Logistic Regression, kombinasi hyperparameter terbaik adalah 'C': 0.1, 'penalty': 'l2', dengan recall score sebesar 0.27"
   ]
  },
  {
   "cell_type": "markdown",
   "metadata": {},
   "source": [
    "**2. SVC**"
   ]
  },
  {
   "cell_type": "code",
   "execution_count": 66,
   "metadata": {},
   "outputs": [
    {
     "name": "stdout",
     "output_type": "stream",
     "text": [
      "CPU times: user 6min 39s, sys: 6.63 s, total: 6min 46s\n",
      "Wall time: 6min 55s\n"
     ]
    },
    {
     "data": {
      "text/plain": [
       "GridSearchCV(cv=5, estimator=SVC(random_state=0),\n",
       "             param_grid={'C': [0.5, 1.0], 'kernel': ['linear', 'rbf']},\n",
       "             return_train_score=True, scoring='recall')"
      ]
     },
     "execution_count": 66,
     "metadata": {},
     "output_type": "execute_result"
    }
   ],
   "source": [
    "params = {\n",
    "    'C': [0.5, 1.0],\n",
    "    'kernel': ['linear', 'rbf']\n",
    "}\n",
    "\n",
    "model_svc = SVC(random_state = 0)\n",
    "svc_search = GridSearchCV(model_svc, params, cv = 5, scoring = 'recall', return_train_score=True)\n",
    "%time svc_search.fit(X_train_trf, y_train)"
   ]
  },
  {
   "cell_type": "code",
   "execution_count": 67,
   "metadata": {},
   "outputs": [
    {
     "name": "stdout",
     "output_type": "stream",
     "text": [
      "Best parameters: {'C': 1.0, 'kernel': 'rbf'}\n",
      "Best score     : 0.4693045241662525\n"
     ]
    }
   ],
   "source": [
    "print('Best parameters:', svc_search.best_params_)\n",
    "print('Best score     :', svc_search.best_score_)"
   ]
  },
  {
   "cell_type": "markdown",
   "metadata": {},
   "source": [
    "Untuk model SVC, kombinasi hyperparameter terbaik adalah 'C': 1.0, 'kernel': 'rbf', dengan recall score sebesar 0.47"
   ]
  },
  {
   "cell_type": "markdown",
   "metadata": {},
   "source": [
    "**3. Decision Tree**"
   ]
  },
  {
   "cell_type": "code",
   "execution_count": 68,
   "metadata": {},
   "outputs": [
    {
     "name": "stdout",
     "output_type": "stream",
     "text": [
      "CPU times: user 7.11 s, sys: 117 ms, total: 7.22 s\n",
      "Wall time: 7.5 s\n"
     ]
    },
    {
     "data": {
      "text/plain": [
       "GridSearchCV(cv=5, estimator=DecisionTreeClassifier(random_state=0),\n",
       "             param_grid={'max_depth': [10, 30, 100],\n",
       "                         'max_features': ['auto', 'log2'],\n",
       "                         'min_samples_leaf': [1, 10, 30],\n",
       "                         'min_samples_split': [5, 30, 100]},\n",
       "             return_train_score=True, scoring='recall')"
      ]
     },
     "execution_count": 68,
     "metadata": {},
     "output_type": "execute_result"
    }
   ],
   "source": [
    "params = {\n",
    "    'max_depth': [10, 30, 100],\n",
    "    'min_samples_split': [5, 30, 100],\n",
    "    'min_samples_leaf' : [1, 10, 30],\n",
    "    'max_features': ['auto', 'log2']\n",
    "}\n",
    "\n",
    "model_dt = DecisionTreeClassifier(random_state = 0)\n",
    "dt_search = GridSearchCV(model_dt, params, cv = 5, scoring = 'recall', return_train_score=True)\n",
    "%time dt_search.fit(X_train_trf, y_train)"
   ]
  },
  {
   "cell_type": "code",
   "execution_count": 69,
   "metadata": {},
   "outputs": [
    {
     "name": "stdout",
     "output_type": "stream",
     "text": [
      "Best parameters: {'max_depth': 10, 'max_features': 'auto', 'min_samples_leaf': 1, 'min_samples_split': 5}\n",
      "Best score     : 0.5147994035980019\n"
     ]
    }
   ],
   "source": [
    "print('Best parameters:', dt_search.best_params_)\n",
    "print('Best score     :', dt_search.best_score_)"
   ]
  },
  {
   "cell_type": "markdown",
   "metadata": {},
   "source": [
    "Untuk model Decision Tree, kombinasi hyperparameter terbaik adalah 'max_depth': 10, 'max_features': 'auto', 'min_samples_leaf': 1, 'min_samples_split': 5, dengan recall score sebesar 0.51"
   ]
  },
  {
   "cell_type": "markdown",
   "metadata": {},
   "source": [
    "**4. Random Forest**"
   ]
  },
  {
   "cell_type": "code",
   "execution_count": 70,
   "metadata": {},
   "outputs": [
    {
     "name": "stdout",
     "output_type": "stream",
     "text": [
      "CPU times: user 3min 41s, sys: 3.85 s, total: 3min 45s\n",
      "Wall time: 4min 4s\n"
     ]
    },
    {
     "data": {
      "text/plain": [
       "GridSearchCV(cv=5, estimator=RandomForestClassifier(random_state=0),\n",
       "             param_grid={'max_depth': [5, 10, 20], 'min_samples_leaf': [5, 10],\n",
       "                         'min_samples_split': [2, 30],\n",
       "                         'n_estimators': [50, 100, 200]},\n",
       "             return_train_score=True, scoring='recall')"
      ]
     },
     "execution_count": 70,
     "metadata": {},
     "output_type": "execute_result"
    }
   ],
   "source": [
    "params = {\n",
    "    'max_depth': [5, 10, 20],\n",
    "    'min_samples_split': [2, 30],\n",
    "    'min_samples_leaf' : [5, 10],\n",
    "    'n_estimators': [50, 100, 200]\n",
    "}\n",
    "\n",
    "model_rf = RandomForestClassifier(random_state = 0)\n",
    "rf_search = GridSearchCV(model_rf, params, cv = 5, scoring = 'recall', return_train_score=True)\n",
    "%time rf_search.fit(X_train_trf, y_train)"
   ]
  },
  {
   "cell_type": "code",
   "execution_count": 71,
   "metadata": {},
   "outputs": [
    {
     "name": "stdout",
     "output_type": "stream",
     "text": [
      "Best parameters: {'max_depth': 20, 'min_samples_leaf': 5, 'min_samples_split': 2, 'n_estimators': 200}\n",
      "Best score     : 0.4973129260338179\n"
     ]
    }
   ],
   "source": [
    "print('Best parameters:', rf_search.best_params_)\n",
    "print('Best score     :', rf_search.best_score_)"
   ]
  },
  {
   "cell_type": "markdown",
   "metadata": {},
   "source": [
    "Untuk model Random Forest, kombinasi hyperparameter terbaik adalah 'max_depth': 20, 'min_samples_leaf': 5, 'min_samples_split': 2, 'n_estimators': 200, dengan recall score sebesar 0.5"
   ]
  },
  {
   "cell_type": "markdown",
   "metadata": {},
   "source": [
    "**5. AdaBoost**"
   ]
  },
  {
   "cell_type": "code",
   "execution_count": 72,
   "metadata": {},
   "outputs": [
    {
     "name": "stdout",
     "output_type": "stream",
     "text": [
      "CPU times: user 44.2 s, sys: 412 ms, total: 44.6 s\n",
      "Wall time: 45.2 s\n"
     ]
    },
    {
     "data": {
      "text/plain": [
       "GridSearchCV(cv=5,\n",
       "             estimator=AdaBoostClassifier(base_estimator=DecisionTreeClassifier(max_depth=2),\n",
       "                                          random_state=0),\n",
       "             param_grid={'learning_rate': [0.1, 0.5, 1],\n",
       "                         'n_estimators': [50, 100]},\n",
       "             return_train_score=True, scoring='recall')"
      ]
     },
     "execution_count": 72,
     "metadata": {},
     "output_type": "execute_result"
    }
   ],
   "source": [
    "params = {\n",
    "    'learning_rate': [0.1, 0.5, 1],\n",
    "    'n_estimators': [50, 100]\n",
    "}\n",
    "\n",
    "model_ab = AdaBoostClassifier(DecisionTreeClassifier(max_depth = 2), random_state = 0)\n",
    "ab_search = GridSearchCV(model_ab, params, cv = 5, scoring = 'recall', return_train_score=True)\n",
    "%time ab_search.fit(X_train_trf, y_train)"
   ]
  },
  {
   "cell_type": "code",
   "execution_count": 73,
   "metadata": {},
   "outputs": [
    {
     "name": "stdout",
     "output_type": "stream",
     "text": [
      "Best parameters: {'learning_rate': 1, 'n_estimators': 50}\n",
      "Best score     : 0.504036959510689\n"
     ]
    }
   ],
   "source": [
    "print('Best parameters:', ab_search.best_params_)\n",
    "print('Best score     :', ab_search.best_score_)"
   ]
  },
  {
   "cell_type": "markdown",
   "metadata": {},
   "source": [
    "Untuk model AdaBoost, kombinasi hyperparameter terbaik adalah 'learning_rate': 1, 'n_estimators': 50, dengan recall score sebesar 0.5"
   ]
  },
  {
   "cell_type": "markdown",
   "metadata": {},
   "source": [
    "**6. GradientBoost**"
   ]
  },
  {
   "cell_type": "code",
   "execution_count": 74,
   "metadata": {},
   "outputs": [
    {
     "name": "stdout",
     "output_type": "stream",
     "text": [
      "CPU times: user 1min 59s, sys: 1.01 s, total: 2min\n",
      "Wall time: 2min 2s\n"
     ]
    },
    {
     "data": {
      "text/plain": [
       "GridSearchCV(cv=5, estimator=GradientBoostingClassifier(random_state=0),\n",
       "             param_grid={'learning_rate': [0.1, 1], 'max_depth': [3, 10],\n",
       "                         'n_estimators': [3, 30, 100]},\n",
       "             return_train_score=True, scoring='recall')"
      ]
     },
     "execution_count": 74,
     "metadata": {},
     "output_type": "execute_result"
    }
   ],
   "source": [
    "params = {\n",
    "    'max_depth': [3, 10],\n",
    "    'learning_rate': [0.1, 1],\n",
    "    'n_estimators': [3, 30, 100]\n",
    "}\n",
    "\n",
    "model_gb = GradientBoostingClassifier(random_state = 0)\n",
    "gb_search = GridSearchCV(model_gb, params, cv = 5, scoring = 'recall', return_train_score=True)\n",
    "%time gb_search.fit(X_train_trf, y_train)"
   ]
  },
  {
   "cell_type": "code",
   "execution_count": 75,
   "metadata": {},
   "outputs": [
    {
     "name": "stdout",
     "output_type": "stream",
     "text": [
      "Best parameters: {'learning_rate': 1, 'max_depth': 3, 'n_estimators': 3}\n",
      "Best score     : 0.5759255295607159\n"
     ]
    }
   ],
   "source": [
    "print('Best parameters:', gb_search.best_params_)\n",
    "print('Best score     :', gb_search.best_score_)"
   ]
  },
  {
   "cell_type": "markdown",
   "metadata": {},
   "source": [
    "Untuk model GradientBoost, kombinasi hyperparameter terbaik adalah 'learning_rate': 1, 'max_depth': 3, 'n_estimators': 3, dengan recall score sebesar 0.57"
   ]
  },
  {
   "cell_type": "markdown",
   "metadata": {},
   "source": [
    "**7. K-Nearest Neighbors**"
   ]
  },
  {
   "cell_type": "code",
   "execution_count": 76,
   "metadata": {},
   "outputs": [
    {
     "name": "stdout",
     "output_type": "stream",
     "text": [
      "CPU times: user 50 s, sys: 12.5 s, total: 1min 2s\n",
      "Wall time: 50.8 s\n"
     ]
    },
    {
     "data": {
      "text/plain": [
       "GridSearchCV(cv=5, estimator=KNeighborsClassifier(),\n",
       "             param_grid={'metric': ['euclidean'], 'n_neighbors': [5, 10]},\n",
       "             return_train_score=True, scoring='recall')"
      ]
     },
     "execution_count": 76,
     "metadata": {},
     "output_type": "execute_result"
    }
   ],
   "source": [
    "params = {\n",
    "    'n_neighbors': [5, 10],\n",
    "    'metric': ['euclidean']\n",
    "}\n",
    "\n",
    "model_knn = KNeighborsClassifier()\n",
    "knn_search = GridSearchCV(model_knn, params, cv = 5, scoring = 'recall', return_train_score=True)\n",
    "%time knn_search.fit(X_train_trf, y_train)"
   ]
  },
  {
   "cell_type": "code",
   "execution_count": 77,
   "metadata": {},
   "outputs": [
    {
     "name": "stdout",
     "output_type": "stream",
     "text": [
      "Best parameters: {'metric': 'euclidean', 'n_neighbors': 5}\n",
      "Best score     : 0.43188392653081953\n"
     ]
    }
   ],
   "source": [
    "print('Best parameters:', knn_search.best_params_)\n",
    "print('Best score     :', knn_search.best_score_)"
   ]
  },
  {
   "cell_type": "markdown",
   "metadata": {},
   "source": [
    "Untuk model K-Nearest Neighbors, kombinasi hyperparameter terbaik adalah 'metric': 'euclidean', 'n_neighbors': 5, 'n_estimators': 100, dengan recall score sebesar 0.43"
   ]
  },
  {
   "cell_type": "markdown",
   "metadata": {},
   "source": [
    "**8. Naive Bayes**"
   ]
  },
  {
   "cell_type": "code",
   "execution_count": 78,
   "metadata": {},
   "outputs": [
    {
     "name": "stdout",
     "output_type": "stream",
     "text": [
      "CPU times: user 443 ms, sys: 29 ms, total: 472 ms\n",
      "Wall time: 481 ms\n"
     ]
    },
    {
     "data": {
      "text/plain": [
       "GridSearchCV(cv=5, estimator=GaussianNB(),\n",
       "             param_grid={'var_smoothing': [1e-09, 1, 10]},\n",
       "             return_train_score=True, scoring='recall')"
      ]
     },
     "execution_count": 78,
     "metadata": {},
     "output_type": "execute_result"
    }
   ],
   "source": [
    "params = {\n",
    "    'var_smoothing': [1e-9, 1, 10]\n",
    "}\n",
    "\n",
    "model_nb = GaussianNB()\n",
    "nb_search = GridSearchCV(model_nb, params, cv = 5, scoring = 'recall', return_train_score=True)\n",
    "%time nb_search.fit(X_train_trf, y_train)"
   ]
  },
  {
   "cell_type": "code",
   "execution_count": 79,
   "metadata": {},
   "outputs": [
    {
     "name": "stdout",
     "output_type": "stream",
     "text": [
      "Best parameters: {'var_smoothing': 1e-09}\n",
      "Best score     : 0.6367766721203832\n"
     ]
    }
   ],
   "source": [
    "print('Best parameters:', nb_search.best_params_)\n",
    "print('Best score     :', nb_search.best_score_)"
   ]
  },
  {
   "cell_type": "markdown",
   "metadata": {},
   "source": [
    "Untuk model K-Nearest Neighbors, kombinasi hyperparameter terbaik adalah 'var_smoothing': 1e-09, dengan recall score sebesar 0.64"
   ]
  },
  {
   "cell_type": "markdown",
   "metadata": {},
   "source": [
    "# Model Defining & Training"
   ]
  },
  {
   "cell_type": "markdown",
   "metadata": {},
   "source": [
    "Kombinasi hyperparameter terbaik setiap model yang didapat dari GridSearch akan diaplikasikan pada pendefinisian model"
   ]
  },
  {
   "cell_type": "code",
   "execution_count": 80,
   "metadata": {},
   "outputs": [],
   "source": [
    "# Defining models\n",
    "\n",
    "lr = lr_search.best_estimator_\n",
    "svc = svc_search.best_estimator_\n",
    "dt = dt_search.best_estimator_\n",
    "rf = rf_search.best_estimator_\n",
    "ab = ab_search.best_estimator_\n",
    "gb = gb_search.best_estimator_\n",
    "knn = knn_search.best_estimator_\n",
    "nb = nb_search.best_estimator_"
   ]
  },
  {
   "cell_type": "markdown",
   "metadata": {},
   "source": [
    "## Fitting Model & Predicting Train Data"
   ]
  },
  {
   "cell_type": "code",
   "execution_count": 81,
   "metadata": {},
   "outputs": [
    {
     "name": "stdout",
     "output_type": "stream",
     "text": [
      "CPU times: user 71.5 ms, sys: 8.4 ms, total: 79.9 ms\n",
      "Wall time: 87 ms\n"
     ]
    }
   ],
   "source": [
    "%time lr.fit(X_train_trf, y_train)\n",
    "lr_train = lr.predict(X_train_trf)\n",
    "cm_lr_train = confusion_matrix(y_train, lr_train)\n",
    "lr_df_train = pd.DataFrame(data=[recall_score(y_train, lr_train), precision_score(y_train, lr_train), roc_auc_score(y_train, lr_train)], \n",
    "             columns=['LogReg Score'],\n",
    "             index=[\"Recall\", \"Precision\", \"ROC AUC Score\"])"
   ]
  },
  {
   "cell_type": "code",
   "execution_count": 82,
   "metadata": {},
   "outputs": [
    {
     "name": "stdout",
     "output_type": "stream",
     "text": [
      "CPU times: user 12.7 s, sys: 287 ms, total: 12.9 s\n",
      "Wall time: 13.1 s\n"
     ]
    }
   ],
   "source": [
    "%time svc.fit(X_train_trf, y_train)\n",
    "svc_train = svc.predict(X_train_trf)\n",
    "cm_svc_train = confusion_matrix(y_train, svc_train)\n",
    "svc_df_train = pd.DataFrame(data=[recall_score(y_train, svc_train), precision_score(y_train, svc_train), roc_auc_score(y_train, svc_train)], \n",
    "             columns=['SVC Score'],\n",
    "             index=[\"Recall\", \"Precision\", \"ROC AUC Score\"])"
   ]
  },
  {
   "cell_type": "code",
   "execution_count": 83,
   "metadata": {},
   "outputs": [
    {
     "name": "stdout",
     "output_type": "stream",
     "text": [
      "CPU times: user 23.5 ms, sys: 4.14 ms, total: 27.7 ms\n",
      "Wall time: 25.5 ms\n"
     ]
    }
   ],
   "source": [
    "%time dt.fit(X_train_trf, y_train)\n",
    "dt_train = dt.predict(X_train_trf)\n",
    "cm_dt_train = confusion_matrix(y_train, dt_train)\n",
    "dt_df_train = pd.DataFrame(data=[recall_score(y_train, dt_train), precision_score(y_train, dt_train), roc_auc_score(y_train, dt_train)], \n",
    "             columns=['Decision Tree Score'],\n",
    "             index=[\"Recall\", \"Precision\", \"ROC AUC Score\"])"
   ]
  },
  {
   "cell_type": "code",
   "execution_count": 84,
   "metadata": {},
   "outputs": [
    {
     "name": "stdout",
     "output_type": "stream",
     "text": [
      "CPU times: user 3.9 s, sys: 81.6 ms, total: 3.98 s\n",
      "Wall time: 4.08 s\n"
     ]
    }
   ],
   "source": [
    "%time rf.fit(X_train_trf, y_train)\n",
    "rf_train = rf.predict(X_train_trf)\n",
    "cm_rf_train = confusion_matrix(y_train, rf_train)\n",
    "rf_df_train = pd.DataFrame(data=[recall_score(y_train, rf_train), precision_score(y_train, rf_train), roc_auc_score(y_train, rf_train)], \n",
    "             columns=['Random Forest Score'],\n",
    "             index=[\"Recall\", \"Precision\", \"ROC AUC Score\"])"
   ]
  },
  {
   "cell_type": "code",
   "execution_count": 85,
   "metadata": {},
   "outputs": [
    {
     "name": "stdout",
     "output_type": "stream",
     "text": [
      "CPU times: user 1.44 s, sys: 19.7 ms, total: 1.46 s\n",
      "Wall time: 1.48 s\n"
     ]
    }
   ],
   "source": [
    "%time ab.fit(X_train_trf, y_train)\n",
    "ab_train = ab.predict(X_train_trf)\n",
    "cm_ab_train = confusion_matrix(y_train, ab_train)\n",
    "ab_df_train = pd.DataFrame(data=[recall_score(y_train, ab_train), precision_score(y_train, ab_train), roc_auc_score(y_train, ab_train)], \n",
    "             columns=['AdaBoost Score'],\n",
    "             index=[\"Recall\", \"Precision\", \"ROC AUC Score\"])"
   ]
  },
  {
   "cell_type": "code",
   "execution_count": 86,
   "metadata": {},
   "outputs": [
    {
     "name": "stdout",
     "output_type": "stream",
     "text": [
      "CPU times: user 109 ms, sys: 3.69 ms, total: 112 ms\n",
      "Wall time: 112 ms\n"
     ]
    }
   ],
   "source": [
    "%time gb.fit(X_train_trf, y_train)\n",
    "gb_train = gb.predict(X_train_trf)\n",
    "cm_gb_train = confusion_matrix(y_train, gb_train)\n",
    "gb_df_train = pd.DataFrame(data=[recall_score(y_train, gb_train), precision_score(y_train, gb_train), roc_auc_score(y_train, gb_train)], \n",
    "             columns=['GradientBoost Score'],\n",
    "             index=[\"Recall\", \"Precision\", \"ROC AUC Score\"])"
   ]
  },
  {
   "cell_type": "code",
   "execution_count": 87,
   "metadata": {},
   "outputs": [
    {
     "name": "stdout",
     "output_type": "stream",
     "text": [
      "CPU times: user 5.58 ms, sys: 2.72 ms, total: 8.3 ms\n",
      "Wall time: 5.27 ms\n"
     ]
    }
   ],
   "source": [
    "%time knn.fit(X_train_trf, y_train)\n",
    "knn_train = knn.predict(X_train_trf)\n",
    "cm_knn_train = confusion_matrix(y_train, knn_train)\n",
    "knn_df_train = pd.DataFrame(data=[recall_score(y_train, knn_train), precision_score(y_train, knn_train), roc_auc_score(y_train, knn_train)], \n",
    "             columns=['KNN Score'],\n",
    "             index=[\"Recall\", \"Precision\", \"ROC AUC Score\"])"
   ]
  },
  {
   "cell_type": "code",
   "execution_count": 88,
   "metadata": {},
   "outputs": [
    {
     "name": "stdout",
     "output_type": "stream",
     "text": [
      "CPU times: user 16 ms, sys: 7.23 ms, total: 23.3 ms\n",
      "Wall time: 20.7 ms\n"
     ]
    }
   ],
   "source": [
    "%time nb.fit(X_train_trf, y_train)\n",
    "nb_train = nb.predict(X_train_trf)\n",
    "cm_nb_train = confusion_matrix(y_train, nb_train)\n",
    "nb_df_train = pd.DataFrame(data=[recall_score(y_train, nb_train), precision_score(y_train, nb_train), roc_auc_score(y_train, nb_train)], \n",
    "             columns=['Naive Bayes Score'],\n",
    "             index=[\"Recall\", \"Precision\", \"ROC AUC Score\"])"
   ]
  },
  {
   "cell_type": "markdown",
   "metadata": {},
   "source": [
    "## Predicting Validation Data"
   ]
  },
  {
   "cell_type": "code",
   "execution_count": 89,
   "metadata": {},
   "outputs": [],
   "source": [
    "lr_val = lr.predict(X_val_trf)\n",
    "cm_lr_val = confusion_matrix(y_val, lr_val)\n",
    "lr_df_val = pd.DataFrame(data=[recall_score(y_val, lr_val), precision_score(y_val, lr_val), roc_auc_score(y_val, lr_val)], \n",
    "             columns=['LogReg Score'],\n",
    "             index=[\"Recall\", \"Precision\", \"ROC AUC Score\"])"
   ]
  },
  {
   "cell_type": "code",
   "execution_count": 90,
   "metadata": {},
   "outputs": [],
   "source": [
    "svc_val = svc.predict(X_val_trf)\n",
    "cm_svc_val = confusion_matrix(y_val, svc_val)\n",
    "svc_df_val = pd.DataFrame(data=[recall_score(y_val, svc_val), precision_score(y_val, svc_val), roc_auc_score(y_val, svc_val)], \n",
    "             columns=['SVC Score'],\n",
    "             index=[\"Recall\", \"Precision\", \"ROC AUC Score\"])"
   ]
  },
  {
   "cell_type": "code",
   "execution_count": 91,
   "metadata": {},
   "outputs": [],
   "source": [
    "dt_val = dt.predict(X_val_trf)\n",
    "cm_dt_val = confusion_matrix(y_val, dt_val)\n",
    "dt_df_val = pd.DataFrame(data=[recall_score(y_val, dt_val), precision_score(y_val, dt_val), roc_auc_score(y_val, dt_val)], \n",
    "             columns=['Decision Tree Score'],\n",
    "             index=[\"Recall\", \"Precision\", \"ROC AUC Score\"])"
   ]
  },
  {
   "cell_type": "code",
   "execution_count": 92,
   "metadata": {},
   "outputs": [],
   "source": [
    "rf_val = rf.predict(X_val_trf)\n",
    "cm_rf_val = confusion_matrix(y_val, rf_val)\n",
    "rf_df_val = pd.DataFrame(data=[recall_score(y_val, rf_val), precision_score(y_val, rf_val), roc_auc_score(y_val, rf_val)], \n",
    "             columns=['Random Forest Score'],\n",
    "             index=[\"Recall\", \"Precision\", \"ROC AUC Score\"])"
   ]
  },
  {
   "cell_type": "code",
   "execution_count": 93,
   "metadata": {},
   "outputs": [],
   "source": [
    "ab_val = ab.predict(X_val_trf)\n",
    "cm_ab_val = confusion_matrix(y_val, ab_val)\n",
    "ab_df_val = pd.DataFrame(data=[recall_score(y_val, ab_val), precision_score(y_val, ab_val), roc_auc_score(y_val, ab_val)], \n",
    "             columns=['AdaBoost Score'],\n",
    "             index=[\"Recall\", \"Precision\", \"ROC AUC Score\"])"
   ]
  },
  {
   "cell_type": "code",
   "execution_count": 94,
   "metadata": {},
   "outputs": [],
   "source": [
    "gb_val = gb.predict(X_val_trf)\n",
    "cm_gb_val = confusion_matrix(y_val, gb_val)\n",
    "gb_df_val = pd.DataFrame(data=[recall_score(y_val, gb_val), precision_score(y_val, gb_val), roc_auc_score(y_val, gb_val)], \n",
    "             columns=['GradientBoost Score'],\n",
    "             index=[\"Recall\", \"Precision\", \"ROC AUC Score\"])"
   ]
  },
  {
   "cell_type": "code",
   "execution_count": 95,
   "metadata": {},
   "outputs": [],
   "source": [
    "knn_val = knn.predict(X_val_trf)\n",
    "cm_knn_val = confusion_matrix(y_val, knn_val)\n",
    "knn_df_val = pd.DataFrame(data=[recall_score(y_val, knn_val), precision_score(y_val, knn_val), roc_auc_score(y_val, knn_val)], \n",
    "             columns=['KNN Score'],\n",
    "             index=[\"Recall\", \"Precision\", \"ROC AUC Score\"])"
   ]
  },
  {
   "cell_type": "code",
   "execution_count": 96,
   "metadata": {},
   "outputs": [],
   "source": [
    "nb_val = nb.predict(X_val_trf)\n",
    "cm_nb_val = confusion_matrix(y_val, nb_val)\n",
    "nb_df_val = pd.DataFrame(data=[recall_score(y_val, nb_val), precision_score(y_val, nb_val), roc_auc_score(y_val, nb_val)], \n",
    "             columns=['Naive Bayes Score'],\n",
    "             index=[\"Recall\", \"Precision\", \"ROC AUC Score\"])"
   ]
  },
  {
   "cell_type": "markdown",
   "metadata": {},
   "source": [
    "# Model Evaluation"
   ]
  },
  {
   "cell_type": "markdown",
   "metadata": {},
   "source": [
    "Untuk model evaluation, akan dilihat recall score, precision score, dan AUC score dari masing-masing model"
   ]
  },
  {
   "cell_type": "markdown",
   "metadata": {},
   "source": [
    "**Evaluation Train Data**"
   ]
  },
  {
   "cell_type": "code",
   "execution_count": 97,
   "metadata": {},
   "outputs": [
    {
     "data": {
      "text/html": [
       "<div>\n",
       "<style scoped>\n",
       "    .dataframe tbody tr th:only-of-type {\n",
       "        vertical-align: middle;\n",
       "    }\n",
       "\n",
       "    .dataframe tbody tr th {\n",
       "        vertical-align: top;\n",
       "    }\n",
       "\n",
       "    .dataframe thead th {\n",
       "        text-align: right;\n",
       "    }\n",
       "</style>\n",
       "<table border=\"1\" class=\"dataframe\">\n",
       "  <thead>\n",
       "    <tr style=\"text-align: right;\">\n",
       "      <th></th>\n",
       "      <th>LogReg Score</th>\n",
       "      <th>SVC Score</th>\n",
       "      <th>Decision Tree Score</th>\n",
       "      <th>Random Forest Score</th>\n",
       "      <th>AdaBoost Score</th>\n",
       "      <th>GradientBoost Score</th>\n",
       "      <th>KNN Score</th>\n",
       "      <th>Naive Bayes Score</th>\n",
       "    </tr>\n",
       "  </thead>\n",
       "  <tbody>\n",
       "    <tr>\n",
       "      <th>Recall</th>\n",
       "      <td>0.267</td>\n",
       "      <td>0.509</td>\n",
       "      <td>0.585</td>\n",
       "      <td>0.639</td>\n",
       "      <td>0.532</td>\n",
       "      <td>0.504</td>\n",
       "      <td>0.580</td>\n",
       "      <td>0.641</td>\n",
       "    </tr>\n",
       "    <tr>\n",
       "      <th>Precision</th>\n",
       "      <td>0.583</td>\n",
       "      <td>0.633</td>\n",
       "      <td>0.628</td>\n",
       "      <td>0.745</td>\n",
       "      <td>0.622</td>\n",
       "      <td>0.599</td>\n",
       "      <td>0.701</td>\n",
       "      <td>0.421</td>\n",
       "    </tr>\n",
       "    <tr>\n",
       "      <th>ROC AUC Score</th>\n",
       "      <td>0.602</td>\n",
       "      <td>0.706</td>\n",
       "      <td>0.735</td>\n",
       "      <td>0.783</td>\n",
       "      <td>0.712</td>\n",
       "      <td>0.696</td>\n",
       "      <td>0.749</td>\n",
       "      <td>0.675</td>\n",
       "    </tr>\n",
       "  </tbody>\n",
       "</table>\n",
       "</div>"
      ],
      "text/plain": [
       "               LogReg Score  SVC Score  Decision Tree Score  \\\n",
       "Recall                0.267      0.509                0.585   \n",
       "Precision             0.583      0.633                0.628   \n",
       "ROC AUC Score         0.602      0.706                0.735   \n",
       "\n",
       "               Random Forest Score  AdaBoost Score  GradientBoost Score  \\\n",
       "Recall                       0.639           0.532                0.504   \n",
       "Precision                    0.745           0.622                0.599   \n",
       "ROC AUC Score                0.783           0.712                0.696   \n",
       "\n",
       "               KNN Score  Naive Bayes Score  \n",
       "Recall             0.580              0.641  \n",
       "Precision          0.701              0.421  \n",
       "ROC AUC Score      0.749              0.675  "
      ]
     },
     "execution_count": 97,
     "metadata": {},
     "output_type": "execute_result"
    }
   ],
   "source": [
    "eval_train = round(pd.concat([lr_df_train, svc_df_train, dt_df_train, rf_df_train, ab_df_train, gb_df_train, knn_df_train, nb_df_train], axis=1),3)\n",
    "eval_train"
   ]
  },
  {
   "cell_type": "markdown",
   "metadata": {},
   "source": [
    "**Evaluation Validation Data**"
   ]
  },
  {
   "cell_type": "code",
   "execution_count": 98,
   "metadata": {},
   "outputs": [
    {
     "data": {
      "text/html": [
       "<div>\n",
       "<style scoped>\n",
       "    .dataframe tbody tr th:only-of-type {\n",
       "        vertical-align: middle;\n",
       "    }\n",
       "\n",
       "    .dataframe tbody tr th {\n",
       "        vertical-align: top;\n",
       "    }\n",
       "\n",
       "    .dataframe thead th {\n",
       "        text-align: right;\n",
       "    }\n",
       "</style>\n",
       "<table border=\"1\" class=\"dataframe\">\n",
       "  <thead>\n",
       "    <tr style=\"text-align: right;\">\n",
       "      <th></th>\n",
       "      <th>LogReg Score</th>\n",
       "      <th>SVC Score</th>\n",
       "      <th>Decision Tree Score</th>\n",
       "      <th>Random Forest Score</th>\n",
       "      <th>AdaBoost Score</th>\n",
       "      <th>GradientBoost Score</th>\n",
       "      <th>KNN Score</th>\n",
       "      <th>Naive Bayes Score</th>\n",
       "    </tr>\n",
       "  </thead>\n",
       "  <tbody>\n",
       "    <tr>\n",
       "      <th>Recall</th>\n",
       "      <td>0.274</td>\n",
       "      <td>0.466</td>\n",
       "      <td>0.524</td>\n",
       "      <td>0.509</td>\n",
       "      <td>0.498</td>\n",
       "      <td>0.479</td>\n",
       "      <td>0.423</td>\n",
       "      <td>0.639</td>\n",
       "    </tr>\n",
       "    <tr>\n",
       "      <th>Precision</th>\n",
       "      <td>0.578</td>\n",
       "      <td>0.571</td>\n",
       "      <td>0.559</td>\n",
       "      <td>0.578</td>\n",
       "      <td>0.569</td>\n",
       "      <td>0.576</td>\n",
       "      <td>0.527</td>\n",
       "      <td>0.416</td>\n",
       "    </tr>\n",
       "    <tr>\n",
       "      <th>ROC AUC Score</th>\n",
       "      <td>0.604</td>\n",
       "      <td>0.676</td>\n",
       "      <td>0.695</td>\n",
       "      <td>0.694</td>\n",
       "      <td>0.688</td>\n",
       "      <td>0.682</td>\n",
       "      <td>0.650</td>\n",
       "      <td>0.673</td>\n",
       "    </tr>\n",
       "  </tbody>\n",
       "</table>\n",
       "</div>"
      ],
      "text/plain": [
       "               LogReg Score  SVC Score  Decision Tree Score  \\\n",
       "Recall                0.274      0.466                0.524   \n",
       "Precision             0.578      0.571                0.559   \n",
       "ROC AUC Score         0.604      0.676                0.695   \n",
       "\n",
       "               Random Forest Score  AdaBoost Score  GradientBoost Score  \\\n",
       "Recall                       0.509           0.498                0.479   \n",
       "Precision                    0.578           0.569                0.576   \n",
       "ROC AUC Score                0.694           0.688                0.682   \n",
       "\n",
       "               KNN Score  Naive Bayes Score  \n",
       "Recall             0.423              0.639  \n",
       "Precision          0.527              0.416  \n",
       "ROC AUC Score      0.650              0.673  "
      ]
     },
     "execution_count": 98,
     "metadata": {},
     "output_type": "execute_result"
    }
   ],
   "source": [
    "eval_val = round(pd.concat([lr_df_val, svc_df_val, dt_df_val, rf_df_val, ab_df_val, gb_df_val, knn_df_val, nb_df_val], axis=1),3)\n",
    "eval_val"
   ]
  },
  {
   "cell_type": "markdown",
   "metadata": {},
   "source": [
    "Dapat dilihat bahwa beberapa model mengalami overfitting, yaitu model Random Forest dan K-Nearest Neighbor. Model SVC, Decision Tree, dan Adaboost juga mungkin mengalami overfitting. Dari semua model, **model Naive Bayes merupakan model yang menghasilkan recall score tertinggi**. Namun menghasilkan precision score paling rendah. Hal ini akan ditolerir karena pada Milestone Project ini, lebih diutamakan recall score tinggi untuk menghindari jumlah prediksi False Negative yang banyak. Prediksi False Negative adalah ketika seorang Data Scientist sedang tidak mencari pekerjaan baru, tapi diprediksi sebaliknya"
   ]
  },
  {
   "cell_type": "code",
   "execution_count": 99,
   "metadata": {},
   "outputs": [
    {
     "name": "stdout",
     "output_type": "stream",
     "text": [
      "Model Naive Bayes\n",
      "              precision    recall  f1-score   support\n",
      "\n",
      "         0.0       0.86      0.71      0.78      2818\n",
      "         1.0       0.42      0.64      0.50       919\n",
      "\n",
      "    accuracy                           0.69      3737\n",
      "   macro avg       0.64      0.67      0.64      3737\n",
      "weighted avg       0.75      0.69      0.71      3737\n",
      "\n",
      "\n",
      "Confusion Matrix\n",
      "[[1993  825]\n",
      " [ 332  587]]\n"
     ]
    }
   ],
   "source": [
    "# Melihat classification report dan confusion matrix model Naive Bayes\n",
    "\n",
    "print('Model Naive Bayes')\n",
    "print(classification_report(y_val, nb_val))\n",
    "print()\n",
    "print('Confusion Matrix')\n",
    "print(cm_nb_val)"
   ]
  },
  {
   "cell_type": "markdown",
   "metadata": {},
   "source": [
    "Dapat dilihat bahwa model berhasil memprediksi 587 Data Scientist yang sedang mencari kerja dengan akurat. Namun, terdapat 332 Data Scientist yang sedang mencari kerja yang diprediksi sebaliknya"
   ]
  },
  {
   "cell_type": "markdown",
   "metadata": {},
   "source": [
    "# SMOTE"
   ]
  },
  {
   "cell_type": "markdown",
   "metadata": {},
   "source": [
    "Untuk mengatasi imbalanced data, akan dicoba menggunakan metode over sampling menggunakan SMOTE"
   ]
  },
  {
   "cell_type": "code",
   "execution_count": 100,
   "metadata": {},
   "outputs": [],
   "source": [
    "oversample = SMOTE()\n",
    "X_train_resh, y_train_resh = oversample.fit_resample(X_train_trf, y_train.ravel())"
   ]
  },
  {
   "cell_type": "code",
   "execution_count": 101,
   "metadata": {},
   "outputs": [],
   "source": [
    "yes = y_train_resh[y_train_resh == 1]\n",
    "no = y_train_resh[y_train_resh == 0]"
   ]
  },
  {
   "cell_type": "code",
   "execution_count": 102,
   "metadata": {},
   "outputs": [
    {
     "data": {
      "text/plain": [
       "(11261, 11261)"
      ]
     },
     "execution_count": 102,
     "metadata": {},
     "output_type": "execute_result"
    }
   ],
   "source": [
    "yes.shape[0], no.shape[0]"
   ]
  },
  {
   "cell_type": "markdown",
   "metadata": {},
   "source": [
    "Dapat dilihat bahwa setelah proses over sampling, data Data Scientist yang mencari perkerjaan baru dan yang tidak memiliki jumlah yang sama"
   ]
  },
  {
   "cell_type": "markdown",
   "metadata": {},
   "source": [
    "## Model Defining & Training"
   ]
  },
  {
   "cell_type": "markdown",
   "metadata": {},
   "source": [
    "Untuk menghemat waktu, hanya akan dicoba 4 model untuk bagian ini, yaitu model Logistic Regression, Random Forest, GradientBoost, dan Naive Bayes"
   ]
  },
  {
   "cell_type": "markdown",
   "metadata": {},
   "source": [
    "**1. Logistic Regression**"
   ]
  },
  {
   "cell_type": "code",
   "execution_count": 103,
   "metadata": {},
   "outputs": [
    {
     "name": "stdout",
     "output_type": "stream",
     "text": [
      "CPU times: user 12.9 s, sys: 231 ms, total: 13.1 s\n",
      "Wall time: 8.74 s\n"
     ]
    },
    {
     "data": {
      "text/plain": [
       "GridSearchCV(cv=5,\n",
       "             estimator=LogisticRegression(random_state=0, solver='liblinear'),\n",
       "             param_grid={'C': [0.01, 0.1, 0.5], 'penalty': ['l1', 'l2']},\n",
       "             return_train_score=True, scoring='recall')"
      ]
     },
     "execution_count": 103,
     "metadata": {},
     "output_type": "execute_result"
    }
   ],
   "source": [
    "params = {\n",
    "    'C': [0.01, 0.1, 0.5],\n",
    "    'penalty': ['l1', 'l2']\n",
    "}\n",
    "\n",
    "model_slr = LogisticRegression(random_state = 0, solver = 'liblinear')\n",
    "slr_search = GridSearchCV(model_slr, params, cv = 5, scoring = 'recall', return_train_score=True)\n",
    "%time slr_search.fit(X_train_resh, y_train_resh)"
   ]
  },
  {
   "cell_type": "code",
   "execution_count": 104,
   "metadata": {},
   "outputs": [
    {
     "name": "stdout",
     "output_type": "stream",
     "text": [
      "Best parameters: {'C': 0.5, 'penalty': 'l1'}\n",
      "Best score     : 0.7566836481691277\n"
     ]
    }
   ],
   "source": [
    "print('Best parameters:', slr_search.best_params_)\n",
    "print('Best score     :', slr_search.best_score_)"
   ]
  },
  {
   "cell_type": "code",
   "execution_count": 105,
   "metadata": {},
   "outputs": [
    {
     "data": {
      "text/plain": [
       "LogisticRegression(C=0.5, penalty='l1', random_state=0, solver='liblinear')"
      ]
     },
     "execution_count": 105,
     "metadata": {},
     "output_type": "execute_result"
    }
   ],
   "source": [
    "slr_search.best_estimator_"
   ]
  },
  {
   "cell_type": "markdown",
   "metadata": {},
   "source": [
    "Untuk model Logistic Regression, kombinasi hyperparameter terbaik adalah 'C': 0.5, 'penalty': 'l1', dengan recall score sebesar 0.76"
   ]
  },
  {
   "cell_type": "markdown",
   "metadata": {},
   "source": [
    "**2. Random Forest**"
   ]
  },
  {
   "cell_type": "code",
   "execution_count": 106,
   "metadata": {},
   "outputs": [
    {
     "name": "stdout",
     "output_type": "stream",
     "text": [
      "CPU times: user 6min 26s, sys: 4.94 s, total: 6min 31s\n",
      "Wall time: 6min 36s\n"
     ]
    },
    {
     "data": {
      "text/plain": [
       "GridSearchCV(cv=5, estimator=RandomForestClassifier(random_state=0),\n",
       "             param_grid={'max_depth': [5, 10, 20], 'min_samples_leaf': [5, 10],\n",
       "                         'min_samples_split': [2, 30],\n",
       "                         'n_estimators': [50, 100, 200]},\n",
       "             return_train_score=True, scoring='recall')"
      ]
     },
     "execution_count": 106,
     "metadata": {},
     "output_type": "execute_result"
    }
   ],
   "source": [
    "params = {\n",
    "    'max_depth': [5, 10, 20],\n",
    "    'min_samples_split': [2, 30],\n",
    "    'min_samples_leaf' : [5, 10],\n",
    "    'n_estimators': [50, 100, 200]\n",
    "}\n",
    "\n",
    "model_srf = RandomForestClassifier(random_state = 0)\n",
    "srf_search = GridSearchCV(model_srf, params, cv = 5, scoring = 'recall', return_train_score=True)\n",
    "%time srf_search.fit(X_train_resh, y_train_resh)"
   ]
  },
  {
   "cell_type": "code",
   "execution_count": 107,
   "metadata": {},
   "outputs": [
    {
     "name": "stdout",
     "output_type": "stream",
     "text": [
      "Best parameters: {'max_depth': 20, 'min_samples_leaf': 5, 'min_samples_split': 2, 'n_estimators': 100}\n",
      "Best score     : 0.8344845120656176\n"
     ]
    }
   ],
   "source": [
    "print('Best parameters:', srf_search.best_params_)\n",
    "print('Best score     :', srf_search.best_score_)"
   ]
  },
  {
   "cell_type": "markdown",
   "metadata": {},
   "source": [
    "Untuk model Random Forest, kombinasi hyperparameter terbaik adalah 'max_depth': 20, 'min_samples_leaf': 5, 'min_samples_split': 2, 'n_estimators': 200, dengan recall score sebesar 0.83"
   ]
  },
  {
   "cell_type": "markdown",
   "metadata": {},
   "source": [
    "**3. GradientBoost**"
   ]
  },
  {
   "cell_type": "code",
   "execution_count": 108,
   "metadata": {},
   "outputs": [
    {
     "name": "stdout",
     "output_type": "stream",
     "text": [
      "CPU times: user 4min 27s, sys: 2.94 s, total: 4min 30s\n",
      "Wall time: 4min 39s\n"
     ]
    },
    {
     "data": {
      "text/plain": [
       "GridSearchCV(cv=5, estimator=GradientBoostingClassifier(random_state=0),\n",
       "             param_grid={'learning_rate': [0.1, 1], 'max_depth': [3, 10],\n",
       "                         'n_estimators': [3, 30, 100]},\n",
       "             return_train_score=True, scoring='recall')"
      ]
     },
     "execution_count": 108,
     "metadata": {},
     "output_type": "execute_result"
    }
   ],
   "source": [
    "params = {\n",
    "    'max_depth': [3, 10],\n",
    "    'learning_rate': [0.1, 1],\n",
    "    'n_estimators': [3, 30, 100]\n",
    "}\n",
    "\n",
    "model_sgb = GradientBoostingClassifier(random_state = 0)\n",
    "sgb_search = GridSearchCV(model_sgb, params, cv = 5, scoring = 'recall', return_train_score=True)\n",
    "%time sgb_search.fit(X_train_resh, y_train_resh)"
   ]
  },
  {
   "cell_type": "code",
   "execution_count": 109,
   "metadata": {},
   "outputs": [
    {
     "name": "stdout",
     "output_type": "stream",
     "text": [
      "Best parameters: {'learning_rate': 0.1, 'max_depth': 10, 'n_estimators': 30}\n",
      "Best score     : 0.8422181910206167\n"
     ]
    }
   ],
   "source": [
    "print('Best parameters:', sgb_search.best_params_)\n",
    "print('Best score     :', sgb_search.best_score_)"
   ]
  },
  {
   "cell_type": "markdown",
   "metadata": {},
   "source": [
    "Untuk model GradientBoost, kombinasi hyperparameter terbaik adalah 'learning_rate': 0.1, 'max_depth': 10, 'n_estimators': 30, dengan recall score sebesar 0.85"
   ]
  },
  {
   "cell_type": "markdown",
   "metadata": {},
   "source": [
    "**4. Naive Bayes**"
   ]
  },
  {
   "cell_type": "code",
   "execution_count": 110,
   "metadata": {},
   "outputs": [
    {
     "name": "stdout",
     "output_type": "stream",
     "text": [
      "CPU times: user 905 ms, sys: 148 ms, total: 1.05 s\n",
      "Wall time: 1.32 s\n"
     ]
    },
    {
     "data": {
      "text/plain": [
       "GridSearchCV(cv=5, estimator=GaussianNB(),\n",
       "             param_grid={'var_smoothing': [1e-09, 1, 10]},\n",
       "             return_train_score=True, scoring='recall')"
      ]
     },
     "execution_count": 110,
     "metadata": {},
     "output_type": "execute_result"
    }
   ],
   "source": [
    "params = {\n",
    "    'var_smoothing': [1e-9, 1, 10]\n",
    "}\n",
    "\n",
    "model_snb = GaussianNB()\n",
    "snb_search = GridSearchCV(model_snb, params, cv = 5, scoring = 'recall', return_train_score=True)\n",
    "%time snb_search.fit(X_train_resh, y_train_resh)"
   ]
  },
  {
   "cell_type": "code",
   "execution_count": 112,
   "metadata": {},
   "outputs": [
    {
     "name": "stdout",
     "output_type": "stream",
     "text": [
      "Best parameters: {'var_smoothing': 1e-09}\n",
      "Best score     : 0.7738249533481705\n"
     ]
    }
   ],
   "source": [
    "print('Best parameters:', snb_search.best_params_)\n",
    "print('Best score     :', snb_search.best_score_)"
   ]
  },
  {
   "cell_type": "markdown",
   "metadata": {},
   "source": [
    "Untuk model Naive Bayes, kombinasi hyperparameter terbaik adalah 'var_smoothing': 1e-09, dengan recall score sebesar 0.78"
   ]
  },
  {
   "cell_type": "markdown",
   "metadata": {},
   "source": [
    "## Model Defining & Training"
   ]
  },
  {
   "cell_type": "code",
   "execution_count": 113,
   "metadata": {},
   "outputs": [],
   "source": [
    "# Defining models\n",
    "\n",
    "slr = slr_search.best_estimator_\n",
    "srf = srf_search.best_estimator_\n",
    "sgb = sgb_search.best_estimator_\n",
    "snb = snb_search.best_estimator_"
   ]
  },
  {
   "cell_type": "code",
   "execution_count": 114,
   "metadata": {},
   "outputs": [
    {
     "name": "stdout",
     "output_type": "stream",
     "text": [
      "CPU times: user 300 ms, sys: 4.63 ms, total: 305 ms\n",
      "Wall time: 305 ms\n",
      "CPU times: user 2.15 s, sys: 36.3 ms, total: 2.18 s\n",
      "Wall time: 2.26 s\n",
      "CPU times: user 4.75 s, sys: 46 ms, total: 4.79 s\n",
      "Wall time: 5.12 s\n",
      "CPU times: user 12.2 ms, sys: 3.54 ms, total: 15.8 ms\n",
      "Wall time: 15.4 ms\n"
     ]
    },
    {
     "data": {
      "text/plain": [
       "GaussianNB()"
      ]
     },
     "execution_count": 114,
     "metadata": {},
     "output_type": "execute_result"
    }
   ],
   "source": [
    "%time slr.fit(X_train_resh,y_train_resh)\n",
    "%time srf.fit(X_train_resh,y_train_resh)\n",
    "%time sgb.fit(X_train_resh,y_train_resh)\n",
    "%time snb.fit(X_train_resh,y_train_resh)"
   ]
  },
  {
   "cell_type": "markdown",
   "metadata": {},
   "source": [
    "**Predicting Train Data**"
   ]
  },
  {
   "cell_type": "code",
   "execution_count": 115,
   "metadata": {},
   "outputs": [],
   "source": [
    "slr_train = slr.predict(X_train_resh)\n",
    "cm_slr_train = confusion_matrix(y_train_resh, slr_train)\n",
    "slr_df_train = pd.DataFrame(data=[recall_score(y_train_resh, slr_train), precision_score(y_train_resh, slr_train), roc_auc_score(y_train_resh, slr_train)], \n",
    "             columns=['SMOTE LogReg Score'],\n",
    "             index=['Recall', 'Precision', 'ROC AUC Score'])"
   ]
  },
  {
   "cell_type": "code",
   "execution_count": 116,
   "metadata": {},
   "outputs": [],
   "source": [
    "srf_train = srf.predict(X_train_resh)\n",
    "cm_srf_train = confusion_matrix(y_train_resh, srf_train)\n",
    "srf_df_train = pd.DataFrame(data=[recall_score(y_train_resh, srf_train), precision_score(y_train_resh, srf_train), roc_auc_score(y_train_resh, srf_train)], \n",
    "             columns=['SMOTE Random Forest Score'],\n",
    "             index=['Recall', 'Precision', 'ROC AUC Score'])"
   ]
  },
  {
   "cell_type": "code",
   "execution_count": 117,
   "metadata": {},
   "outputs": [],
   "source": [
    "sgb_train = sgb.predict(X_train_resh)\n",
    "cm_sgb_train = confusion_matrix(y_train_resh, sgb_train)\n",
    "sgb_df_train = pd.DataFrame(data=[recall_score(y_train_resh, sgb_train), precision_score(y_train_resh, sgb_train), roc_auc_score(y_train_resh, sgb_train)], \n",
    "             columns=['SMOTE GradientBoost Score'],\n",
    "             index=['Recall', 'Precision', 'ROC AUC Score'])"
   ]
  },
  {
   "cell_type": "code",
   "execution_count": 118,
   "metadata": {},
   "outputs": [],
   "source": [
    "snb_train = snb.predict(X_train_resh)\n",
    "cm_snb_train = confusion_matrix(y_train_resh, snb_train)\n",
    "snb_df_train = pd.DataFrame(data=[recall_score(y_train_resh, snb_train), precision_score(y_train_resh, snb_train), roc_auc_score(y_train_resh, snb_train)], \n",
    "             columns=['SMOTE Naive Bayes Score'],\n",
    "             index=['Recall', 'Precision', 'ROC AUC Score'])"
   ]
  },
  {
   "cell_type": "markdown",
   "metadata": {},
   "source": [
    "**Predicting Validation Data**"
   ]
  },
  {
   "cell_type": "code",
   "execution_count": 119,
   "metadata": {},
   "outputs": [],
   "source": [
    "slr_val = slr.predict(X_val_trf)\n",
    "cm_slr_val = confusion_matrix(y_val, slr_val)\n",
    "slr_df_val = pd.DataFrame(data=[recall_score(y_val, slr_val), precision_score(y_val, slr_val), roc_auc_score(y_val, slr_val)], \n",
    "             columns=['SMOTE LogReg Score'],\n",
    "             index=['Recall', 'Precision', 'ROC AUC Score'])"
   ]
  },
  {
   "cell_type": "code",
   "execution_count": 120,
   "metadata": {},
   "outputs": [],
   "source": [
    "srf_val = srf.predict(X_val_trf)\n",
    "cm_srf_val = confusion_matrix(y_val, srf_val)\n",
    "srf_df_val = pd.DataFrame(data=[recall_score(y_val, srf_val), precision_score(y_val, srf_val), roc_auc_score(y_val, srf_val)], \n",
    "             columns=['SMOTE Random Forest Score'],\n",
    "             index=['Recall', 'Precision', 'ROC AUC Score'])"
   ]
  },
  {
   "cell_type": "code",
   "execution_count": 121,
   "metadata": {},
   "outputs": [],
   "source": [
    "sgb_val = sgb.predict(X_val_trf)\n",
    "cm_sgb_val = confusion_matrix(y_val, sgb_val)\n",
    "sgb_df_val = pd.DataFrame(data=[recall_score(y_val, sgb_val), precision_score(y_val, sgb_val), roc_auc_score(y_val, sgb_val)], \n",
    "             columns=['SMOTE GradientBoost Score'],\n",
    "             index=['Recall', 'Precision', 'ROC AUC Score'])"
   ]
  },
  {
   "cell_type": "code",
   "execution_count": 122,
   "metadata": {},
   "outputs": [],
   "source": [
    "snb_val = snb.predict(X_val_trf)\n",
    "cm_snb_val = confusion_matrix(y_val, snb_val)\n",
    "snb_df_val = pd.DataFrame(data=[recall_score(y_val, snb_val), precision_score(y_val, snb_val), roc_auc_score(y_val, snb_val)], \n",
    "             columns=['SMOTE Naive Bayes Score'],\n",
    "             index=['Recall', 'Precision', 'ROC AUC Score'])"
   ]
  },
  {
   "cell_type": "markdown",
   "metadata": {},
   "source": [
    "## Model Evaluation"
   ]
  },
  {
   "cell_type": "markdown",
   "metadata": {},
   "source": [
    "Evaluation Train Data (SMOTE)"
   ]
  },
  {
   "cell_type": "code",
   "execution_count": 123,
   "metadata": {},
   "outputs": [
    {
     "data": {
      "text/html": [
       "<div>\n",
       "<style scoped>\n",
       "    .dataframe tbody tr th:only-of-type {\n",
       "        vertical-align: middle;\n",
       "    }\n",
       "\n",
       "    .dataframe tbody tr th {\n",
       "        vertical-align: top;\n",
       "    }\n",
       "\n",
       "    .dataframe thead th {\n",
       "        text-align: right;\n",
       "    }\n",
       "</style>\n",
       "<table border=\"1\" class=\"dataframe\">\n",
       "  <thead>\n",
       "    <tr style=\"text-align: right;\">\n",
       "      <th></th>\n",
       "      <th>SMOTE LogReg Score</th>\n",
       "      <th>SMOTE Random Forest Score</th>\n",
       "      <th>SMOTE GradientBoost Score</th>\n",
       "      <th>SMOTE Naive Bayes Score</th>\n",
       "    </tr>\n",
       "  </thead>\n",
       "  <tbody>\n",
       "    <tr>\n",
       "      <th>Recall</th>\n",
       "      <td>0.757</td>\n",
       "      <td>0.882</td>\n",
       "      <td>0.913</td>\n",
       "      <td>0.777</td>\n",
       "    </tr>\n",
       "    <tr>\n",
       "      <th>Precision</th>\n",
       "      <td>0.737</td>\n",
       "      <td>0.853</td>\n",
       "      <td>0.885</td>\n",
       "      <td>0.599</td>\n",
       "    </tr>\n",
       "    <tr>\n",
       "      <th>ROC AUC Score</th>\n",
       "      <td>0.743</td>\n",
       "      <td>0.865</td>\n",
       "      <td>0.897</td>\n",
       "      <td>0.628</td>\n",
       "    </tr>\n",
       "  </tbody>\n",
       "</table>\n",
       "</div>"
      ],
      "text/plain": [
       "               SMOTE LogReg Score  SMOTE Random Forest Score  \\\n",
       "Recall                      0.757                      0.882   \n",
       "Precision                   0.737                      0.853   \n",
       "ROC AUC Score               0.743                      0.865   \n",
       "\n",
       "               SMOTE GradientBoost Score  SMOTE Naive Bayes Score  \n",
       "Recall                             0.913                    0.777  \n",
       "Precision                          0.885                    0.599  \n",
       "ROC AUC Score                      0.897                    0.628  "
      ]
     },
     "execution_count": 123,
     "metadata": {},
     "output_type": "execute_result"
    }
   ],
   "source": [
    "eval_strain = round(pd.concat([slr_df_train, srf_df_train, sgb_df_train, snb_df_train], axis=1),3)\n",
    "eval_strain"
   ]
  },
  {
   "cell_type": "markdown",
   "metadata": {},
   "source": [
    "Evaluation Validation Data (SMOTE)"
   ]
  },
  {
   "cell_type": "code",
   "execution_count": 124,
   "metadata": {},
   "outputs": [
    {
     "data": {
      "text/html": [
       "<div>\n",
       "<style scoped>\n",
       "    .dataframe tbody tr th:only-of-type {\n",
       "        vertical-align: middle;\n",
       "    }\n",
       "\n",
       "    .dataframe tbody tr th {\n",
       "        vertical-align: top;\n",
       "    }\n",
       "\n",
       "    .dataframe thead th {\n",
       "        text-align: right;\n",
       "    }\n",
       "</style>\n",
       "<table border=\"1\" class=\"dataframe\">\n",
       "  <thead>\n",
       "    <tr style=\"text-align: right;\">\n",
       "      <th></th>\n",
       "      <th>SMOTE LogReg Score</th>\n",
       "      <th>SMOTE Random Forest Score</th>\n",
       "      <th>SMOTE GradientBoost Score</th>\n",
       "      <th>SMOTE Naive Bayes Score</th>\n",
       "    </tr>\n",
       "  </thead>\n",
       "  <tbody>\n",
       "    <tr>\n",
       "      <th>Recall</th>\n",
       "      <td>0.724</td>\n",
       "      <td>0.681</td>\n",
       "      <td>0.642</td>\n",
       "      <td>0.742</td>\n",
       "    </tr>\n",
       "    <tr>\n",
       "      <th>Precision</th>\n",
       "      <td>0.471</td>\n",
       "      <td>0.552</td>\n",
       "      <td>0.565</td>\n",
       "      <td>0.314</td>\n",
       "    </tr>\n",
       "    <tr>\n",
       "      <th>ROC AUC Score</th>\n",
       "      <td>0.729</td>\n",
       "      <td>0.750</td>\n",
       "      <td>0.740</td>\n",
       "      <td>0.607</td>\n",
       "    </tr>\n",
       "  </tbody>\n",
       "</table>\n",
       "</div>"
      ],
      "text/plain": [
       "               SMOTE LogReg Score  SMOTE Random Forest Score  \\\n",
       "Recall                      0.724                      0.681   \n",
       "Precision                   0.471                      0.552   \n",
       "ROC AUC Score               0.729                      0.750   \n",
       "\n",
       "               SMOTE GradientBoost Score  SMOTE Naive Bayes Score  \n",
       "Recall                             0.642                    0.742  \n",
       "Precision                          0.565                    0.314  \n",
       "ROC AUC Score                      0.740                    0.607  "
      ]
     },
     "execution_count": 124,
     "metadata": {},
     "output_type": "execute_result"
    }
   ],
   "source": [
    "eval_sval = round(pd.concat([slr_df_val, srf_df_val, sgb_df_val, snb_df_val], axis=1),3)\n",
    "eval_sval"
   ]
  },
  {
   "cell_type": "markdown",
   "metadata": {},
   "source": [
    "Dapat dilihat bahwa secara sekilas, oversampling menggunakan SMOTE sangat meningkatkan performa train data. Namun, ketika dibandingkan dengan performa validation data, terlihat bahwa terjadi overfitting pada model Random Forest dan GradientBoost. Dari AUC Score, model Logistic Regression dan Naive Bayes tidak terlihat mengalami overfitting. Selanjutnya akan dilihat perbandingan performa antara model Logistic Regression dan Naive Bayes sebelum dan setelah proses oversampling"
   ]
  },
  {
   "cell_type": "markdown",
   "metadata": {},
   "source": [
    "Evaluation Train Data Normal & SMOTE "
   ]
  },
  {
   "cell_type": "code",
   "execution_count": 125,
   "metadata": {},
   "outputs": [
    {
     "data": {
      "text/html": [
       "<div>\n",
       "<style scoped>\n",
       "    .dataframe tbody tr th:only-of-type {\n",
       "        vertical-align: middle;\n",
       "    }\n",
       "\n",
       "    .dataframe tbody tr th {\n",
       "        vertical-align: top;\n",
       "    }\n",
       "\n",
       "    .dataframe thead th {\n",
       "        text-align: right;\n",
       "    }\n",
       "</style>\n",
       "<table border=\"1\" class=\"dataframe\">\n",
       "  <thead>\n",
       "    <tr style=\"text-align: right;\">\n",
       "      <th></th>\n",
       "      <th>SMOTE LogReg Score</th>\n",
       "      <th>SMOTE Naive Bayes Score</th>\n",
       "      <th>LogReg Score</th>\n",
       "      <th>Naive Bayes Score</th>\n",
       "    </tr>\n",
       "  </thead>\n",
       "  <tbody>\n",
       "    <tr>\n",
       "      <th>Recall</th>\n",
       "      <td>0.757</td>\n",
       "      <td>0.777</td>\n",
       "      <td>0.267</td>\n",
       "      <td>0.641</td>\n",
       "    </tr>\n",
       "    <tr>\n",
       "      <th>Precision</th>\n",
       "      <td>0.737</td>\n",
       "      <td>0.599</td>\n",
       "      <td>0.583</td>\n",
       "      <td>0.421</td>\n",
       "    </tr>\n",
       "    <tr>\n",
       "      <th>ROC AUC Score</th>\n",
       "      <td>0.743</td>\n",
       "      <td>0.628</td>\n",
       "      <td>0.602</td>\n",
       "      <td>0.675</td>\n",
       "    </tr>\n",
       "  </tbody>\n",
       "</table>\n",
       "</div>"
      ],
      "text/plain": [
       "               SMOTE LogReg Score  SMOTE Naive Bayes Score  LogReg Score  \\\n",
       "Recall                      0.757                    0.777         0.267   \n",
       "Precision                   0.737                    0.599         0.583   \n",
       "ROC AUC Score               0.743                    0.628         0.602   \n",
       "\n",
       "               Naive Bayes Score  \n",
       "Recall                     0.641  \n",
       "Precision                  0.421  \n",
       "ROC AUC Score              0.675  "
      ]
     },
     "execution_count": 125,
     "metadata": {},
     "output_type": "execute_result"
    }
   ],
   "source": [
    "eval_train_model = round(pd.concat([slr_df_train, snb_df_train, lr_df_train, nb_df_train], axis=1),3)\n",
    "eval_train_model"
   ]
  },
  {
   "cell_type": "markdown",
   "metadata": {},
   "source": [
    "Evaluation Validation Data Normal & SMOTE"
   ]
  },
  {
   "cell_type": "code",
   "execution_count": 126,
   "metadata": {},
   "outputs": [
    {
     "data": {
      "text/html": [
       "<div>\n",
       "<style scoped>\n",
       "    .dataframe tbody tr th:only-of-type {\n",
       "        vertical-align: middle;\n",
       "    }\n",
       "\n",
       "    .dataframe tbody tr th {\n",
       "        vertical-align: top;\n",
       "    }\n",
       "\n",
       "    .dataframe thead th {\n",
       "        text-align: right;\n",
       "    }\n",
       "</style>\n",
       "<table border=\"1\" class=\"dataframe\">\n",
       "  <thead>\n",
       "    <tr style=\"text-align: right;\">\n",
       "      <th></th>\n",
       "      <th>SMOTE LogReg Score</th>\n",
       "      <th>SMOTE Naive Bayes Score</th>\n",
       "      <th>LogReg Score</th>\n",
       "      <th>Naive Bayes Score</th>\n",
       "    </tr>\n",
       "  </thead>\n",
       "  <tbody>\n",
       "    <tr>\n",
       "      <th>Recall</th>\n",
       "      <td>0.724</td>\n",
       "      <td>0.742</td>\n",
       "      <td>0.274</td>\n",
       "      <td>0.639</td>\n",
       "    </tr>\n",
       "    <tr>\n",
       "      <th>Precision</th>\n",
       "      <td>0.471</td>\n",
       "      <td>0.314</td>\n",
       "      <td>0.578</td>\n",
       "      <td>0.416</td>\n",
       "    </tr>\n",
       "    <tr>\n",
       "      <th>ROC AUC Score</th>\n",
       "      <td>0.729</td>\n",
       "      <td>0.607</td>\n",
       "      <td>0.604</td>\n",
       "      <td>0.673</td>\n",
       "    </tr>\n",
       "  </tbody>\n",
       "</table>\n",
       "</div>"
      ],
      "text/plain": [
       "               SMOTE LogReg Score  SMOTE Naive Bayes Score  LogReg Score  \\\n",
       "Recall                      0.724                    0.742         0.274   \n",
       "Precision                   0.471                    0.314         0.578   \n",
       "ROC AUC Score               0.729                    0.607         0.604   \n",
       "\n",
       "               Naive Bayes Score  \n",
       "Recall                     0.639  \n",
       "Precision                  0.416  \n",
       "ROC AUC Score              0.673  "
      ]
     },
     "execution_count": 126,
     "metadata": {},
     "output_type": "execute_result"
    }
   ],
   "source": [
    "eval_val_model = round(pd.concat([slr_df_val, snb_df_val, lr_df_val, nb_df_val], axis=1),3)\n",
    "eval_val_model"
   ]
  },
  {
   "cell_type": "code",
   "execution_count": 127,
   "metadata": {},
   "outputs": [
    {
     "name": "stdout",
     "output_type": "stream",
     "text": [
      "Model Naive Bayes\n",
      "              precision    recall  f1-score   support\n",
      "\n",
      "         0.0       0.89      0.73      0.81      2818\n",
      "         1.0       0.47      0.72      0.57       919\n",
      "\n",
      "    accuracy                           0.73      3737\n",
      "   macro avg       0.68      0.73      0.69      3737\n",
      "weighted avg       0.79      0.73      0.75      3737\n",
      "\n",
      "\n",
      "Confusion Matrix\n",
      "[[2071  747]\n",
      " [ 254  665]]\n"
     ]
    }
   ],
   "source": [
    "print('Model Naive Bayes')\n",
    "print(classification_report(y_val, slr_val))\n",
    "print()\n",
    "print('Confusion Matrix')\n",
    "print(cm_slr_val)"
   ]
  },
  {
   "cell_type": "markdown",
   "metadata": {},
   "source": [
    "Dari perbandingan antar model, dipilih model Logistic Regression setelah proses oversampling menggunakan SMOTE karena menghasilkan nilai recall paling tinggi pada validation data. Dapat dilihat bahwa recall score kedua variabel target, terutama untuk target 1, lebih tinggi dibandingkan recall score model Naive Bayes sebelum proses oversampling\n",
    "\n",
    "Maka dari itu, **untuk Model Inference, akan digunakan model Logistic Regression setelah proses oversampling menggunakan SMOTE**"
   ]
  },
  {
   "cell_type": "markdown",
   "metadata": {},
   "source": [
    "# Model Inference"
   ]
  },
  {
   "cell_type": "markdown",
   "metadata": {},
   "source": [
    "Untuk Model Inference, akan digunakan test data. Sebelum memprediksi target, akan dilakukan proses cleaning dan preprocessing terlebih dahulu"
   ]
  },
  {
   "cell_type": "code",
   "execution_count": 128,
   "metadata": {},
   "outputs": [
    {
     "data": {
      "text/html": [
       "<div>\n",
       "<style scoped>\n",
       "    .dataframe tbody tr th:only-of-type {\n",
       "        vertical-align: middle;\n",
       "    }\n",
       "\n",
       "    .dataframe tbody tr th {\n",
       "        vertical-align: top;\n",
       "    }\n",
       "\n",
       "    .dataframe thead th {\n",
       "        text-align: right;\n",
       "    }\n",
       "</style>\n",
       "<table border=\"1\" class=\"dataframe\">\n",
       "  <thead>\n",
       "    <tr style=\"text-align: right;\">\n",
       "      <th></th>\n",
       "      <th>city</th>\n",
       "      <th>city_development_index</th>\n",
       "      <th>gender</th>\n",
       "      <th>relevent_experience</th>\n",
       "      <th>enrolled_university</th>\n",
       "      <th>education_level</th>\n",
       "      <th>major_discipline</th>\n",
       "      <th>experience</th>\n",
       "      <th>company_size</th>\n",
       "      <th>company_type</th>\n",
       "      <th>last_new_job</th>\n",
       "      <th>training_hours</th>\n",
       "    </tr>\n",
       "  </thead>\n",
       "  <tbody>\n",
       "    <tr>\n",
       "      <th>0</th>\n",
       "      <td>city_41</td>\n",
       "      <td>0.827</td>\n",
       "      <td>Male</td>\n",
       "      <td>Has relevent experience</td>\n",
       "      <td>Full time course</td>\n",
       "      <td>Graduate</td>\n",
       "      <td>STEM</td>\n",
       "      <td>9</td>\n",
       "      <td>&lt;10</td>\n",
       "      <td>NaN</td>\n",
       "      <td>1</td>\n",
       "      <td>21</td>\n",
       "    </tr>\n",
       "    <tr>\n",
       "      <th>1</th>\n",
       "      <td>city_103</td>\n",
       "      <td>0.920</td>\n",
       "      <td>Female</td>\n",
       "      <td>Has relevent experience</td>\n",
       "      <td>no_enrollment</td>\n",
       "      <td>Graduate</td>\n",
       "      <td>STEM</td>\n",
       "      <td>5</td>\n",
       "      <td>NaN</td>\n",
       "      <td>Pvt Ltd</td>\n",
       "      <td>1</td>\n",
       "      <td>98</td>\n",
       "    </tr>\n",
       "    <tr>\n",
       "      <th>2</th>\n",
       "      <td>city_21</td>\n",
       "      <td>0.624</td>\n",
       "      <td>Male</td>\n",
       "      <td>No relevent experience</td>\n",
       "      <td>no_enrollment</td>\n",
       "      <td>High School</td>\n",
       "      <td>NaN</td>\n",
       "      <td>&lt;1</td>\n",
       "      <td>NaN</td>\n",
       "      <td>Pvt Ltd</td>\n",
       "      <td>never</td>\n",
       "      <td>15</td>\n",
       "    </tr>\n",
       "    <tr>\n",
       "      <th>3</th>\n",
       "      <td>city_13</td>\n",
       "      <td>0.827</td>\n",
       "      <td>Male</td>\n",
       "      <td>Has relevent experience</td>\n",
       "      <td>no_enrollment</td>\n",
       "      <td>Masters</td>\n",
       "      <td>STEM</td>\n",
       "      <td>11</td>\n",
       "      <td>10/49</td>\n",
       "      <td>Pvt Ltd</td>\n",
       "      <td>1</td>\n",
       "      <td>39</td>\n",
       "    </tr>\n",
       "    <tr>\n",
       "      <th>4</th>\n",
       "      <td>city_103</td>\n",
       "      <td>0.920</td>\n",
       "      <td>Male</td>\n",
       "      <td>Has relevent experience</td>\n",
       "      <td>no_enrollment</td>\n",
       "      <td>Graduate</td>\n",
       "      <td>STEM</td>\n",
       "      <td>&gt;20</td>\n",
       "      <td>10000+</td>\n",
       "      <td>Pvt Ltd</td>\n",
       "      <td>&gt;4</td>\n",
       "      <td>72</td>\n",
       "    </tr>\n",
       "  </tbody>\n",
       "</table>\n",
       "</div>"
      ],
      "text/plain": [
       "       city  city_development_index  gender      relevent_experience  \\\n",
       "0   city_41                   0.827    Male  Has relevent experience   \n",
       "1  city_103                   0.920  Female  Has relevent experience   \n",
       "2   city_21                   0.624    Male   No relevent experience   \n",
       "3   city_13                   0.827    Male  Has relevent experience   \n",
       "4  city_103                   0.920    Male  Has relevent experience   \n",
       "\n",
       "  enrolled_university education_level major_discipline experience  \\\n",
       "0    Full time course        Graduate             STEM          9   \n",
       "1       no_enrollment        Graduate             STEM          5   \n",
       "2       no_enrollment     High School              NaN         <1   \n",
       "3       no_enrollment         Masters             STEM         11   \n",
       "4       no_enrollment        Graduate             STEM        >20   \n",
       "\n",
       "  company_size company_type last_new_job  training_hours  \n",
       "0          <10          NaN            1              21  \n",
       "1          NaN      Pvt Ltd            1              98  \n",
       "2          NaN      Pvt Ltd        never              15  \n",
       "3        10/49      Pvt Ltd            1              39  \n",
       "4       10000+      Pvt Ltd           >4              72  "
      ]
     },
     "execution_count": 128,
     "metadata": {},
     "output_type": "execute_result"
    }
   ],
   "source": [
    "df_test.head()"
   ]
  },
  {
   "cell_type": "code",
   "execution_count": 129,
   "metadata": {},
   "outputs": [
    {
     "data": {
      "text/plain": [
       "city                        0\n",
       "city_development_index      0\n",
       "gender                    508\n",
       "relevent_experience         0\n",
       "enrolled_university        31\n",
       "education_level            52\n",
       "major_discipline          312\n",
       "experience                  5\n",
       "company_size              622\n",
       "company_type              634\n",
       "last_new_job               40\n",
       "training_hours              0\n",
       "dtype: int64"
      ]
     },
     "execution_count": 129,
     "metadata": {},
     "output_type": "execute_result"
    }
   ],
   "source": [
    "df_test.isnull().sum()"
   ]
  },
  {
   "cell_type": "markdown",
   "metadata": {},
   "source": [
    "## Data Cleaning"
   ]
  },
  {
   "cell_type": "code",
   "execution_count": 130,
   "metadata": {},
   "outputs": [],
   "source": [
    "test_imp = df_test.copy()"
   ]
  },
  {
   "cell_type": "code",
   "execution_count": 132,
   "metadata": {},
   "outputs": [
    {
     "data": {
      "text/html": [
       "<div>\n",
       "<style scoped>\n",
       "    .dataframe tbody tr th:only-of-type {\n",
       "        vertical-align: middle;\n",
       "    }\n",
       "\n",
       "    .dataframe tbody tr th {\n",
       "        vertical-align: top;\n",
       "    }\n",
       "\n",
       "    .dataframe thead th {\n",
       "        text-align: right;\n",
       "    }\n",
       "</style>\n",
       "<table border=\"1\" class=\"dataframe\">\n",
       "  <thead>\n",
       "    <tr style=\"text-align: right;\">\n",
       "      <th></th>\n",
       "      <th>city</th>\n",
       "      <th>city_development_index</th>\n",
       "      <th>gender</th>\n",
       "      <th>relevent_experience</th>\n",
       "      <th>enrolled_university</th>\n",
       "      <th>education_level</th>\n",
       "      <th>major_discipline</th>\n",
       "      <th>experience</th>\n",
       "      <th>company_size</th>\n",
       "      <th>company_type</th>\n",
       "      <th>last_new_job</th>\n",
       "      <th>training_hours</th>\n",
       "    </tr>\n",
       "  </thead>\n",
       "  <tbody>\n",
       "    <tr>\n",
       "      <th>0</th>\n",
       "      <td>city_41</td>\n",
       "      <td>0.827</td>\n",
       "      <td>Male</td>\n",
       "      <td>Has relevent experience</td>\n",
       "      <td>Full time course</td>\n",
       "      <td>Graduate</td>\n",
       "      <td>STEM</td>\n",
       "      <td>9</td>\n",
       "      <td>&lt;10</td>\n",
       "      <td>Unknown</td>\n",
       "      <td>1</td>\n",
       "      <td>21</td>\n",
       "    </tr>\n",
       "    <tr>\n",
       "      <th>1</th>\n",
       "      <td>city_103</td>\n",
       "      <td>0.920</td>\n",
       "      <td>Female</td>\n",
       "      <td>Has relevent experience</td>\n",
       "      <td>no_enrollment</td>\n",
       "      <td>Graduate</td>\n",
       "      <td>STEM</td>\n",
       "      <td>5</td>\n",
       "      <td>Unknown</td>\n",
       "      <td>Pvt Ltd</td>\n",
       "      <td>1</td>\n",
       "      <td>98</td>\n",
       "    </tr>\n",
       "    <tr>\n",
       "      <th>2</th>\n",
       "      <td>city_21</td>\n",
       "      <td>0.624</td>\n",
       "      <td>Male</td>\n",
       "      <td>No relevent experience</td>\n",
       "      <td>no_enrollment</td>\n",
       "      <td>High School</td>\n",
       "      <td>No Major</td>\n",
       "      <td>&lt;1</td>\n",
       "      <td>Unknown</td>\n",
       "      <td>Pvt Ltd</td>\n",
       "      <td>never</td>\n",
       "      <td>15</td>\n",
       "    </tr>\n",
       "    <tr>\n",
       "      <th>3</th>\n",
       "      <td>city_13</td>\n",
       "      <td>0.827</td>\n",
       "      <td>Male</td>\n",
       "      <td>Has relevent experience</td>\n",
       "      <td>no_enrollment</td>\n",
       "      <td>Masters</td>\n",
       "      <td>STEM</td>\n",
       "      <td>11</td>\n",
       "      <td>10-49</td>\n",
       "      <td>Pvt Ltd</td>\n",
       "      <td>1</td>\n",
       "      <td>39</td>\n",
       "    </tr>\n",
       "    <tr>\n",
       "      <th>4</th>\n",
       "      <td>city_103</td>\n",
       "      <td>0.920</td>\n",
       "      <td>Male</td>\n",
       "      <td>Has relevent experience</td>\n",
       "      <td>no_enrollment</td>\n",
       "      <td>Graduate</td>\n",
       "      <td>STEM</td>\n",
       "      <td>&gt;20</td>\n",
       "      <td>10000+</td>\n",
       "      <td>Pvt Ltd</td>\n",
       "      <td>&gt;4</td>\n",
       "      <td>72</td>\n",
       "    </tr>\n",
       "    <tr>\n",
       "      <th>...</th>\n",
       "      <td>...</td>\n",
       "      <td>...</td>\n",
       "      <td>...</td>\n",
       "      <td>...</td>\n",
       "      <td>...</td>\n",
       "      <td>...</td>\n",
       "      <td>...</td>\n",
       "      <td>...</td>\n",
       "      <td>...</td>\n",
       "      <td>...</td>\n",
       "      <td>...</td>\n",
       "      <td>...</td>\n",
       "    </tr>\n",
       "    <tr>\n",
       "      <th>2124</th>\n",
       "      <td>city_103</td>\n",
       "      <td>0.920</td>\n",
       "      <td>Male</td>\n",
       "      <td>No relevent experience</td>\n",
       "      <td>no_enrollment</td>\n",
       "      <td>Graduate</td>\n",
       "      <td>Humanities</td>\n",
       "      <td>16</td>\n",
       "      <td>Unknown</td>\n",
       "      <td>Public Sector</td>\n",
       "      <td>4</td>\n",
       "      <td>15</td>\n",
       "    </tr>\n",
       "    <tr>\n",
       "      <th>2125</th>\n",
       "      <td>city_136</td>\n",
       "      <td>0.897</td>\n",
       "      <td>Male</td>\n",
       "      <td>Has relevent experience</td>\n",
       "      <td>no_enrollment</td>\n",
       "      <td>Masters</td>\n",
       "      <td>STEM</td>\n",
       "      <td>18</td>\n",
       "      <td>Unknown</td>\n",
       "      <td>Unknown</td>\n",
       "      <td>2</td>\n",
       "      <td>30</td>\n",
       "    </tr>\n",
       "    <tr>\n",
       "      <th>2126</th>\n",
       "      <td>city_100</td>\n",
       "      <td>0.887</td>\n",
       "      <td>Male</td>\n",
       "      <td>No relevent experience</td>\n",
       "      <td>no_enrollment</td>\n",
       "      <td>Primary School</td>\n",
       "      <td>No Major</td>\n",
       "      <td>3</td>\n",
       "      <td>Unknown</td>\n",
       "      <td>Pvt Ltd</td>\n",
       "      <td>never</td>\n",
       "      <td>18</td>\n",
       "    </tr>\n",
       "    <tr>\n",
       "      <th>2127</th>\n",
       "      <td>city_102</td>\n",
       "      <td>0.804</td>\n",
       "      <td>Male</td>\n",
       "      <td>Has relevent experience</td>\n",
       "      <td>Full time course</td>\n",
       "      <td>High School</td>\n",
       "      <td>No Major</td>\n",
       "      <td>7</td>\n",
       "      <td>100-500</td>\n",
       "      <td>Public Sector</td>\n",
       "      <td>1</td>\n",
       "      <td>84</td>\n",
       "    </tr>\n",
       "    <tr>\n",
       "      <th>2128</th>\n",
       "      <td>city_102</td>\n",
       "      <td>0.804</td>\n",
       "      <td>Male</td>\n",
       "      <td>Has relevent experience</td>\n",
       "      <td>no_enrollment</td>\n",
       "      <td>Masters</td>\n",
       "      <td>STEM</td>\n",
       "      <td>15</td>\n",
       "      <td>10000+</td>\n",
       "      <td>Pvt Ltd</td>\n",
       "      <td>2</td>\n",
       "      <td>11</td>\n",
       "    </tr>\n",
       "  </tbody>\n",
       "</table>\n",
       "<p>2093 rows × 12 columns</p>\n",
       "</div>"
      ],
      "text/plain": [
       "          city  city_development_index  gender      relevent_experience  \\\n",
       "0      city_41                   0.827    Male  Has relevent experience   \n",
       "1     city_103                   0.920  Female  Has relevent experience   \n",
       "2      city_21                   0.624    Male   No relevent experience   \n",
       "3      city_13                   0.827    Male  Has relevent experience   \n",
       "4     city_103                   0.920    Male  Has relevent experience   \n",
       "...        ...                     ...     ...                      ...   \n",
       "2124  city_103                   0.920    Male   No relevent experience   \n",
       "2125  city_136                   0.897    Male  Has relevent experience   \n",
       "2126  city_100                   0.887    Male   No relevent experience   \n",
       "2127  city_102                   0.804    Male  Has relevent experience   \n",
       "2128  city_102                   0.804    Male  Has relevent experience   \n",
       "\n",
       "     enrolled_university education_level major_discipline experience  \\\n",
       "0       Full time course        Graduate             STEM          9   \n",
       "1          no_enrollment        Graduate             STEM          5   \n",
       "2          no_enrollment     High School         No Major         <1   \n",
       "3          no_enrollment         Masters             STEM         11   \n",
       "4          no_enrollment        Graduate             STEM        >20   \n",
       "...                  ...             ...              ...        ...   \n",
       "2124       no_enrollment        Graduate       Humanities         16   \n",
       "2125       no_enrollment         Masters             STEM         18   \n",
       "2126       no_enrollment  Primary School         No Major          3   \n",
       "2127    Full time course     High School         No Major          7   \n",
       "2128       no_enrollment         Masters             STEM         15   \n",
       "\n",
       "     company_size   company_type last_new_job  training_hours  \n",
       "0             <10        Unknown            1              21  \n",
       "1         Unknown        Pvt Ltd            1              98  \n",
       "2         Unknown        Pvt Ltd        never              15  \n",
       "3           10-49        Pvt Ltd            1              39  \n",
       "4          10000+        Pvt Ltd           >4              72  \n",
       "...           ...            ...          ...             ...  \n",
       "2124      Unknown  Public Sector            4              15  \n",
       "2125      Unknown        Unknown            2              30  \n",
       "2126      Unknown        Pvt Ltd        never              18  \n",
       "2127      100-500  Public Sector            1              84  \n",
       "2128       10000+        Pvt Ltd            2              11  \n",
       "\n",
       "[2093 rows x 12 columns]"
      ]
     },
     "execution_count": 132,
     "metadata": {},
     "output_type": "execute_result"
    }
   ],
   "source": [
    "cleaning(test_imp)"
   ]
  },
  {
   "cell_type": "markdown",
   "metadata": {},
   "source": [
    "## Data Preprocessing"
   ]
  },
  {
   "cell_type": "code",
   "execution_count": 133,
   "metadata": {},
   "outputs": [],
   "source": [
    "X_test = test_imp.copy()"
   ]
  },
  {
   "cell_type": "code",
   "execution_count": 134,
   "metadata": {},
   "outputs": [
    {
     "data": {
      "text/html": [
       "<div>\n",
       "<style scoped>\n",
       "    .dataframe tbody tr th:only-of-type {\n",
       "        vertical-align: middle;\n",
       "    }\n",
       "\n",
       "    .dataframe tbody tr th {\n",
       "        vertical-align: top;\n",
       "    }\n",
       "\n",
       "    .dataframe thead th {\n",
       "        text-align: right;\n",
       "    }\n",
       "</style>\n",
       "<table border=\"1\" class=\"dataframe\">\n",
       "  <thead>\n",
       "    <tr style=\"text-align: right;\">\n",
       "      <th></th>\n",
       "      <th>city</th>\n",
       "      <th>city_development_index</th>\n",
       "      <th>gender</th>\n",
       "      <th>relevent_experience</th>\n",
       "      <th>enrolled_university</th>\n",
       "      <th>education_level</th>\n",
       "      <th>major_discipline</th>\n",
       "      <th>experience</th>\n",
       "      <th>company_size</th>\n",
       "      <th>company_type</th>\n",
       "      <th>last_new_job</th>\n",
       "      <th>training_hours</th>\n",
       "    </tr>\n",
       "  </thead>\n",
       "  <tbody>\n",
       "    <tr>\n",
       "      <th>0</th>\n",
       "      <td>78</td>\n",
       "      <td>0.827</td>\n",
       "      <td>Male</td>\n",
       "      <td>Has relevent experience</td>\n",
       "      <td>Full time course</td>\n",
       "      <td>Graduate</td>\n",
       "      <td>STEM</td>\n",
       "      <td>9</td>\n",
       "      <td>1</td>\n",
       "      <td>Unknown</td>\n",
       "      <td>1</td>\n",
       "      <td>21</td>\n",
       "    </tr>\n",
       "    <tr>\n",
       "      <th>1</th>\n",
       "      <td>5</td>\n",
       "      <td>0.920</td>\n",
       "      <td>Female</td>\n",
       "      <td>Has relevent experience</td>\n",
       "      <td>no_enrollment</td>\n",
       "      <td>Graduate</td>\n",
       "      <td>STEM</td>\n",
       "      <td>5</td>\n",
       "      <td>0</td>\n",
       "      <td>Pvt Ltd</td>\n",
       "      <td>1</td>\n",
       "      <td>98</td>\n",
       "    </tr>\n",
       "    <tr>\n",
       "      <th>2</th>\n",
       "      <td>64</td>\n",
       "      <td>0.624</td>\n",
       "      <td>Male</td>\n",
       "      <td>No relevent experience</td>\n",
       "      <td>no_enrollment</td>\n",
       "      <td>High School</td>\n",
       "      <td>No Major</td>\n",
       "      <td>0</td>\n",
       "      <td>0</td>\n",
       "      <td>Pvt Ltd</td>\n",
       "      <td>never</td>\n",
       "      <td>15</td>\n",
       "    </tr>\n",
       "    <tr>\n",
       "      <th>3</th>\n",
       "      <td>26</td>\n",
       "      <td>0.827</td>\n",
       "      <td>Male</td>\n",
       "      <td>Has relevent experience</td>\n",
       "      <td>no_enrollment</td>\n",
       "      <td>Masters</td>\n",
       "      <td>STEM</td>\n",
       "      <td>11</td>\n",
       "      <td>2</td>\n",
       "      <td>Pvt Ltd</td>\n",
       "      <td>1</td>\n",
       "      <td>39</td>\n",
       "    </tr>\n",
       "    <tr>\n",
       "      <th>4</th>\n",
       "      <td>5</td>\n",
       "      <td>0.920</td>\n",
       "      <td>Male</td>\n",
       "      <td>Has relevent experience</td>\n",
       "      <td>no_enrollment</td>\n",
       "      <td>Graduate</td>\n",
       "      <td>STEM</td>\n",
       "      <td>21</td>\n",
       "      <td>8</td>\n",
       "      <td>Pvt Ltd</td>\n",
       "      <td>&gt;4</td>\n",
       "      <td>72</td>\n",
       "    </tr>\n",
       "    <tr>\n",
       "      <th>...</th>\n",
       "      <td>...</td>\n",
       "      <td>...</td>\n",
       "      <td>...</td>\n",
       "      <td>...</td>\n",
       "      <td>...</td>\n",
       "      <td>...</td>\n",
       "      <td>...</td>\n",
       "      <td>...</td>\n",
       "      <td>...</td>\n",
       "      <td>...</td>\n",
       "      <td>...</td>\n",
       "      <td>...</td>\n",
       "    </tr>\n",
       "    <tr>\n",
       "      <th>2124</th>\n",
       "      <td>5</td>\n",
       "      <td>0.920</td>\n",
       "      <td>Male</td>\n",
       "      <td>No relevent experience</td>\n",
       "      <td>no_enrollment</td>\n",
       "      <td>Graduate</td>\n",
       "      <td>Humanities</td>\n",
       "      <td>16</td>\n",
       "      <td>0</td>\n",
       "      <td>Public Sector</td>\n",
       "      <td>4</td>\n",
       "      <td>15</td>\n",
       "    </tr>\n",
       "    <tr>\n",
       "      <th>2125</th>\n",
       "      <td>30</td>\n",
       "      <td>0.897</td>\n",
       "      <td>Male</td>\n",
       "      <td>Has relevent experience</td>\n",
       "      <td>no_enrollment</td>\n",
       "      <td>Masters</td>\n",
       "      <td>STEM</td>\n",
       "      <td>18</td>\n",
       "      <td>0</td>\n",
       "      <td>Unknown</td>\n",
       "      <td>2</td>\n",
       "      <td>30</td>\n",
       "    </tr>\n",
       "    <tr>\n",
       "      <th>2126</th>\n",
       "      <td>2</td>\n",
       "      <td>0.887</td>\n",
       "      <td>Male</td>\n",
       "      <td>No relevent experience</td>\n",
       "      <td>no_enrollment</td>\n",
       "      <td>Primary School</td>\n",
       "      <td>No Major</td>\n",
       "      <td>3</td>\n",
       "      <td>0</td>\n",
       "      <td>Pvt Ltd</td>\n",
       "      <td>never</td>\n",
       "      <td>18</td>\n",
       "    </tr>\n",
       "    <tr>\n",
       "      <th>2127</th>\n",
       "      <td>4</td>\n",
       "      <td>0.804</td>\n",
       "      <td>Male</td>\n",
       "      <td>Has relevent experience</td>\n",
       "      <td>Full time course</td>\n",
       "      <td>High School</td>\n",
       "      <td>No Major</td>\n",
       "      <td>7</td>\n",
       "      <td>4</td>\n",
       "      <td>Public Sector</td>\n",
       "      <td>1</td>\n",
       "      <td>84</td>\n",
       "    </tr>\n",
       "    <tr>\n",
       "      <th>2128</th>\n",
       "      <td>4</td>\n",
       "      <td>0.804</td>\n",
       "      <td>Male</td>\n",
       "      <td>Has relevent experience</td>\n",
       "      <td>no_enrollment</td>\n",
       "      <td>Masters</td>\n",
       "      <td>STEM</td>\n",
       "      <td>15</td>\n",
       "      <td>8</td>\n",
       "      <td>Pvt Ltd</td>\n",
       "      <td>2</td>\n",
       "      <td>11</td>\n",
       "    </tr>\n",
       "  </tbody>\n",
       "</table>\n",
       "<p>2093 rows × 12 columns</p>\n",
       "</div>"
      ],
      "text/plain": [
       "      city  city_development_index  gender      relevent_experience  \\\n",
       "0       78                   0.827    Male  Has relevent experience   \n",
       "1        5                   0.920  Female  Has relevent experience   \n",
       "2       64                   0.624    Male   No relevent experience   \n",
       "3       26                   0.827    Male  Has relevent experience   \n",
       "4        5                   0.920    Male  Has relevent experience   \n",
       "...    ...                     ...     ...                      ...   \n",
       "2124     5                   0.920    Male   No relevent experience   \n",
       "2125    30                   0.897    Male  Has relevent experience   \n",
       "2126     2                   0.887    Male   No relevent experience   \n",
       "2127     4                   0.804    Male  Has relevent experience   \n",
       "2128     4                   0.804    Male  Has relevent experience   \n",
       "\n",
       "     enrolled_university education_level major_discipline  experience  \\\n",
       "0       Full time course        Graduate             STEM           9   \n",
       "1          no_enrollment        Graduate             STEM           5   \n",
       "2          no_enrollment     High School         No Major           0   \n",
       "3          no_enrollment         Masters             STEM          11   \n",
       "4          no_enrollment        Graduate             STEM          21   \n",
       "...                  ...             ...              ...         ...   \n",
       "2124       no_enrollment        Graduate       Humanities          16   \n",
       "2125       no_enrollment         Masters             STEM          18   \n",
       "2126       no_enrollment  Primary School         No Major           3   \n",
       "2127    Full time course     High School         No Major           7   \n",
       "2128       no_enrollment         Masters             STEM          15   \n",
       "\n",
       "      company_size   company_type last_new_job  training_hours  \n",
       "0                1        Unknown            1              21  \n",
       "1                0        Pvt Ltd            1              98  \n",
       "2                0        Pvt Ltd        never              15  \n",
       "3                2        Pvt Ltd            1              39  \n",
       "4                8        Pvt Ltd           >4              72  \n",
       "...            ...            ...          ...             ...  \n",
       "2124             0  Public Sector            4              15  \n",
       "2125             0        Unknown            2              30  \n",
       "2126             0        Pvt Ltd        never              18  \n",
       "2127             4  Public Sector            1              84  \n",
       "2128             8        Pvt Ltd            2              11  \n",
       "\n",
       "[2093 rows x 12 columns]"
      ]
     },
     "execution_count": 134,
     "metadata": {},
     "output_type": "execute_result"
    }
   ],
   "source": [
    "preprocessing(X_test)"
   ]
  },
  {
   "cell_type": "code",
   "execution_count": 135,
   "metadata": {},
   "outputs": [
    {
     "data": {
      "text/plain": [
       "array([[ 0.95765738, -0.01891256, -0.1716407 , ...,  0.        ,\n",
       "         0.        ,  0.        ],\n",
       "       [-1.10015856,  0.73732633, -0.7619081 , ...,  0.        ,\n",
       "         0.        ,  0.        ],\n",
       "       [ 0.56300775, -1.66962754, -1.49974236, ...,  0.        ,\n",
       "         0.        ,  1.        ],\n",
       "       ...,\n",
       "       [-1.18472634,  0.4689835 , -1.05704181, ...,  0.        ,\n",
       "         0.        ,  1.        ],\n",
       "       [-1.12834782, -0.20593938, -0.4667744 , ...,  0.        ,\n",
       "         0.        ,  0.        ],\n",
       "       [-1.12834782, -0.20593938,  0.71376042, ...,  0.        ,\n",
       "         0.        ,  0.        ]])"
      ]
     },
     "execution_count": 135,
     "metadata": {},
     "output_type": "execute_result"
    }
   ],
   "source": [
    "X_test_trf = preprocess_pipeline.transform(X_test)\n",
    "X_test_trf"
   ]
  },
  {
   "cell_type": "markdown",
   "metadata": {},
   "source": [
    "## Predicting"
   ]
  },
  {
   "cell_type": "markdown",
   "metadata": {},
   "source": [
    "Untuk memprediksi target, akan digunakan model Logistic Regression setelah proses oversampling dilakukan"
   ]
  },
  {
   "cell_type": "code",
   "execution_count": 136,
   "metadata": {},
   "outputs": [],
   "source": [
    "slr_test = slr.predict(X_test_trf)"
   ]
  },
  {
   "cell_type": "code",
   "execution_count": 137,
   "metadata": {},
   "outputs": [
    {
     "data": {
      "text/plain": [
       "830"
      ]
     },
     "execution_count": 137,
     "metadata": {},
     "output_type": "execute_result"
    }
   ],
   "source": [
    "seek_job = slr_test[slr_test == 1]\n",
    "seek_job.shape[0]"
   ]
  },
  {
   "cell_type": "code",
   "execution_count": 138,
   "metadata": {},
   "outputs": [
    {
     "data": {
      "text/plain": [
       "1263"
      ]
     },
     "execution_count": 138,
     "metadata": {},
     "output_type": "execute_result"
    }
   ],
   "source": [
    "no_seek_job = slr_test[slr_test == 0]\n",
    "no_seek_job.shape[0]"
   ]
  },
  {
   "cell_type": "code",
   "execution_count": 139,
   "metadata": {},
   "outputs": [
    {
     "name": "stdout",
     "output_type": "stream",
     "text": [
      "Terdapat 830 Data Scientist yang diprediksi ingin mencari pekerjaan baru\n",
      "Terdapat 1263 Data Scientist yang diprediksi nyaman dengan pekerjaan sekarang dan tidak sedang mencari yang baru\n"
     ]
    }
   ],
   "source": [
    "print(f'Terdapat {seek_job.shape[0]} Data Scientist yang diprediksi ingin mencari pekerjaan baru')\n",
    "print(f'Terdapat {no_seek_job.shape[0]} Data Scientist yang diprediksi nyaman dengan pekerjaan sekarang dan tidak sedang mencari yang baru')"
   ]
  },
  {
   "cell_type": "markdown",
   "metadata": {},
   "source": [
    "# Conclusion"
   ]
  },
  {
   "cell_type": "markdown",
   "metadata": {},
   "source": [
    "Pada **Data Cleaning**, dilakukan missing value handling sebagai berikut:\n",
    "1. Missing value pada kolom `gender`, akan diisi dengan value 'Unknown' karena dalam kasus ini, sulit untuk memperkirakan gender seseorang dengan akurat. Selain itu, karena missing value dari kolom ini cukup besar (23.35%), kesalahan dalam proses imputing missing value dapat memengaruhi insight yang didapat dari data\n",
    "2. Missing value pada kolom `enrolled_university` dan `experience`, diputuskan untuk dihapus karena missing value pada kedua kolom tersebut memiliki presentase yang kecil\n",
    "3. Missing value pada kolom `education_level` dan `last_new_job` akan diisi dengan modus dari masing-masing kolom\n",
    "4. Missing value pada kolom `major_discipline` akan diisi berdasarkan value pada kolom `education_level`\n",
    "    - Apabila pendidikan terakhir berupa 'High School' atau 'Primary School', maka kolom jurusan akan diisi dengan 'No Major' karena orang tersebut tidak kuliah\n",
    "    - Apabila pendidikan terakhir berupa 'Graduate', 'Masters', atau 'Phd', maka kolom jurusan akan diisi dengan 'Others' dengan asumsi jurusan mereka tidak termasuk dalam kategori STEM, Arts, Business Degree, atau Humanities\n",
    "5. Missing value pada kolom `company_size` dan `company_type` akan diisi dengan 'Unknown', dengan alasan yang sama dengan kolom `Gender`. Selain itu, value '10/49' pada kolom `company_size` akan diganti dengan '10-49'\n",
    "***\n",
    "Pada **Data Exploration**, didapat bahwa:\n",
    "1. Pada plot **City Development Index** (CDI), terdapat dua puncak untuk Data Scientist yang mencari pekerjaan baru, yaitu yang berasal dari kota dengan CDI rendah dan kota dengan CDI tinggi\n",
    "    - Untuk Data Scientist di kota dengan CDI rendah, mungkin mereka ingin mencari pekerjaan baru dengan penghasilan yang lebih baik\n",
    "    - Untuk Data Scientist di kota dengan CDI tinggi, mungkin terdapat banyak pilihan tempat kerja yang dapat mereka explore\n",
    "2. Dari plot **Training Hours**, tidak terlihat ada perbedaan yang signifikan antara Data Scientist yang mencari pekerjaan baru dan yang tidak\n",
    "3. Dari plot **Major Discipline**, terlihat bahwa dataset ini didominasi oleh orang-orang dari jurusan STEM (Science, Technology, Engineering and Mathematics). Hal ini bersesuaian dengan bidang pekerjaannya karena Data Science memiliki basis ilmu Matematika yang kuat\n",
    "4. Didapat juga bahwa Data Scientist yang mencari pekerjaan baru paling banyak yang:\n",
    "    - Berjenis kelamin pria\n",
    "    - Berasal dari jurusan STEM\n",
    "    - Tidak daftar course university\n",
    "    - Lulusan S1\n",
    "5. Dari plot **Experience**, terlihat bahwa Data Scientist yang mencari pekerjaan baru mayoritas memiliki pengalaman selama 7 tahun ke bawah. Hal ini mungkin karena orang-orang tersebut ingin mencari banyak pengalaman baru untuk meningkatkan skill mereka\n",
    "6. Untuk **Company Size**, karena data Data Scientist yang mencari pekerjaan baru didominasi oleh data Unknown, perlu data yang lebih banyak untuk meninjau kolom tersebut. Sama halnya dengan **Company Type**\n",
    "7. Dari plot **Last New Job**, dapat dilihat bahwa Data Scientist yang mencari pekerjaan baru paling banyak merupakan DS yang baru ganti pekerjaan setahun sebelumnya. Hal ini mungkin dikarenakan belum menemukan tempat yang cocok untuk mereka. Data kedua terbanyak adalah dari DS yang belum pernah ganti pekerjaan sebelumnya. Hal ini mungkin karena mereka ingin mencari tantangan baru\n",
    "8. Didapat juga bahwa Data Scientist yang mencari pekerjaan baru paling bahwa memiliki pengalaman yang relevan\n",
    "9. Dari heatmap, dapat dilihat bahwa kolom `enrolled_university` memiliki korelasi positif paling besar dengan kolom `target`. Sedangkan kolom `city_development_index` memiliki korelasi negatif paling besar dengan kolom `target`\n",
    "***\n",
    "Pada **Data Preprocessing**, dilakukan encoding kolom `experience`, `company_size`, dan `city` ke dalam bentuk numerik. Selain itu, dibuat pipeline untuk scaling kolom numerik dan OneHotEncode kolom kategorikal lainnya\n",
    "\n",
    "Dilakukan juga proses **Hyperparameter Tuning** menggunakan GridSearchCV untuk mencari kombinasi hyperparameter terbaik. Scoring yang digunakan adalah Recall karena ingin mencari model yang dapat paling banyak memprediksi jumlah Data Scientist yang mencari pekerjaan baru dengan akurat. Kombinasi hyperparameter terbaik akan digunakan pada proses model defining\n",
    "***\n",
    "Model yang digunakan pada Milestone Project kali ini adalah **Logistic Regression, SVC, Decision Tree, Random Forest, AdaBoost, GradientBoost, K-Nearest Neighbor, dan Naive Bayes**. Setelah semua model dibandingkan, didapat bahwa model Naive Bayes merupakan model yang menghasilkan recall score yang paling tinggi\n",
    "\n",
    "Namun, performa dari semua model terlihat kurang baik. Maka dari itu, dilakukan juga proses oversampling menggunakan SMOTE untuk melihat apakah hal tersebut dapat meningkatkan performa model. Setelah proses oversampling, dicoba kembali Hyperparameter Tuning dan Model Training menggunakan data yang baru. Untuk menghemat waktu, hanya dicoba 4 model, yaitu Logistic Regression, Random Forest, GradientBoost, dan Naive Bayes. Model Random Forest dan GradientBoost mengalami overfitting. Maka dari itu, hanya dilakukan perbandingan performa antara model Logistic Regression dan Naive Bayes, setelah dan sebelum proses oversampling\n",
    "\n",
    "Setelah dibandingkan, didapat bahwa **model Logistic Regression setelah proses oversampling memiliki performa terbaik**, dengan Recall score paling tinggi. Dapat dilihat juga bahwa terdapat peningkatan yang jauh antara performa model Logistic Regression sebelum oversampling dan sesudah\n",
    "***\n",
    "Model yang terpilih kemudian digunakan pada **Model Inference**, dan dari test data, diprediksi terdapat 830 Data Scientist yang mencari pekerjaan baru dan 1263 yang tidak"
   ]
  },
  {
   "cell_type": "code",
   "execution_count": null,
   "metadata": {},
   "outputs": [],
   "source": []
  }
 ],
 "metadata": {
  "kernelspec": {
   "display_name": "Python 3",
   "language": "python",
   "name": "python3"
  },
  "language_info": {
   "codemirror_mode": {
    "name": "ipython",
    "version": 3
   },
   "file_extension": ".py",
   "mimetype": "text/x-python",
   "name": "python",
   "nbconvert_exporter": "python",
   "pygments_lexer": "ipython3",
   "version": "3.8.3"
  }
 },
 "nbformat": 4,
 "nbformat_minor": 4
}
